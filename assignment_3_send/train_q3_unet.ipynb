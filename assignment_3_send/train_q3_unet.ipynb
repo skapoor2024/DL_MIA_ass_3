{
 "cells": [
  {
   "cell_type": "code",
   "execution_count": 1,
   "metadata": {},
   "outputs": [],
   "source": [
    "import random\n",
    "import numpy as np\n",
    "import matplotlib.pyplot as plt\n",
    "import seaborn as sns\n",
    "import PIL.Image as Image\n",
    "import os\n",
    "import math"
   ]
  },
  {
   "cell_type": "code",
   "execution_count": 2,
   "metadata": {},
   "outputs": [],
   "source": [
    "from sklearn.model_selection import train_test_split\n",
    "import torch\n",
    "from torch.utils.data import Dataset, DataLoader\n",
    "from torchvision import transforms\n",
    "from torch.utils.tensorboard import SummaryWriter\n"
   ]
  },
  {
   "cell_type": "code",
   "execution_count": 3,
   "metadata": {},
   "outputs": [],
   "source": [
    "from model import Unet"
   ]
  },
  {
   "cell_type": "code",
   "execution_count": 4,
   "metadata": {},
   "outputs": [],
   "source": [
    "class SegDataNp(Dataset):\n",
    "\n",
    "    def __init__(self,image_paths,img_mean,img_std,transform = None):\n",
    "        super().__init__()\n",
    "        self.image_paths = image_paths\n",
    "        self.transform = transform\n",
    "        self.img_mean = img_mean\n",
    "        self.img_std = img_std\n",
    "\n",
    "    \n",
    "    def __len__(self):\n",
    "        return len(self.image_paths)\n",
    "\n",
    "    def __getitem__(self, index):\n",
    "\n",
    "        file =  np.load(self.image_paths[index])\n",
    "\n",
    "        image = file[0]\n",
    "        mask = file[1]\n",
    "\n",
    "        image = torch.from_numpy(image).to(torch.float32)\n",
    "        mask = torch.from_numpy(mask).to(torch.long)\n",
    "\n",
    "        image = torch.unsqueeze(torch.unsqueeze(image,dim=0),dim=0)\n",
    "        mask = torch.unsqueeze(torch.unsqueeze(mask,dim=0),dim=0)\n",
    "        \n",
    "        basic_image_transform = transforms.Compose(transforms=[\n",
    "            transforms.Resize(size = (128,128)),\n",
    "            transforms.Normalize(mean = self.img_mean,std = self.img_std),\n",
    "        ])\n",
    "\n",
    "        basic_mask_transform = transforms.Compose(transforms=[\n",
    "            transforms.Resize(size = (128,128)),\n",
    "        ])\n",
    "\n",
    "        image = basic_image_transform(image)\n",
    "        mask = basic_mask_transform(mask)\n",
    "\n",
    "        if self.transform:\n",
    "\n",
    "            image = self.transform(image)\n",
    "            mask = self.transform(mask)\n",
    "            \n",
    "        image = image.squeeze()\n",
    "        mask = mask.squeeze()\n",
    "        \n",
    "        sample = {'image':image,'mask':mask}\n",
    "\n",
    "        return sample"
   ]
  },
  {
   "cell_type": "code",
   "execution_count": 5,
   "metadata": {},
   "outputs": [],
   "source": [
    "data_dir = '/home/UFAD/s.kapoor/GrainGrowth/skapoor/dl_mis/ACDC/train_files'\n",
    "total_input_files = []\n",
    "for file in os.listdir(data_dir):\n",
    "    if file.endswith('.npy'):\n",
    "        total_input_files.append(os.path.join(data_dir,file))"
   ]
  },
  {
   "cell_type": "code",
   "execution_count": 6,
   "metadata": {},
   "outputs": [],
   "source": [
    "from tqdm import tqdm"
   ]
  },
  {
   "cell_type": "code",
   "execution_count": 7,
   "metadata": {},
   "outputs": [],
   "source": [
    "import gc"
   ]
  },
  {
   "cell_type": "code",
   "execution_count": 9,
   "metadata": {},
   "outputs": [],
   "source": [
    "def train():\n",
    "\n",
    "    seed = 13\n",
    "    torch.manual_seed(seed)\n",
    "    best_v_loss = 1_000_000\n",
    "\n",
    "    use_cuda = torch.cuda.is_available()\n",
    "    device = torch.device(\"cuda:1\" if use_cuda else \"cpu\")\n",
    "    \n",
    "    model = Unet(1,4)\n",
    "    model.to(device)\n",
    "    epochs = 50\n",
    "    loss_func = torch.nn.CrossEntropyLoss(weight = torch.tensor([0.0043484 , 0.3454297 , 0.32142933, 0.32879258])) # calculated class imbalance weight\n",
    "    loss_func.to(device)\n",
    "#     optimizer = torch.optim.Adam(model.parameters(),lr = 0.001)\n",
    "    optimizer = torch.optim.SGD(model.parameters(),lr = 0.01,momentum = 0.9, weight_decay = 1e-4)\n",
    "    scheduler = torch.optim.lr_scheduler.ReduceLROnPlateau(optimizer = optimizer,factor = 0.8,min_lr=1e-4)\n",
    "    pth = os.getcwd()\n",
    "    model_path = os.path.join(pth,'model_q3_unet')\n",
    "    log_dir = os.path.join(model_path,'runs')\n",
    "    wts_path = os.path.join(model_path,'weigths')\n",
    "\n",
    "    if os.path.exists(model_path) == False:\n",
    "        os.mkdir(model_path)\n",
    "        \n",
    "        os.mkdir(log_dir)\n",
    "        \n",
    "        os.mkdir(wts_path)\n",
    "    \n",
    "    writer = SummaryWriter(log_dir=log_dir)\n",
    "\n",
    "    #splitting the dataset into traininig and validation set\n",
    "    train_img,valid_img = train_test_split(total_input_files,test_size=0.2,random_state=seed)\n",
    "    train_data = SegDataNp(image_paths = train_img,img_mean=90,img_std=101) # calculated mean and std of the bianry images.\n",
    "    valid_data = SegDataNp(image_paths = valid_img,img_mean=90,img_std=101)\n",
    "    train_dataloader = DataLoader(train_data,batch_size = 8,shuffle = True,pin_memory = True)\n",
    "    valid_dataloader = DataLoader(valid_data,batch_size = 8,shuffle = False,pin_memory = True)\n",
    "\n",
    "    #print(\"After Model to device : \",torch.cuda.memory_allocated(device)/(1024*1024))\n",
    "    for e in tqdm(range(epochs)):\n",
    "\n",
    "        #training the model \n",
    "        print('Epoch {0}'.format(e+1))\n",
    "        epoch_loss = 0.0\n",
    "        run_loss = 0.0\n",
    "        model.train(True)\n",
    "\n",
    "        for i,batch in enumerate(train_dataloader):\n",
    "            \n",
    "            image = batch['image'].to(device)\n",
    "            mask = batch['mask'].to(device)\n",
    "            \n",
    "            image = torch.unsqueeze(image,axis = 1)\n",
    "            mask = torch.unsqueeze(mask,axis = 1)\n",
    "            \n",
    "            #print(image.size())\n",
    "            #print(mask.size())\n",
    "            \n",
    "            \n",
    "    \n",
    "            #print(batch['image'].shape)\n",
    "            v_img = transforms.RandomVerticalFlip(p=1)(image)\n",
    "            h_img = transforms.RandomHorizontalFlip(p=1)(image)\n",
    "            r_img = transforms.RandomRotation(degrees=(-25,25))(image)\n",
    "            image_final = torch.cat((image,v_img,h_img,r_img),0)\n",
    "\n",
    "            #print(image_final.shape)\n",
    "                    \n",
    "            v_mask = transforms.RandomVerticalFlip(p=1)(mask)\n",
    "            h_mask = transforms.RandomHorizontalFlip(p=1)(mask)\n",
    "            r_mask = transforms.RandomRotation(degrees=(-25,25))(mask)\n",
    "            mask_final = torch.cat((mask,v_mask,h_mask,r_mask),0)\n",
    "            mask_final = torch.squeeze(mask_final)\n",
    "            #print(mask_final.shape)\n",
    "            \n",
    "            #break\n",
    "            \n",
    "#             image_final.to(device)\n",
    "#             mask_final.to(device)\n",
    "            \n",
    "#             print(image_final.dtype)\n",
    "#             print(mask_final.dtype)\n",
    "#             print(device)\n",
    "            #a = torch.cuda.memory_allocated(device)/(1024*1024)\n",
    "            optimizer.zero_grad()\n",
    "            pred = model.forward(image_final)\n",
    "            #print(\"after forward pass\", torch.cuda.memory_allocated(device)/(1024*1024))\n",
    "            #b = torch.cuda.memory_allocated(device)/(1024*1024)\n",
    "            #print(\"memory consumed by forward_pass\",b-a)\n",
    "            loss = loss_func(pred,mask_final)\n",
    "            \n",
    "\n",
    "            run_loss = run_loss + loss.item()\n",
    "            epoch_loss = epoch_loss + loss.item()\n",
    "            \n",
    "            loss.backward()\n",
    "            #print(\"memory after backward pass \", torch.cuda.memory_allocated(device)/(1024*1024))\n",
    "            optimizer.step()\n",
    "            #print(\"memory after optimizer \",torch.cuda.memory_allocated(device)/(1024*1024))\n",
    "\n",
    "            #print('the current loss is {0}'.format(run_loss))\n",
    "            \n",
    "            #break\n",
    "            \n",
    "#             del mask_final\n",
    "#             del image_final\n",
    "#             del pred\n",
    "#             del v_img\n",
    "#             del h_img\n",
    "#             del r_img\n",
    "#             del v_mask\n",
    "#             del h_mask\n",
    "#             del r_mask\n",
    "#             del mask\n",
    "#             del image\n",
    "            \n",
    "            #print(\"memory after delete \",torch.cuda.memory_allocated(device)/(1024*1024))\n",
    "            \n",
    "\n",
    "            if(i%100 == 99):\n",
    "                \n",
    "#                 for obj in gc.get_objects():\n",
    "#                     try:\n",
    "#                         if torch.is_tensor(obj) or (hasattr(obj,'data') and torch.is_tensor(obg.data)):\n",
    "#                             print(type(obj),obj.size())\n",
    "#                     except:\n",
    "#                         pass\n",
    "                \n",
    "\n",
    "                print(\"\\tBatch Loss for curent for {0} is {1:.5f}\".format(i,run_loss/100))\n",
    "                run_loss = 0.0\n",
    "                \n",
    "        #break\n",
    "        avg_e_loss = epoch_loss/(i+1)\n",
    "        print('The average loss for the epoch is {0}'.format(avg_e_loss))\n",
    "\n",
    "        #validating the model\n",
    "        model.train(False)\n",
    "\n",
    "        val_loss = 0.0\n",
    "\n",
    "        for k,batch in enumerate(valid_dataloader):\n",
    "            final_image = torch.unsqueeze(batch['image'],1).to(device)\n",
    "            final_mask = batch['mask'].to(device)\n",
    "\n",
    "            pred = model.forward(final_image)\n",
    "            loss = loss_func(pred,final_mask)\n",
    "\n",
    "            val_loss+= loss.item()\n",
    "            \n",
    "#             del final_image\n",
    "#             del final_mask\n",
    "            #break\n",
    "        \n",
    "        \n",
    "\n",
    "        avg_val_loss = val_loss/(k+1)\n",
    "        print('The average validation loss for the epoch is {0:.5f}'.format(avg_val_loss))\n",
    "        writer.add_scalars('Training vs. Validation Loss',\n",
    "                    { 'Training' : avg_e_loss, 'Validation' : avg_val_loss },\n",
    "                    e)\n",
    "        \n",
    "        if avg_val_loss < best_v_loss:\n",
    "\n",
    "            best_v_loss = avg_val_loss\n",
    "            best_wt_path = os.path.join(wts_path,'best_epoch'+str(e))\n",
    "            \n",
    "\n",
    "        writer.flush()\n",
    "        \n",
    "\n",
    "        #break\n",
    "        wt_path =  os.path.join(wts_path,'epoch_'+str(e))\n",
    "        torch.save(model.state_dict(), wt_path)\n",
    "    torch.save(model.state_dict(), best_wt_path)"
   ]
  },
  {
   "cell_type": "code",
   "execution_count": 10,
   "metadata": {
    "scrolled": true
   },
   "outputs": [
    {
     "name": "stderr",
     "output_type": "stream",
     "text": [
      "\r",
      "  0%|          | 0/50 [00:00<?, ?it/s]"
     ]
    },
    {
     "name": "stdout",
     "output_type": "stream",
     "text": [
      "Epoch 1\n",
      "\tBatch Loss for curent for 99 is 1.04825\n",
      "The average loss for the epoch is 0.8692965813332203\n",
      "The average validation loss for the epoch is 0.50054\n"
     ]
    },
    {
     "name": "stderr",
     "output_type": "stream",
     "text": [
      "\r",
      "  2%|▏         | 1/50 [01:22<1:07:33, 82.72s/it]"
     ]
    },
    {
     "name": "stdout",
     "output_type": "stream",
     "text": [
      "Epoch 2\n",
      "\tBatch Loss for curent for 99 is 0.39408\n",
      "The average loss for the epoch is 0.3499760123759664\n",
      "The average validation loss for the epoch is 0.23893\n"
     ]
    },
    {
     "name": "stderr",
     "output_type": "stream",
     "text": [
      "\r",
      "  4%|▍         | 2/50 [02:37<1:02:19, 77.90s/it]"
     ]
    },
    {
     "name": "stdout",
     "output_type": "stream",
     "text": [
      "Epoch 3\n",
      "\tBatch Loss for curent for 99 is 0.27339\n",
      "The average loss for the epoch is 0.2623665232152839\n",
      "The average validation loss for the epoch is 0.18517\n"
     ]
    },
    {
     "name": "stderr",
     "output_type": "stream",
     "text": [
      "\r",
      "  6%|▌         | 3/50 [03:56<1:01:28, 78.47s/it]"
     ]
    },
    {
     "name": "stdout",
     "output_type": "stream",
     "text": [
      "Epoch 4\n",
      "\tBatch Loss for curent for 99 is 0.24243\n",
      "The average loss for the epoch is 0.24229498254379053\n",
      "The average validation loss for the epoch is 0.18106\n"
     ]
    },
    {
     "name": "stderr",
     "output_type": "stream",
     "text": [
      "\r",
      "  8%|▊         | 4/50 [05:14<1:00:11, 78.51s/it]"
     ]
    },
    {
     "name": "stdout",
     "output_type": "stream",
     "text": [
      "Epoch 5\n",
      "\tBatch Loss for curent for 99 is 0.23943\n",
      "The average loss for the epoch is 0.23542679284567608\n",
      "The average validation loss for the epoch is 0.17846\n"
     ]
    },
    {
     "name": "stderr",
     "output_type": "stream",
     "text": [
      "\r",
      " 10%|█         | 5/50 [06:30<58:09, 77.54s/it]  "
     ]
    },
    {
     "name": "stdout",
     "output_type": "stream",
     "text": [
      "Epoch 6\n",
      "\tBatch Loss for curent for 99 is 0.22303\n",
      "The average loss for the epoch is 0.2174159073080692\n",
      "The average validation loss for the epoch is 0.17157\n"
     ]
    },
    {
     "name": "stderr",
     "output_type": "stream",
     "text": [
      "\r",
      " 12%|█▏        | 6/50 [07:44<55:53, 76.22s/it]"
     ]
    },
    {
     "name": "stdout",
     "output_type": "stream",
     "text": [
      "Epoch 7\n",
      "\tBatch Loss for curent for 99 is 0.21432\n",
      "The average loss for the epoch is 0.20864287248924765\n",
      "The average validation loss for the epoch is 0.16462\n"
     ]
    },
    {
     "name": "stderr",
     "output_type": "stream",
     "text": [
      "\r",
      " 14%|█▍        | 7/50 [08:59<54:16, 75.73s/it]"
     ]
    },
    {
     "name": "stdout",
     "output_type": "stream",
     "text": [
      "Epoch 8\n",
      "\tBatch Loss for curent for 99 is 0.19432\n",
      "The average loss for the epoch is 0.19563293035741877\n",
      "The average validation loss for the epoch is 0.14593\n"
     ]
    },
    {
     "name": "stderr",
     "output_type": "stream",
     "text": [
      "\r",
      " 16%|█▌        | 8/50 [10:15<53:05, 75.86s/it]"
     ]
    },
    {
     "name": "stdout",
     "output_type": "stream",
     "text": [
      "Epoch 9\n",
      "\tBatch Loss for curent for 99 is 0.19393\n",
      "The average loss for the epoch is 0.19261999911974861\n",
      "The average validation loss for the epoch is 0.15146\n"
     ]
    },
    {
     "name": "stderr",
     "output_type": "stream",
     "text": [
      "\r",
      " 18%|█▊        | 9/50 [11:31<51:52, 75.92s/it]"
     ]
    },
    {
     "name": "stdout",
     "output_type": "stream",
     "text": [
      "Epoch 10\n",
      "\tBatch Loss for curent for 99 is 0.18893\n",
      "The average loss for the epoch is 0.1852908651320098\n",
      "The average validation loss for the epoch is 0.14338\n"
     ]
    },
    {
     "name": "stderr",
     "output_type": "stream",
     "text": [
      "\r",
      " 20%|██        | 10/50 [12:48<50:47, 76.20s/it]"
     ]
    },
    {
     "name": "stdout",
     "output_type": "stream",
     "text": [
      "Epoch 11\n",
      "\tBatch Loss for curent for 99 is 0.17740\n",
      "The average loss for the epoch is 0.17924849529072875\n",
      "The average validation loss for the epoch is 0.17808\n"
     ]
    },
    {
     "name": "stderr",
     "output_type": "stream",
     "text": [
      "\r",
      " 22%|██▏       | 11/50 [14:03<49:15, 75.79s/it]"
     ]
    },
    {
     "name": "stdout",
     "output_type": "stream",
     "text": [
      "Epoch 12\n",
      "\tBatch Loss for curent for 99 is 0.17256\n",
      "The average loss for the epoch is 0.17418889046027397\n",
      "The average validation loss for the epoch is 0.13361\n"
     ]
    },
    {
     "name": "stderr",
     "output_type": "stream",
     "text": [
      "\r",
      " 24%|██▍       | 12/50 [15:18<48:01, 75.83s/it]"
     ]
    },
    {
     "name": "stdout",
     "output_type": "stream",
     "text": [
      "Epoch 13\n",
      "\tBatch Loss for curent for 99 is 0.17108\n",
      "The average loss for the epoch is 0.16927040290302006\n",
      "The average validation loss for the epoch is 0.14485\n"
     ]
    },
    {
     "name": "stderr",
     "output_type": "stream",
     "text": [
      "\r",
      " 26%|██▌       | 13/50 [16:33<46:33, 75.49s/it]"
     ]
    },
    {
     "name": "stdout",
     "output_type": "stream",
     "text": [
      "Epoch 14\n",
      "\tBatch Loss for curent for 99 is 0.20551\n",
      "The average loss for the epoch is 0.1944253922913087\n",
      "The average validation loss for the epoch is 0.12707\n"
     ]
    },
    {
     "name": "stderr",
     "output_type": "stream",
     "text": [
      "\r",
      " 28%|██▊       | 14/50 [17:49<45:23, 75.66s/it]"
     ]
    },
    {
     "name": "stdout",
     "output_type": "stream",
     "text": [
      "Epoch 15\n",
      "\tBatch Loss for curent for 99 is 0.17152\n",
      "The average loss for the epoch is 0.1722160724835246\n",
      "The average validation loss for the epoch is 0.13364\n"
     ]
    },
    {
     "name": "stderr",
     "output_type": "stream",
     "text": [
      "\r",
      " 30%|███       | 15/50 [19:05<44:05, 75.59s/it]"
     ]
    },
    {
     "name": "stdout",
     "output_type": "stream",
     "text": [
      "Epoch 16\n",
      "\tBatch Loss for curent for 99 is 0.16491\n",
      "The average loss for the epoch is 0.16840916833016262\n",
      "The average validation loss for the epoch is 0.15651\n"
     ]
    },
    {
     "name": "stderr",
     "output_type": "stream",
     "text": [
      "\r",
      " 32%|███▏      | 16/50 [20:20<42:46, 75.48s/it]"
     ]
    },
    {
     "name": "stdout",
     "output_type": "stream",
     "text": [
      "Epoch 17\n",
      "\tBatch Loss for curent for 99 is 0.15852\n",
      "The average loss for the epoch is 0.15711854565986164\n",
      "The average validation loss for the epoch is 0.12109\n"
     ]
    },
    {
     "name": "stderr",
     "output_type": "stream",
     "text": [
      "\r",
      " 34%|███▍      | 17/50 [21:40<42:12, 76.73s/it]"
     ]
    },
    {
     "name": "stdout",
     "output_type": "stream",
     "text": [
      "Epoch 18\n",
      "\tBatch Loss for curent for 99 is 0.15366\n",
      "The average loss for the epoch is 0.1538480065802005\n",
      "The average validation loss for the epoch is 0.12472\n"
     ]
    },
    {
     "name": "stderr",
     "output_type": "stream",
     "text": [
      "\r",
      " 36%|███▌      | 18/50 [22:55<40:42, 76.33s/it]"
     ]
    },
    {
     "name": "stdout",
     "output_type": "stream",
     "text": [
      "Epoch 19\n",
      "\tBatch Loss for curent for 99 is 0.14877\n",
      "The average loss for the epoch is 0.15319940833989237\n",
      "The average validation loss for the epoch is 0.14424\n"
     ]
    },
    {
     "name": "stderr",
     "output_type": "stream",
     "text": [
      "\r",
      " 38%|███▊      | 19/50 [24:11<39:26, 76.33s/it]"
     ]
    },
    {
     "name": "stdout",
     "output_type": "stream",
     "text": [
      "Epoch 20\n",
      "\tBatch Loss for curent for 99 is 0.14303\n",
      "The average loss for the epoch is 0.14815359383197355\n",
      "The average validation loss for the epoch is 0.11756\n"
     ]
    },
    {
     "name": "stderr",
     "output_type": "stream",
     "text": [
      "\r",
      " 40%|████      | 20/50 [25:27<38:07, 76.24s/it]"
     ]
    },
    {
     "name": "stdout",
     "output_type": "stream",
     "text": [
      "Epoch 21\n",
      "\tBatch Loss for curent for 99 is 0.14754\n",
      "The average loss for the epoch is 0.15021556163333474\n",
      "The average validation loss for the epoch is 0.13660\n"
     ]
    },
    {
     "name": "stderr",
     "output_type": "stream",
     "text": [
      "\r",
      " 42%|████▏     | 21/50 [26:42<36:39, 75.86s/it]"
     ]
    },
    {
     "name": "stdout",
     "output_type": "stream",
     "text": [
      "Epoch 22\n",
      "\tBatch Loss for curent for 99 is 0.14390\n",
      "The average loss for the epoch is 0.14456710640672613\n",
      "The average validation loss for the epoch is 0.12201\n"
     ]
    },
    {
     "name": "stderr",
     "output_type": "stream",
     "text": [
      "\r",
      " 44%|████▍     | 22/50 [27:57<35:16, 75.58s/it]"
     ]
    },
    {
     "name": "stdout",
     "output_type": "stream",
     "text": [
      "Epoch 23\n",
      "\tBatch Loss for curent for 99 is 0.13948\n",
      "The average loss for the epoch is 0.1402467284839191\n",
      "The average validation loss for the epoch is 0.13260\n"
     ]
    },
    {
     "name": "stderr",
     "output_type": "stream",
     "text": [
      "\r",
      " 46%|████▌     | 23/50 [29:13<34:02, 75.64s/it]"
     ]
    },
    {
     "name": "stdout",
     "output_type": "stream",
     "text": [
      "Epoch 24\n",
      "\tBatch Loss for curent for 99 is 0.14247\n",
      "The average loss for the epoch is 0.14152484418365968\n",
      "The average validation loss for the epoch is 0.13655\n"
     ]
    },
    {
     "name": "stderr",
     "output_type": "stream",
     "text": [
      "\r",
      " 48%|████▊     | 24/50 [30:29<32:53, 75.90s/it]"
     ]
    },
    {
     "name": "stdout",
     "output_type": "stream",
     "text": [
      "Epoch 25\n",
      "\tBatch Loss for curent for 99 is 0.13798\n",
      "The average loss for the epoch is 0.1389207520488045\n",
      "The average validation loss for the epoch is 0.12137\n"
     ]
    },
    {
     "name": "stderr",
     "output_type": "stream",
     "text": [
      "\r",
      " 50%|█████     | 25/50 [31:47<31:50, 76.44s/it]"
     ]
    },
    {
     "name": "stdout",
     "output_type": "stream",
     "text": [
      "Epoch 26\n",
      "\tBatch Loss for curent for 99 is 0.13903\n",
      "The average loss for the epoch is 0.13779912904607064\n",
      "The average validation loss for the epoch is 0.14687\n"
     ]
    },
    {
     "name": "stderr",
     "output_type": "stream",
     "text": [
      "\r",
      " 52%|█████▏    | 26/50 [33:02<30:22, 75.93s/it]"
     ]
    },
    {
     "name": "stdout",
     "output_type": "stream",
     "text": [
      "Epoch 27\n",
      "\tBatch Loss for curent for 99 is 0.14657\n",
      "The average loss for the epoch is 0.14311560235566495\n",
      "The average validation loss for the epoch is 0.13506\n"
     ]
    },
    {
     "name": "stderr",
     "output_type": "stream",
     "text": [
      "\r",
      " 54%|█████▍    | 27/50 [34:17<29:02, 75.75s/it]"
     ]
    },
    {
     "name": "stdout",
     "output_type": "stream",
     "text": [
      "Epoch 28\n",
      "\tBatch Loss for curent for 99 is 0.13131\n",
      "The average loss for the epoch is 0.13428769299653187\n",
      "The average validation loss for the epoch is 0.12654\n"
     ]
    },
    {
     "name": "stderr",
     "output_type": "stream",
     "text": [
      "\r",
      " 56%|█████▌    | 28/50 [35:32<27:40, 75.48s/it]"
     ]
    },
    {
     "name": "stdout",
     "output_type": "stream",
     "text": [
      "Epoch 29\n",
      "\tBatch Loss for curent for 99 is 0.13279\n",
      "The average loss for the epoch is 0.13372582505354708\n",
      "The average validation loss for the epoch is 0.13097\n"
     ]
    },
    {
     "name": "stderr",
     "output_type": "stream",
     "text": [
      "\r",
      " 58%|█████▊    | 29/50 [36:47<26:23, 75.39s/it]"
     ]
    },
    {
     "name": "stdout",
     "output_type": "stream",
     "text": [
      "Epoch 30\n",
      "\tBatch Loss for curent for 99 is 0.12711\n",
      "The average loss for the epoch is 0.12608917416390325\n",
      "The average validation loss for the epoch is 0.12682\n"
     ]
    },
    {
     "name": "stderr",
     "output_type": "stream",
     "text": [
      "\r",
      " 60%|██████    | 30/50 [38:03<25:07, 75.36s/it]"
     ]
    },
    {
     "name": "stdout",
     "output_type": "stream",
     "text": [
      "Epoch 31\n",
      "\tBatch Loss for curent for 99 is 0.12782\n",
      "The average loss for the epoch is 0.127701094286292\n",
      "The average validation loss for the epoch is 0.12595\n"
     ]
    },
    {
     "name": "stderr",
     "output_type": "stream",
     "text": [
      "\r",
      " 62%|██████▏   | 31/50 [39:18<23:49, 75.26s/it]"
     ]
    },
    {
     "name": "stdout",
     "output_type": "stream",
     "text": [
      "Epoch 32\n",
      "\tBatch Loss for curent for 99 is 0.12305\n",
      "The average loss for the epoch is 0.12497028392490916\n",
      "The average validation loss for the epoch is 0.13473\n"
     ]
    },
    {
     "name": "stderr",
     "output_type": "stream",
     "text": [
      "\r",
      " 64%|██████▍   | 32/50 [40:36<22:51, 76.18s/it]"
     ]
    },
    {
     "name": "stdout",
     "output_type": "stream",
     "text": [
      "Epoch 33\n",
      "\tBatch Loss for curent for 99 is 0.12956\n",
      "The average loss for the epoch is 0.13031437891628106\n",
      "The average validation loss for the epoch is 0.12408\n"
     ]
    },
    {
     "name": "stderr",
     "output_type": "stream",
     "text": [
      "\r",
      " 66%|██████▌   | 33/50 [41:51<21:30, 75.94s/it]"
     ]
    },
    {
     "name": "stdout",
     "output_type": "stream",
     "text": [
      "Epoch 34\n",
      "\tBatch Loss for curent for 99 is 0.12223\n",
      "The average loss for the epoch is 0.12425690390052596\n",
      "The average validation loss for the epoch is 0.12764\n"
     ]
    },
    {
     "name": "stderr",
     "output_type": "stream",
     "text": [
      "\r",
      " 68%|██████▊   | 34/50 [43:07<20:12, 75.79s/it]"
     ]
    },
    {
     "name": "stdout",
     "output_type": "stream",
     "text": [
      "Epoch 35\n",
      "\tBatch Loss for curent for 99 is 0.12059\n",
      "The average loss for the epoch is 0.12099670829417193\n",
      "The average validation loss for the epoch is 0.14278\n"
     ]
    },
    {
     "name": "stderr",
     "output_type": "stream",
     "text": [
      "\r",
      " 70%|███████   | 35/50 [44:21<18:50, 75.37s/it]"
     ]
    },
    {
     "name": "stdout",
     "output_type": "stream",
     "text": [
      "Epoch 36\n",
      "\tBatch Loss for curent for 99 is 0.11963\n",
      "The average loss for the epoch is 0.12040099439196561\n",
      "The average validation loss for the epoch is 0.13620\n"
     ]
    },
    {
     "name": "stderr",
     "output_type": "stream",
     "text": [
      "\r",
      " 72%|███████▏  | 36/50 [45:37<17:38, 75.63s/it]"
     ]
    },
    {
     "name": "stdout",
     "output_type": "stream",
     "text": [
      "Epoch 37\n",
      "\tBatch Loss for curent for 99 is 0.12485\n",
      "The average loss for the epoch is 0.1237278549458968\n",
      "The average validation loss for the epoch is 0.14059\n"
     ]
    },
    {
     "name": "stderr",
     "output_type": "stream",
     "text": [
      "\r",
      " 74%|███████▍  | 37/50 [46:54<16:26, 75.86s/it]"
     ]
    },
    {
     "name": "stdout",
     "output_type": "stream",
     "text": [
      "Epoch 38\n",
      "\tBatch Loss for curent for 99 is 0.12059\n",
      "The average loss for the epoch is 0.12134721130132675\n",
      "The average validation loss for the epoch is 0.12853\n"
     ]
    },
    {
     "name": "stderr",
     "output_type": "stream",
     "text": [
      "\r",
      " 76%|███████▌  | 38/50 [48:10<15:10, 75.91s/it]"
     ]
    },
    {
     "name": "stdout",
     "output_type": "stream",
     "text": [
      "Epoch 39\n",
      "\tBatch Loss for curent for 99 is 0.12183\n",
      "The average loss for the epoch is 0.11927053812130584\n",
      "The average validation loss for the epoch is 0.13047\n"
     ]
    },
    {
     "name": "stderr",
     "output_type": "stream",
     "text": [
      "\r",
      " 78%|███████▊  | 39/50 [49:25<13:51, 75.58s/it]"
     ]
    },
    {
     "name": "stdout",
     "output_type": "stream",
     "text": [
      "Epoch 40\n",
      "\tBatch Loss for curent for 99 is 0.11775\n",
      "The average loss for the epoch is 0.1157727131122694\n",
      "The average validation loss for the epoch is 0.13438\n"
     ]
    },
    {
     "name": "stderr",
     "output_type": "stream",
     "text": [
      "\r",
      " 80%|████████  | 40/50 [50:34<12:18, 73.80s/it]"
     ]
    },
    {
     "name": "stdout",
     "output_type": "stream",
     "text": [
      "Epoch 41\n",
      "\tBatch Loss for curent for 99 is 0.11717\n",
      "The average loss for the epoch is 0.1145379366596956\n",
      "The average validation loss for the epoch is 0.13430\n"
     ]
    },
    {
     "name": "stderr",
     "output_type": "stream",
     "text": [
      "\r",
      " 82%|████████▏ | 41/50 [51:45<10:54, 72.76s/it]"
     ]
    },
    {
     "name": "stdout",
     "output_type": "stream",
     "text": [
      "Epoch 42\n",
      "\tBatch Loss for curent for 99 is 0.11967\n",
      "The average loss for the epoch is 0.11735429349526061\n",
      "The average validation loss for the epoch is 0.13797\n"
     ]
    },
    {
     "name": "stderr",
     "output_type": "stream",
     "text": [
      "\r",
      " 84%|████████▍ | 42/50 [52:54<09:33, 71.71s/it]"
     ]
    },
    {
     "name": "stdout",
     "output_type": "stream",
     "text": [
      "Epoch 43\n",
      "\tBatch Loss for curent for 99 is 0.11853\n",
      "The average loss for the epoch is 0.11735107219188001\n",
      "The average validation loss for the epoch is 0.13247\n"
     ]
    },
    {
     "name": "stderr",
     "output_type": "stream",
     "text": [
      "\r",
      " 86%|████████▌ | 43/50 [54:04<08:18, 71.15s/it]"
     ]
    },
    {
     "name": "stdout",
     "output_type": "stream",
     "text": [
      "Epoch 44\n",
      "\tBatch Loss for curent for 99 is 0.11178\n",
      "The average loss for the epoch is 0.11272203684321248\n",
      "The average validation loss for the epoch is 0.14692\n"
     ]
    },
    {
     "name": "stderr",
     "output_type": "stream",
     "text": [
      "\r",
      " 88%|████████▊ | 44/50 [55:13<07:03, 70.64s/it]"
     ]
    },
    {
     "name": "stdout",
     "output_type": "stream",
     "text": [
      "Epoch 45\n",
      "\tBatch Loss for curent for 99 is 0.11423\n",
      "The average loss for the epoch is 0.11119255805826936\n",
      "The average validation loss for the epoch is 0.15447\n"
     ]
    },
    {
     "name": "stderr",
     "output_type": "stream",
     "text": [
      "\r",
      " 90%|█████████ | 45/50 [56:23<05:51, 70.29s/it]"
     ]
    },
    {
     "name": "stdout",
     "output_type": "stream",
     "text": [
      "Epoch 46\n",
      "\tBatch Loss for curent for 99 is 0.10980\n",
      "The average loss for the epoch is 0.10979910233882086\n",
      "The average validation loss for the epoch is 0.14360\n"
     ]
    },
    {
     "name": "stderr",
     "output_type": "stream",
     "text": [
      "\r",
      " 92%|█████████▏| 46/50 [57:33<04:41, 70.32s/it]"
     ]
    },
    {
     "name": "stdout",
     "output_type": "stream",
     "text": [
      "Epoch 47\n",
      "\tBatch Loss for curent for 99 is 0.10173\n",
      "The average loss for the epoch is 0.10670923976061857\n",
      "The average validation loss for the epoch is 0.15961\n"
     ]
    },
    {
     "name": "stderr",
     "output_type": "stream",
     "text": [
      "\r",
      " 94%|█████████▍| 47/50 [58:42<03:29, 69.98s/it]"
     ]
    },
    {
     "name": "stdout",
     "output_type": "stream",
     "text": [
      "Epoch 48\n",
      "\tBatch Loss for curent for 99 is 0.10982\n",
      "The average loss for the epoch is 0.11175535217473644\n",
      "The average validation loss for the epoch is 0.13746\n"
     ]
    },
    {
     "name": "stderr",
     "output_type": "stream",
     "text": [
      "\r",
      " 96%|█████████▌| 48/50 [59:52<02:19, 69.84s/it]"
     ]
    },
    {
     "name": "stdout",
     "output_type": "stream",
     "text": [
      "Epoch 49\n",
      "\tBatch Loss for curent for 99 is 0.10777\n",
      "The average loss for the epoch is 0.10882660766078539\n",
      "The average validation loss for the epoch is 0.15971\n"
     ]
    },
    {
     "name": "stderr",
     "output_type": "stream",
     "text": [
      "\r",
      " 98%|█████████▊| 49/50 [1:01:01<01:09, 69.69s/it]"
     ]
    },
    {
     "name": "stdout",
     "output_type": "stream",
     "text": [
      "Epoch 50\n",
      "\tBatch Loss for curent for 99 is 0.10438\n",
      "The average loss for the epoch is 0.10428632803612355\n",
      "The average validation loss for the epoch is 0.16381\n"
     ]
    },
    {
     "name": "stderr",
     "output_type": "stream",
     "text": [
      "100%|██████████| 50/50 [1:02:11<00:00, 74.62s/it]\n"
     ]
    }
   ],
   "source": [
    "train()"
   ]
  },
  {
   "cell_type": "code",
   "execution_count": null,
   "metadata": {},
   "outputs": [],
   "source": []
  },
  {
   "cell_type": "code",
   "execution_count": null,
   "metadata": {},
   "outputs": [],
   "source": [
    "torch.cuda.empty_cache()"
   ]
  },
  {
   "cell_type": "code",
   "execution_count": 11,
   "metadata": {},
   "outputs": [],
   "source": [
    "def diceScoreMulti(inputs,targets,num_class = 4):\n",
    "    epsilon = 1e-6\n",
    "    #print('pred tensor size ',inputs.size())\n",
    "#     inputs = torch.nn.Softmax(dim = 1)(inputs)\n",
    "#     #print('pred tensor size after softmax',inputs.size())\n",
    "#     _,y_pred_idx = torch.max(inputs,dim = 1)\n",
    "    dice_scores = []\n",
    "    for class_idx in range(num_class):\n",
    "        y_true_class = (targets == class_idx).float()\n",
    "        y_pred_class = (y_pred_idx == class_idx).float()\n",
    "\n",
    "        intersection = torch.sum(y_true_class * y_pred_class, dim = (1,2))\n",
    "        total = torch.sum(y_true_class,dim = (1,2)) + torch.sum(y_pred_class,dim= (1,2))\n",
    "        dice = (2. * intersection + epsilon)/(total+epsilon)\n",
    "        dice_scores.append(torch.mean(dice).item()) # getting mean across batches of particular class\n",
    "    average_dice = torch.mean(torch.tensor(dice_scores)) # getting mean across classes\n",
    "    return average_dice"
   ]
  },
  {
   "cell_type": "code",
   "execution_count": 12,
   "metadata": {},
   "outputs": [],
   "source": [
    "test_dir = '/home/UFAD/s.kapoor/GrainGrowth/skapoor/dl_mis/ACDC/test_files'\n",
    "total_test_files = []\n",
    "for file in os.listdir(test_dir):\n",
    "    if file.endswith('.npy'):\n",
    "        total_test_files.append(os.path.join(test_dir,file))"
   ]
  },
  {
   "cell_type": "code",
   "execution_count": 15,
   "metadata": {},
   "outputs": [
    {
     "name": "stdout",
     "output_type": "stream",
     "text": [
      "The average dice score is 0.8370702806375505\n"
     ]
    }
   ],
   "source": [
    "# visualize the mask outputs\n",
    "use_cuda = torch.cuda.is_available()\n",
    "device = torch.device(\"cuda:1\" if use_cuda else \"cpu\")\n",
    "\n",
    "#     train_data = SegData(image_paths = train_img,mask_paths=train_mask,img_mean=[129.908, 129.908, 129.908],img_std=[64.484, 64.484, 64.484])\n",
    "#valid_data = SegData(image_paths = valid_img,mask_paths=valid_mask,img_mean=[129.908, 129.908, 129.908],img_std=[64.484, 64.484, 64.484])\n",
    "test_data = SegDataNp(image_paths = total_test_files,img_mean=90,img_std=101)\n",
    "model_vis = Unet(1,4)\n",
    "model_vis_path = '/home/UFAD/s.kapoor/GrainGrowth/skapoor/dl_mis/COVID-19_Radiography_Dataset/UNET/model_q3_unet/weigths/best_epoch19'\n",
    "model_vis.load_state_dict(torch.load(model_vis_path))\n",
    "model_vis.to(device)\n",
    "model_vis.eval()\n",
    "dice_scores = []\n",
    "\n",
    "test_dataloader = DataLoader(test_data,batch_size = 1,shuffle = True,pin_memory = True)\n",
    "for k,batch in enumerate(test_dataloader):\n",
    "    final_image = torch.unsqueeze(batch['image'],1).to(device)\n",
    "    final_mask = batch['mask'].to(device)\n",
    "\n",
    "    pred = model_vis.forward(final_image)\n",
    "    pred = torch.nn.Softmax(dim = 1)(pred)\n",
    "    #print('pred tensor size after softmax',inputs.size())\n",
    "    _,y_pred_idx = torch.max(pred,dim = 1)\n",
    "    dice_score = diceScoreMulti(y_pred_idx,final_mask)\n",
    "    dice_scores.append(dice_score.item())\n",
    "    #print('the dice score is {0}'.format(dice_score.item()))\n",
    "\n",
    "print('The average dice score is {0}'.format(np.mean(np.array(dice_scores))))"
   ]
  },
  {
   "cell_type": "code",
   "execution_count": 16,
   "metadata": {},
   "outputs": [
    {
     "data": {
      "text/plain": [
       "Text(0.5, 1.0, 'pred mask')"
      ]
     },
     "execution_count": 16,
     "metadata": {},
     "output_type": "execute_result"
    },
    {
     "data": {
      "image/png": "[encoded data removed]",
      "text/plain": [
       "<Figure size 864x288 with 1 Axes>"
      ]
     },
     "metadata": {
      "needs_background": "light"
     },
     "output_type": "display_data"
    },
    {
     "data": {
      "image/png": "[encoded data removed]",
      "text/plain": [
       "<Figure size 864x288 with 1 Axes>"
      ]
     },
     "metadata": {
      "needs_background": "light"
     },
     "output_type": "display_data"
    },
    {
     "data": {
      "image/png": "[encoded data removed]",
      "text/plain": [
       "<Figure size 864x288 with 1 Axes>"
      ]
     },
     "metadata": {
      "needs_background": "light"
     },
     "output_type": "display_data"
    }
   ],
   "source": [
    "final_image_transpose = torch.squeeze(final_image).cpu().detach().numpy()\n",
    "                                \n",
    "final_mask_transpose = torch.squeeze(final_mask).cpu().detach().numpy()\n",
    "\n",
    "pred_image_transpose = torch.squeeze(y_pred_idx).cpu().detach().numpy()\n",
    "\n",
    "\n",
    "                                \n",
    "                                \n",
    "plt.figure(figsize = (12,4))\n",
    "plt.subplot(1,3,1)\n",
    "plt.imshow(final_image_transpose)\n",
    "plt.title('orignal image')\n",
    "\n",
    "plt.figure(figsize = (12,4))\n",
    "plt.subplot(1,3,2)\n",
    "plt.imshow(final_mask_transpose)\n",
    "plt.title('orignal mask')\n",
    "\n",
    "plt.figure(figsize = (12,4))\n",
    "plt.subplot(1,3,3)\n",
    "plt.imshow(pred_image_transpose)\n",
    "plt.title('pred mask')"
   ]
  },
  {
   "cell_type": "code",
   "execution_count": null,
   "metadata": {},
   "outputs": [],
   "source": [
    "total_mean"
   ]
  },
  {
   "cell_type": "code",
   "execution_count": null,
   "metadata": {},
   "outputs": [],
   "source": [
    "total_std"
   ]
  },
  {
   "cell_type": "code",
   "execution_count": null,
   "metadata": {},
   "outputs": [],
   "source": [
    "import pytorch_model_summary as pms"
   ]
  },
  {
   "cell_type": "code",
   "execution_count": null,
   "metadata": {},
   "outputs": [],
   "source": [
    "model = Unet(3,1)"
   ]
  },
  {
   "cell_type": "code",
   "execution_count": null,
   "metadata": {},
   "outputs": [],
   "source": [
    "print(pms.summary(model, torch.zeros((32, 3, 256, 256)), show_input=True, show_hierarchical=True))"
   ]
  },
  {
   "cell_type": "code",
   "execution_count": null,
   "metadata": {},
   "outputs": [],
   "source": []
  }
 ],
 "metadata": {
  "kernelspec": {
   "display_name": "Python 3",
   "language": "python",
   "name": "python3"
  },
  "language_info": {
   "codemirror_mode": {
    "name": "ipython",
    "version": 3
   },
   "file_extension": ".py",
   "mimetype": "text/x-python",
   "name": "python",
   "nbconvert_exporter": "python",
   "pygments_lexer": "ipython3",
   "version": "3.8.8"
  }
 },
 "nbformat": 4,
 "nbformat_minor": 2
}
