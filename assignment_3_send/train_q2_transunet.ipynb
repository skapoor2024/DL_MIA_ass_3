{
 "cells": [
  {
   "cell_type": "code",
   "execution_count": 1,
   "metadata": {},
   "outputs": [],
   "source": [
    "import random\n",
    "import numpy as np\n",
    "import matplotlib.pyplot as plt\n",
    "import seaborn as sns\n",
    "import PIL.Image as Image\n",
    "import os\n",
    "import math"
   ]
  },
  {
   "cell_type": "code",
   "execution_count": 2,
   "metadata": {},
   "outputs": [],
   "source": [
    "from sklearn.model_selection import train_test_split\n",
    "import torch\n",
    "from torch.utils.data import Dataset, DataLoader\n",
    "from torchvision import transforms\n",
    "from torch.utils.tensorboard import SummaryWriter\n"
   ]
  },
  {
   "cell_type": "code",
   "execution_count": 3,
   "metadata": {},
   "outputs": [],
   "source": [
    "from transunet import TransUNet"
   ]
  },
  {
   "cell_type": "code",
   "execution_count": 4,
   "metadata": {},
   "outputs": [],
   "source": [
    "class SegData(Dataset):\n",
    "\n",
    "    def __init__(self,image_paths,mask_paths,img_mean,img_std,transform = None):\n",
    "        super().__init__()\n",
    "        self.image_paths = image_paths\n",
    "        self.mask_paths = mask_paths\n",
    "        self.transform = transform\n",
    "        self.img_mean = img_mean\n",
    "        self.img_std = img_std\n",
    "\n",
    "    \n",
    "    def __len__(self):\n",
    "        return len(self.image_paths)\n",
    "\n",
    "    def __getitem__(self, index):\n",
    "        \n",
    "        image = Image.open(self.image_paths[index]).convert('RGB')\n",
    "        mask = Image.open(self.mask_paths[index]).convert('L')\n",
    "\n",
    "        image = np.array(image)\n",
    "        mask = np.array(mask)\n",
    "\n",
    "        image = np.transpose(image,(2,0,1))\n",
    "\n",
    "        image = torch.from_numpy(image).to(torch.float32)\n",
    "        mask = torch.from_numpy(mask).to(torch.long)\n",
    "\n",
    "        image = torch.unsqueeze(image,0)\n",
    "        mask = torch.unsqueeze(torch.unsqueeze(mask,dim=0),dim=0)\n",
    "        \n",
    "        basic_image_transform = transforms.Compose(transforms=[\n",
    "            transforms.Resize(size = (128,128)),\n",
    "            transforms.Normalize(mean = self.img_mean,std = self.img_std),\n",
    "        ])\n",
    "\n",
    "        basic_mask_transform = transforms.Compose(transforms=[\n",
    "            transforms.Resize(size = (128,128)),\n",
    "            transforms.Lambda(lambda x: x/torch.max(x)),\n",
    "        ])\n",
    "\n",
    "        image = basic_image_transform(image)\n",
    "        mask = basic_mask_transform(mask)\n",
    "\n",
    "        image = image.squeeze()\n",
    "        mask = mask.squeeze()\n",
    "\n",
    "        if self.transform:\n",
    "\n",
    "            image = self.transform(image)\n",
    "            mask = self.transform(mask)\n",
    "        \n",
    "        sample = {'image':image,'mask':mask}\n",
    "\n",
    "        return sample"
   ]
  },
  {
   "cell_type": "code",
   "execution_count": 5,
   "metadata": {},
   "outputs": [],
   "source": [
    "data_dir = '/home/UFAD/s.kapoor/GrainGrowth/skapoor/dl_mis/COVID-19_Radiography_Dataset/COVID-19_Radiography_Dataset'\n",
    "data_fold = [x.name for x in os.scandir(data_dir) if x.is_dir()]\n",
    "data_fold.remove('.ipynb_checkpoints')\n",
    "\n",
    "total_input_files = []\n",
    "total_output_files = []\n",
    "for fold in data_fold:\n",
    "    fold_dir = os.path.join(data_dir,fold)\n",
    "    for subfold in [x.name for x in os.scandir(os.path.join(data_dir,fold)) if (x.is_dir and x.name[0]!='.' and x.name!='Thumbs.db')]:\n",
    "        subfold_dir = os.path.join(fold_dir,subfold)\n",
    "        if subfold == 'images':\n",
    "            total_input_files.extend([os.path.join(subfold_dir,img_name) for img_name in os.listdir(os.path.join(fold_dir,subfold)) if img_name!='Thumbs.db'])\n",
    "        elif subfold == 'masks':\n",
    "            total_output_files.extend([os.path.join(subfold_dir,img_name) for img_name in os.listdir(os.path.join(fold_dir,subfold)) if img_name!='Thumbs.db'])"
   ]
  },
  {
   "cell_type": "code",
   "execution_count": 6,
   "metadata": {},
   "outputs": [],
   "source": [
    "# h_img,w_img = Image.open(total_input_files[0]).convert('RGB').size\n",
    "# #get normalization values for the complete dataset\n",
    "# red_sum = 0\n",
    "# # blue_sum = 0\n",
    "# # green_sum = 0\n",
    "# # because orignal data is grey scale so values are distributed evenly across all three channels.\n",
    "# for files in total_input_files:\n",
    "\n",
    "#     pil_image = Image.open(files).convert('RGB')\n",
    "#     np_image = np.array(pil_image)\n",
    "\n",
    "#     red_values = np_image[:,:,0].flatten()\n",
    "#     # green_values = np_image[:,:,1].flatten()\n",
    "#     # blue_values = np_image[:,:,2].flatten()\n",
    "\n",
    "#     red_sum += np.sum(red_values)\n",
    "#     # blue_sum += np.sum(blue_values)\n",
    "#     # green_sum += np.sum(green_values)\n",
    "\n",
    "#     del(red_values)\n",
    "#     # del(green_values)\n",
    "#     # del(blue_values)\n",
    "\n",
    "# total_mean = [red_sum/(h_img*w_img*len(total_input_files))]*3\n",
    "\n",
    "# red_std_sum = 0\n",
    "# for files in total_input_files:\n",
    "\n",
    "#     pil_image = Image.open(files).convert('RGB')\n",
    "#     np_image = np.array(pil_image)\n",
    "\n",
    "#     red_values = (np_image[:,:,0].flatten() - total_mean[0])**2\n",
    "#     red_std_sum += np.sum(red_values)\n",
    "\n",
    "#     del(red_values)\n",
    "\n",
    "# total_std = [math.sqrt(red_std_sum/(h_img*w_img*len(total_input_files)))]*3"
   ]
  },
  {
   "cell_type": "code",
   "execution_count": 7,
   "metadata": {},
   "outputs": [],
   "source": [
    "from tqdm import tqdm"
   ]
  },
  {
   "cell_type": "code",
   "execution_count": 8,
   "metadata": {},
   "outputs": [],
   "source": [
    "import gc"
   ]
  },
  {
   "cell_type": "code",
   "execution_count": 12,
   "metadata": {},
   "outputs": [],
   "source": [
    "def train():\n",
    "\n",
    "    seed = 13\n",
    "    torch.manual_seed(seed)\n",
    "    best_v_loss = 1_000_000\n",
    "\n",
    "    use_cuda = torch.cuda.is_available()\n",
    "    device = torch.device(\"cuda:0\" if use_cuda else \"cpu\")\n",
    "    \n",
    "    model = TransUNet(img_dim=128,\n",
    "                          in_channels=3,\n",
    "                          out_channels=128,\n",
    "                          head_num=4,\n",
    "                          mlp_dim=512,\n",
    "                          block_num=8,\n",
    "                          patch_dim=16,\n",
    "                          class_num=1)\n",
    "    model.to(device)\n",
    "    epochs = 10\n",
    "    loss_func = torch.nn.BCEWithLogitsLoss()\n",
    "    loss_func.to(device)\n",
    "#     optimizer = torch.optim.Adam(model.parameters(),lr = 0.001)\n",
    "    optimizer = torch.optim.SGD(model.parameters(),lr = 0.01,momentum = 0.9, weight_decay = 1e-4)\n",
    "    scheduler = torch.optim.lr_scheduler.ReduceLROnPlateau(optimizer = optimizer,factor = 0.8,min_lr=1e-4)\n",
    "    pth = os.getcwd()\n",
    "    model_path = os.path.join(pth,'model_transunet')\n",
    "    log_dir = os.path.join(model_path,'runs')\n",
    "    wts_path = os.path.join(model_path,'weigths')\n",
    "\n",
    "    if os.path.exists(model_path) == False:\n",
    "        os.mkdir(model_path)\n",
    "        \n",
    "        os.mkdir(log_dir)\n",
    "        \n",
    "        os.mkdir(wts_path)\n",
    "    \n",
    "    writer = SummaryWriter(log_dir=log_dir)\n",
    "\n",
    "    #splitting the dataset into traininig and validation set\n",
    "    train_img,valid_img,train_mask,valid_mask = train_test_split(total_input_files,total_output_files,test_size=0.2,random_state=seed)\n",
    "    train_data = SegData(image_paths = train_img,mask_paths=train_mask,img_mean=[129.908, 129.908, 129.908],img_std=[64.484, 64.484, 64.484])\n",
    "    valid_data = SegData(image_paths = valid_img,mask_paths=valid_mask,img_mean=[129.908, 129.908, 129.908],img_std=[64.484, 64.484, 64.484])\n",
    "    train_dataloader = DataLoader(train_data,batch_size = 8,shuffle = True,pin_memory = True)\n",
    "    valid_dataloader = DataLoader(valid_data,batch_size = 8,shuffle = False,pin_memory = True)\n",
    "\n",
    "    #print(\"After Model to device : \",torch.cuda.memory_allocated(device)/(1024*1024))\n",
    "    for e in tqdm(range(epochs)):\n",
    "\n",
    "        #training the model \n",
    "        print('Epoch {0}'.format(e+1))\n",
    "        epoch_loss = 0.0\n",
    "        run_loss = 0.0\n",
    "        model.train(True)\n",
    "\n",
    "        for i,batch in enumerate(train_dataloader):\n",
    "            \n",
    "            image = batch['image'].to(device)\n",
    "            mask = batch['mask'].to(device)\n",
    "    \n",
    "            #print(batch['image'].shape)\n",
    "            v_img = transforms.RandomVerticalFlip(p=1)(image)\n",
    "            h_img = transforms.RandomHorizontalFlip(p=1)(image)\n",
    "            r_img = transforms.RandomRotation(degrees=(-25,25))(image)\n",
    "            image_final = torch.cat((image,v_img,h_img,r_img),0)\n",
    "\n",
    "            #print(image_final.shape)\n",
    "                    \n",
    "            v_mask = transforms.RandomVerticalFlip(p=1)(mask)\n",
    "            h_mask = transforms.RandomHorizontalFlip(p=1)(mask)\n",
    "            r_mask = transforms.RandomRotation(degrees=(-25,25))(mask)\n",
    "            mask_final = torch.cat((mask,v_mask,h_mask,r_mask),0)\n",
    "            mask_final = torch.unsqueeze(mask_final,1)\n",
    "            #print(mask_final.shape)\n",
    "            \n",
    "#             image_final.to(device)\n",
    "#             mask_final.to(device)\n",
    "            \n",
    "#             print(image_final.dtype)\n",
    "#             print(mask_final.dtype)\n",
    "#             print(device)\n",
    "            #a = torch.cuda.memory_allocated(device)/(1024*1024)\n",
    "            optimizer.zero_grad()\n",
    "            pred = model.forward(image_final)\n",
    "            #print(\"after forward pass\", torch.cuda.memory_allocated(device)/(1024*1024))\n",
    "            #b = torch.cuda.memory_allocated(device)/(1024*1024)\n",
    "            #print(\"memory consumed by forward_pass\",b-a)\n",
    "            loss = loss_func(pred,mask_final)\n",
    "            \n",
    "\n",
    "            run_loss = run_loss + loss.item()\n",
    "            epoch_loss = epoch_loss + loss.item()\n",
    "            \n",
    "            loss.backward()\n",
    "            #print(\"memory after backward pass \", torch.cuda.memory_allocated(device)/(1024*1024))\n",
    "            optimizer.step()\n",
    "            #print(\"memory after optimizer \",torch.cuda.memory_allocated(device)/(1024*1024))\n",
    "\n",
    "            #print('the current loss is {0}'.format(run_loss))\n",
    "            \n",
    "            #break\n",
    "            \n",
    "#             del mask_final\n",
    "#             del image_final\n",
    "#             del pred\n",
    "#             del v_img\n",
    "#             del h_img\n",
    "#             del r_img\n",
    "#             del v_mask\n",
    "#             del h_mask\n",
    "#             del r_mask\n",
    "#             del mask\n",
    "#             del image\n",
    "            \n",
    "            #print(\"memory after delete \",torch.cuda.memory_allocated(device)/(1024*1024))\n",
    "            \n",
    "\n",
    "            if(i%100 == 99):\n",
    "                \n",
    "#                 for obj in gc.get_objects():\n",
    "#                     try:\n",
    "#                         if torch.is_tensor(obj) or (hasattr(obj,'data') and torch.is_tensor(obg.data)):\n",
    "#                             print(type(obj),obj.size())\n",
    "#                     except:\n",
    "#                         pass\n",
    "                \n",
    "\n",
    "                print(\"\\tBatch Loss for curent for {0} is {1:.5f}\".format(i,run_loss/100))\n",
    "                run_loss = 0.0\n",
    "                \n",
    "\n",
    "        avg_e_loss = epoch_loss/(i+1)\n",
    "        print('The average loss for the epoch is {0}'.format(avg_e_loss))\n",
    "\n",
    "        #validating the model\n",
    "        model.train(False)\n",
    "\n",
    "        val_loss = 0.0\n",
    "\n",
    "        for k,batch in enumerate(valid_dataloader):\n",
    "            final_image = batch['image'].to(device)\n",
    "            final_mask = torch.unsqueeze(batch['mask'],1).to(device)\n",
    "\n",
    "            pred = model.forward(final_image)\n",
    "            loss = loss_func(pred,final_mask)\n",
    "\n",
    "            val_loss+= loss.item()\n",
    "            \n",
    "#             del final_image\n",
    "#             del final_mask\n",
    "            #break\n",
    "        \n",
    "        \n",
    "\n",
    "        avg_val_loss = val_loss/(k+1)\n",
    "        print('The average validation loss for the epoch is {0:.5f}'.format(avg_val_loss))\n",
    "        writer.add_scalars('Training vs. Validation Loss',\n",
    "                    { 'Training' : avg_e_loss, 'Validation' : avg_val_loss },\n",
    "                    e)\n",
    "        \n",
    "        if avg_val_loss < best_v_loss:\n",
    "\n",
    "            best_v_loss = avg_val_loss\n",
    "            best_wt_path = os.path.join(wts_path,'best_epoch'+str(e))\n",
    "            \n",
    "\n",
    "        writer.flush()\n",
    "        \n",
    "\n",
    "        #break\n",
    "        wt_path =  os.path.join(wts_path,'epoch_'+str(e))\n",
    "        torch.save(model.state_dict(), wt_path)\n",
    "    torch.save(model.state_dict(), best_wt_path)"
   ]
  },
  {
   "cell_type": "code",
   "execution_count": null,
   "metadata": {
    "scrolled": true
   },
   "outputs": [
    {
     "name": "stderr",
     "output_type": "stream",
     "text": [
      "\r",
      "  0%|          | 0/10 [00:00<?, ?it/s]"
     ]
    },
    {
     "name": "stdout",
     "output_type": "stream",
     "text": [
      "Epoch 1\n",
      "\tBatch Loss for curent for 99 is 0.27139\n",
      "\tBatch Loss for curent for 199 is 0.18830\n",
      "\tBatch Loss for curent for 299 is 0.16781\n",
      "\tBatch Loss for curent for 399 is 0.18179\n",
      "\tBatch Loss for curent for 499 is 0.16686\n",
      "\tBatch Loss for curent for 599 is 0.15789\n",
      "\tBatch Loss for curent for 699 is 0.15376\n",
      "\tBatch Loss for curent for 799 is 0.15047\n",
      "\tBatch Loss for curent for 899 is 0.14047\n",
      "\tBatch Loss for curent for 999 is 0.14640\n",
      "\tBatch Loss for curent for 1099 is 0.13656\n",
      "\tBatch Loss for curent for 1199 is 0.13719\n",
      "\tBatch Loss for curent for 1299 is 0.13912\n",
      "\tBatch Loss for curent for 1399 is 0.14299\n",
      "\tBatch Loss for curent for 1499 is 0.13080\n",
      "\tBatch Loss for curent for 1599 is 0.12957\n",
      "\tBatch Loss for curent for 1699 is 0.13041\n",
      "\tBatch Loss for curent for 1799 is 0.12230\n",
      "\tBatch Loss for curent for 1899 is 0.12601\n",
      "\tBatch Loss for curent for 1999 is 0.12376\n",
      "\tBatch Loss for curent for 2099 is 0.12813\n",
      "The average loss for the epoch is 0.15094587650989438\n",
      "The average validation loss for the epoch is 0.08013\n"
     ]
    },
    {
     "name": "stderr",
     "output_type": "stream",
     "text": [
      "\r",
      " 10%|█         | 1/10 [09:55<1:29:15, 595.09s/it]"
     ]
    },
    {
     "name": "stdout",
     "output_type": "stream",
     "text": [
      "Epoch 2\n"
     ]
    }
   ],
   "source": [
    "train()"
   ]
  },
  {
   "cell_type": "code",
   "execution_count": null,
   "metadata": {},
   "outputs": [],
   "source": [
    "torch.cuda.empty_cache()"
   ]
  },
  {
   "cell_type": "code",
   "execution_count": 25,
   "metadata": {},
   "outputs": [],
   "source": [
    "def diceScore(inputs, targets):\n",
    "    # Calculate intersection and union for each sample in the batch\n",
    "    epsilon = 1e-6\n",
    "    intersection = torch.sum(inputs * targets, dim=(1, 2, 3))  # Sum over height, width, and channels\n",
    "    total = torch.sum(inputs, dim=(1, 2, 3)) + torch.sum(targets, dim=(1, 2, 3))\n",
    "\n",
    "    # Calculate Dice coefficient with epsilon for numerical stability\n",
    "    dice_coefficient = (2. * intersection + epsilon) / (total + epsilon)\n",
    "\n",
    "    return torch.mean(dice_coefficient)"
   ]
  },
  {
   "cell_type": "code",
   "execution_count": 29,
   "metadata": {},
   "outputs": [
    {
     "name": "stdout",
     "output_type": "stream",
     "text": [
      "The average dice score is 0.960593689193462\n"
     ]
    }
   ],
   "source": [
    "# visualize the mask outputs\n",
    "use_cuda = torch.cuda.is_available()\n",
    "device = torch.device(\"cuda:0\" if use_cuda else \"cpu\")\n",
    "train_img,valid_img,train_mask,valid_mask = train_test_split(total_input_files,total_output_files,test_size=0.2,random_state=13)\n",
    "#     train_data = SegData(image_paths = train_img,mask_paths=train_mask,img_mean=[129.908, 129.908, 129.908],img_std=[64.484, 64.484, 64.484])\n",
    "valid_data = SegData(image_paths = valid_img,mask_paths=valid_mask,img_mean=[129.908, 129.908, 129.908],img_std=[64.484, 64.484, 64.484])\n",
    "model_vis = TransUNet(img_dim=128,\n",
    "                      in_channels=3,\n",
    "                      out_channels=128,\n",
    "                      head_num=4,\n",
    "                      mlp_dim=512,\n",
    "                      block_num=8,\n",
    "                      patch_dim=16,\n",
    "                      class_num=1)\n",
    "model_vis_path = '/home/UFAD/s.kapoor/GrainGrowth/skapoor/dl_mis/COVID-19_Radiography_Dataset/UNET/model_transunet/weigths/best_epoch8'\n",
    "model_vis.load_state_dict(torch.load(model_vis_path))\n",
    "model_vis.to(device)\n",
    "model_vis.eval()\n",
    "dice_scores = []\n",
    "\n",
    "test_dataloader = DataLoader(valid_data,batch_size = 1,shuffle = True,pin_memory = True)\n",
    "threshold = 0.5\n",
    "for k,batch in enumerate(test_dataloader):\n",
    "    final_image = batch['image'].to(device)\n",
    "    final_mask = torch.unsqueeze(batch['mask'],1)\n",
    "\n",
    "    pred = model_vis.forward(final_image)\n",
    "    pred = torch.sigmoid(pred).cpu().detach()\n",
    "    pred_score = torch.where(pred>0.5,torch.tensor(1),torch.tensor(0))\n",
    "    dice_score = diceScore(pred_score,final_mask)\n",
    "    dice_scores.append(dice_score.item())\n",
    "\n",
    "print('The average dice score is {0}'.format(np.mean(np.array(dice_scores))))"
   ]
  },
  {
   "cell_type": "code",
   "execution_count": 30,
   "metadata": {},
   "outputs": [
    {
     "name": "stderr",
     "output_type": "stream",
     "text": [
      "Clipping input data to the valid range for imshow with RGB data ([0..1] for floats or [0..255] for integers).\n"
     ]
    },
    {
     "data": {
      "text/plain": [
       "Text(0.5, 1.0, 'binary output')"
      ]
     },
     "execution_count": 30,
     "metadata": {},
     "output_type": "execute_result"
    },
    {
     "data": {
      "image/png": "[encoded data removed]",
      "text/plain": [
       "<Figure size 864x288 with 1 Axes>"
      ]
     },
     "metadata": {
      "needs_background": "light"
     },
     "output_type": "display_data"
    },
    {
     "data": {
      "image/png": "[encoded data removed]",
      "text/plain": [
       "<Figure size 864x288 with 1 Axes>"
      ]
     },
     "metadata": {
      "needs_background": "light"
     },
     "output_type": "display_data"
    },
    {
     "data": {
      "image/png": "[encoded data removed]",
      "text/plain": [
       "<Figure size 864x288 with 1 Axes>"
      ]
     },
     "metadata": {
      "needs_background": "light"
     },
     "output_type": "display_data"
    },
    {
     "data": {
      "image/png": "[encoded data removed]",
      "text/plain": [
       "<Figure size 864x288 with 1 Axes>"
      ]
     },
     "metadata": {
      "needs_background": "light"
     },
     "output_type": "display_data"
    }
   ],
   "source": [
    "final_image_show = torch.squeeze(final_image).cpu().detach().numpy()\n",
    "final_image_transpose = np.transpose(final_image_show,(1,2,0))\n",
    "                                \n",
    "final_mask_transpose = torch.squeeze(final_mask).cpu().detach().numpy()\n",
    "\n",
    "pred_image_transpose = torch.squeeze(pred).cpu().detach().numpy()\n",
    "                                \n",
    "bin_image_transpose = torch.squeeze(pred_score).cpu().detach().numpy()\n",
    "                                \n",
    "                                \n",
    "plt.figure(figsize = (12,4))\n",
    "plt.subplot(1,4,1)\n",
    "plt.imshow(final_image_transpose)\n",
    "plt.title('orignal image')\n",
    "\n",
    "plt.figure(figsize = (12,4))\n",
    "plt.subplot(1,4,2)\n",
    "plt.imshow(final_mask_transpose,cmap = 'gray')\n",
    "plt.title('orignal mask')\n",
    "\n",
    "plt.figure(figsize = (12,4))\n",
    "plt.subplot(1,4,3)\n",
    "plt.imshow(pred_image_transpose,cmap = 'jet',vmin = 0, vmax = 1)\n",
    "plt.title('pred map')\n",
    "\n",
    "plt.figure(figsize = (12,4))\n",
    "plt.subplot(1,4,4)\n",
    "plt.imshow(bin_image_transpose,cmap = 'gray')\n",
    "plt.title('binary output')"
   ]
  },
  {
   "cell_type": "code",
   "execution_count": null,
   "metadata": {},
   "outputs": [],
   "source": [
    "total_mean"
   ]
  },
  {
   "cell_type": "code",
   "execution_count": null,
   "metadata": {},
   "outputs": [],
   "source": [
    "total_std"
   ]
  },
  {
   "cell_type": "code",
   "execution_count": null,
   "metadata": {},
   "outputs": [],
   "source": [
    "import pytorch_model_summary as pms"
   ]
  },
  {
   "cell_type": "code",
   "execution_count": null,
   "metadata": {},
   "outputs": [],
   "source": [
    "model = Unet(3,1)"
   ]
  },
  {
   "cell_type": "code",
   "execution_count": null,
   "metadata": {},
   "outputs": [],
   "source": [
    "print(pms.summary(model, torch.zeros((32, 3, 256, 256)), show_input=True, show_hierarchical=True))"
   ]
  },
  {
   "cell_type": "code",
   "execution_count": null,
   "metadata": {},
   "outputs": [],
   "source": []
  }
 ],
 "metadata": {
  "kernelspec": {
   "display_name": "Python 3",
   "language": "python",
   "name": "python3"
  },
  "language_info": {
   "codemirror_mode": {
    "name": "ipython",
    "version": 3
   },
   "file_extension": ".py",
   "mimetype": "text/x-python",
   "name": "python",
   "nbconvert_exporter": "python",
   "pygments_lexer": "ipython3",
   "version": "3.8.8"
  }
 },
 "nbformat": 4,
 "nbformat_minor": 2
}
