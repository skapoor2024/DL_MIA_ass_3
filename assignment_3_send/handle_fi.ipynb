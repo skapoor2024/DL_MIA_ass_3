{
 "cells": [
  {
   "cell_type": "code",
   "execution_count": 1,
   "id": "63fd8011-57ca-42bd-a17e-62d0b2fc0a87",
   "metadata": {
    "scrolled": true
   },
   "outputs": [
    {
     "name": "stdout",
     "output_type": "stream",
     "text": [
      "Collecting nibabel\n",
      "  Downloading nibabel-5.1.0-py3-none-any.whl (3.3 MB)\n",
      "\u001b[2K     \u001b[90m━━━━━━━━━━━━━━━━━━━━━━━━━━━━━━━━━━━━━━━━\u001b[0m \u001b[32m3.3/3.3 MB\u001b[0m \u001b[31m5.6 MB/s\u001b[0m eta \u001b[36m0:00:00\u001b[0m00:01\u001b[0m00:01\u001b[0m\n",
      "\u001b[?25hRequirement already satisfied: importlib-resources>=1.3 in /opt/homebrew/Caskroom/miniforge/base/envs/tensorflow_metal/lib/python3.8/site-packages (from nibabel) (6.1.0)\n",
      "Requirement already satisfied: numpy>=1.19 in /opt/homebrew/Caskroom/miniforge/base/envs/tensorflow_metal/lib/python3.8/site-packages (from nibabel) (1.24.3)\n",
      "Requirement already satisfied: packaging>=17 in /opt/homebrew/Caskroom/miniforge/base/envs/tensorflow_metal/lib/python3.8/site-packages (from nibabel) (23.2)\n",
      "Requirement already satisfied: zipp>=3.1.0 in /opt/homebrew/Caskroom/miniforge/base/envs/tensorflow_metal/lib/python3.8/site-packages (from importlib-resources>=1.3->nibabel) (3.17.0)\n",
      "Installing collected packages: nibabel\n",
      "Successfully installed nibabel-5.1.0\n"
     ]
    }
   ],
   "source": [
    "!pip install nibabel"
   ]
  },
  {
   "cell_type": "code",
   "execution_count": 2,
   "id": "59ca7f48-76cc-4f69-b36a-fd29444e10d5",
   "metadata": {},
   "outputs": [],
   "source": [
    "import nibabel as nib"
   ]
  },
  {
   "cell_type": "code",
   "execution_count": 6,
   "id": "9fe2ef37-9d56-4d56-bfa9-40bb1aa3cb0c",
   "metadata": {},
   "outputs": [],
   "source": [
    "import os"
   ]
  },
  {
   "cell_type": "code",
   "execution_count": 30,
   "id": "ab15c65e-6467-454e-8f4b-57308851c97d",
   "metadata": {},
   "outputs": [],
   "source": [
    "import matplotlib.pyplot as plt"
   ]
  },
  {
   "cell_type": "code",
   "execution_count": 35,
   "id": "c388a3d8-29c7-4bb4-b80b-2ed30fc7be74",
   "metadata": {},
   "outputs": [],
   "source": [
    "import numpy as np"
   ]
  },
  {
   "cell_type": "code",
   "execution_count": 4,
   "id": "b966c996-4e3e-4967-8056-25fb95119e7f",
   "metadata": {},
   "outputs": [],
   "source": [
    "folder_path = '/Users/skapoor/Desktop/academics/academics_3/DL_MIS/assignment/assingment_3/ACDC/database/training/patient001'"
   ]
  },
  {
   "cell_type": "code",
   "execution_count": 7,
   "id": "e7bcefea-e9ee-4acc-a6d7-b9467168350f",
   "metadata": {},
   "outputs": [],
   "source": [
    "fii_files = [i for i in os.listdir(folder_path) if i.endswith('.nii.gz')]"
   ]
  },
  {
   "cell_type": "code",
   "execution_count": 90,
   "id": "ac253d1b-30c4-46ce-8bd4-137849875207",
   "metadata": {},
   "outputs": [
    {
     "data": {
      "text/plain": [
       "['patient001_frame01', 'nii', 'gz']"
      ]
     },
     "execution_count": 90,
     "metadata": {},
     "output_type": "execute_result"
    }
   ],
   "source": [
    "fii_files[0].split('.')"
   ]
  },
  {
   "cell_type": "code",
   "execution_count": 79,
   "id": "3bbfbadc-ff87-4b52-b715-2495ad10798c",
   "metadata": {},
   "outputs": [],
   "source": [
    "data = nib.load(os.path.join(folder_path,fii_files[1]))"
   ]
  },
  {
   "cell_type": "code",
   "execution_count": 80,
   "id": "24eca883-dca8-4477-9584-d31a25cc0c2c",
   "metadata": {},
   "outputs": [
    {
     "name": "stdout",
     "output_type": "stream",
     "text": [
      "(216, 256, 10)\n"
     ]
    }
   ],
   "source": [
    "print(data.shape)"
   ]
  },
  {
   "cell_type": "code",
   "execution_count": 133,
   "id": "691024dd-8631-4656-b9de-8e6b98e04173",
   "metadata": {},
   "outputs": [
    {
     "data": {
      "text/plain": [
       "(216, 256, 10)"
      ]
     },
     "execution_count": 133,
     "metadata": {},
     "output_type": "execute_result"
    }
   ],
   "source": [
    "data.shape"
   ]
  },
  {
   "cell_type": "code",
   "execution_count": null,
   "id": "d55c0863-f819-480c-bdb8-d0cce35d5050",
   "metadata": {},
   "outputs": [],
   "source": []
  },
  {
   "cell_type": "code",
   "execution_count": 81,
   "id": "3db01d3a-eca3-4af6-92bf-6f296f2d567c",
   "metadata": {},
   "outputs": [],
   "source": [
    "data_array = np.array(data.get_fdata())"
   ]
  },
  {
   "cell_type": "code",
   "execution_count": 84,
   "id": "1968e996-78f2-46e7-9cb6-490cf12fb365",
   "metadata": {},
   "outputs": [],
   "source": [
    "train_folder = '/Users/skapoor/Desktop/academics/academics_3/DL_MIS/assignment/assingment_3/ACDC/database/training'"
   ]
  },
  {
   "cell_type": "code",
   "execution_count": 160,
   "id": "7451be50-3e1c-43da-8e23-32d0566b8557",
   "metadata": {},
   "outputs": [],
   "source": [
    "test_folder = '/Users/skapoor/Desktop/academics/academics_3/DL_MIS/assignment/assingment_3/ACDC/database/testing'"
   ]
  },
  {
   "cell_type": "code",
   "execution_count": 87,
   "id": "bbc13a22-42e3-439e-b50c-e0c0a39cf8f4",
   "metadata": {},
   "outputs": [],
   "source": [
    "database_folder = '/Users/skapoor/Desktop/academics/academics_3/DL_MIS/assignment/assingment_3/ACDC/database'"
   ]
  },
  {
   "cell_type": "code",
   "execution_count": 145,
   "id": "e8127afd-94e1-4537-a766-1d02752a7162",
   "metadata": {},
   "outputs": [],
   "source": [
    "train_save_files = os.path.join(database_folder,'train_files')\n",
    "test_save_files = os.path.join(database_folder,'test_files')"
   ]
  },
  {
   "cell_type": "code",
   "execution_count": 147,
   "id": "f05360a7-bf5d-4385-bdda-3910caa3f36b",
   "metadata": {},
   "outputs": [],
   "source": [
    "os.mkdir(train_save_files)\n",
    "os.mkdir(test_save_files)"
   ]
  },
  {
   "cell_type": "code",
   "execution_count": 131,
   "id": "22aca511-05f2-4745-b24e-fec348b3ca4d",
   "metadata": {},
   "outputs": [],
   "source": [
    "def pair_strings_with_postfix(input_list):\n",
    "    paired_strings = {}  # Initialize an empty dictionary to store paired strings\n",
    "\n",
    "    for file in input_list:\n",
    "        if file.endswith('_gt'):\n",
    "            #print(file)\n",
    "            paired_strings[file[:-3]] = file\n",
    "    return paired_strings"
   ]
  },
  {
   "cell_type": "code",
   "execution_count": 150,
   "id": "4ebd53e3-836f-442f-84de-b8a56c488af3",
   "metadata": {},
   "outputs": [],
   "source": [
    "from tqdm import tqdm"
   ]
  },
  {
   "cell_type": "code",
   "execution_count": 157,
   "id": "60f3e274-6f99-43db-be54-7b141722da0d",
   "metadata": {},
   "outputs": [
    {
     "name": "stdout",
     "output_type": "stream",
     "text": [
      "Object `os.isdir` not found.\n"
     ]
    }
   ],
   "source": [
    "os.isdir?"
   ]
  },
  {
   "cell_type": "code",
   "execution_count": 158,
   "id": "a7522fc6-a1c5-4dfb-8599-301ce8e60ebe",
   "metadata": {
    "scrolled": true
   },
   "outputs": [
    {
     "name": "stderr",
     "output_type": "stream",
     "text": [
      "100%|█████████████████████████████████████████| 102/102 [00:13<00:00,  7.32it/s]\n"
     ]
    }
   ],
   "source": [
    "for folder in tqdm(os.listdir(train_folder)):\n",
    "    \n",
    "    folder_path = os.path.join(train_folder,folder)\n",
    "    if os.path.isdir(folder_path) == False:\n",
    "        continue\n",
    "    files = [i.split('.')[0] for i in os.listdir(folder_path) if i.endswith('.nii.gz')]\n",
    "    dic_local = pair_strings_with_postfix(files)\n",
    "    for key,value in dic_local.items():\n",
    "        image_path = os.path.join(folder_path,key+'.nii.gz')\n",
    "        label_path = os.path.join(folder_path,value + '.nii.gz')\n",
    "        images = np.array(nib.load(image_path).get_fdata())\n",
    "        labels = np.array(nib.load(label_path).get_fdata())\n",
    "        _,_,z = labels.shape\n",
    "        for i in range(z):\n",
    "            image = np.expand_dims(images[:,:,i],axis = 0)\n",
    "            label = np.expand_dims(labels[:,:,i],axis = 0)\n",
    "            gg = np.concatenate([image,label],axis = 0)\n",
    "            #print(gg.shape)\n",
    "            \n",
    "            file_save_path = os.path.join(train_save_files,key+'_'+str(i)+'.npy')\n",
    "            np.save(file_save_path,gg)"
   ]
  },
  {
   "cell_type": "code",
   "execution_count": 161,
   "id": "234f75d4-8dbe-4a99-9ce2-a6a9b3ac009a",
   "metadata": {},
   "outputs": [
    {
     "name": "stderr",
     "output_type": "stream",
     "text": [
      "100%|███████████████████████████████████████████| 51/51 [00:07<00:00,  6.78it/s]\n"
     ]
    }
   ],
   "source": [
    "for folder in tqdm(os.listdir(test_folder)):\n",
    "    \n",
    "    folder_path = os.path.join(test_folder,folder)\n",
    "    if os.path.isdir(folder_path) == False:\n",
    "        continue\n",
    "    files = [i.split('.')[0] for i in os.listdir(folder_path) if i.endswith('.nii.gz')]\n",
    "    dic_local = pair_strings_with_postfix(files)\n",
    "    for key,value in dic_local.items():\n",
    "        image_path = os.path.join(folder_path,key+'.nii.gz')\n",
    "        label_path = os.path.join(folder_path,value + '.nii.gz')\n",
    "        images = np.array(nib.load(image_path).get_fdata())\n",
    "        labels = np.array(nib.load(label_path).get_fdata())\n",
    "        _,_,z = labels.shape\n",
    "        for i in range(z):\n",
    "            image = np.expand_dims(images[:,:,i],axis = 0)\n",
    "            label = np.expand_dims(labels[:,:,i],axis = 0)\n",
    "            gg = np.concatenate([image,label],axis = 0)\n",
    "            #print(gg.shape)\n",
    "            \n",
    "            file_save_path = os.path.join(test_save_files,key+'_'+str(i)+'.npy')\n",
    "            np.save(file_save_path,gg)"
   ]
  },
  {
   "cell_type": "code",
   "execution_count": 144,
   "id": "e9816642-dfdd-494b-9cc6-87be05782de1",
   "metadata": {},
   "outputs": [
    {
     "data": {
      "text/plain": [
       "(256, 216, 9)"
      ]
     },
     "execution_count": 144,
     "metadata": {},
     "output_type": "execute_result"
    }
   ],
   "source": [
    "np.array(nib.load('/Users/skapoor/Desktop/academics/academics_3/DL_MIS/assignment/assingment_3/ACDC/database/training/patient015/patient015_frame01.nii.gz').get_fdata()).shape"
   ]
  },
  {
   "cell_type": "code",
   "execution_count": 83,
   "id": "0e35abb1-a52c-4085-a422-0886e164fa38",
   "metadata": {},
   "outputs": [
    {
     "data": {
      "text/plain": [
       "<matplotlib.image.AxesImage at 0x1489968e0>"
      ]
     },
     "execution_count": 83,
     "metadata": {},
     "output_type": "execute_result"
    },
    {
     "data": {
      "image/png": "[encoded data removed]",
      "text/plain": [
       "<Figure size 640x480 with 1 Axes>"
      ]
     },
     "metadata": {},
     "output_type": "display_data"
    }
   ],
   "source": [
    "plt.imshow(data_array[:,:,2].T)"
   ]
  },
  {
   "cell_type": "code",
   "execution_count": 97,
   "id": "002ec8af-5c01-4fe5-a885-a8d569387ef7",
   "metadata": {},
   "outputs": [],
   "source": [
    "dic = {'image':np.arange(6),'label':np.arange(7)}"
   ]
  },
  {
   "cell_type": "code",
   "execution_count": 98,
   "id": "4610858e-3424-4ddf-b53c-9564c407ea40",
   "metadata": {},
   "outputs": [],
   "source": [
    "np.save('dic_try.npy',dic)"
   ]
  },
  {
   "cell_type": "code",
   "execution_count": 101,
   "id": "2d636c92-6dbd-49bd-a58d-0fbff4c9bfca",
   "metadata": {},
   "outputs": [],
   "source": [
    "gg = np.load('dic_try.npy',allow_pickle = True)"
   ]
  },
  {
   "cell_type": "code",
   "execution_count": 107,
   "id": "63cc3072-6fdf-4f9c-a4a3-f163e52bc91a",
   "metadata": {},
   "outputs": [],
   "source": [
    "import pickle"
   ]
  },
  {
   "cell_type": "code",
   "execution_count": 108,
   "id": "888f5fd9-ad3a-4867-b619-67736fcc5202",
   "metadata": {},
   "outputs": [],
   "source": [
    "with open('picle_try.pkl','wb') as some_file:\n",
    "    pickle.dump(dic,some_file)"
   ]
  },
  {
   "cell_type": "code",
   "execution_count": null,
   "id": "c13fcbf1-c1cd-4e48-8fa0-22d1a6bb8f81",
   "metadata": {},
   "outputs": [],
   "source": [
    "with open('pickle_try"
   ]
  },
  {
   "cell_type": "code",
   "execution_count": 170,
   "id": "6f1b5224-64d1-434b-9491-004fb704685a",
   "metadata": {},
   "outputs": [],
   "source": [
    "sum = 0\n",
    "for files in os.listdir(train_save_files):\n",
    "    \n",
    "    file_name = os.path.join(train_save_files,files)\n",
    "    file = np.load(file_name)[0]\n",
    "    sum += np.sum(file)    \n",
    "    \n",
    "    "
   ]
  },
  {
   "cell_type": "code",
   "execution_count": 173,
   "id": "30b04159-b560-47a1-b6fe-28f7eb955474",
   "metadata": {},
   "outputs": [],
   "source": [
    "h,w = file.shape\n",
    "num_files = len(os.listdir(train_save_files))\n",
    "mean_files = sum/(h*w*num_files)"
   ]
  },
  {
   "cell_type": "code",
   "execution_count": 174,
   "id": "93d867f3-04da-4277-8888-21e38c4981ff",
   "metadata": {},
   "outputs": [
    {
     "data": {
      "text/plain": [
       "89.52309279444778"
      ]
     },
     "execution_count": 174,
     "metadata": {},
     "output_type": "execute_result"
    }
   ],
   "source": [
    "mean_files"
   ]
  },
  {
   "cell_type": "code",
   "execution_count": 176,
   "id": "2fa8ed0d-f271-42c2-98c8-77381e17b254",
   "metadata": {},
   "outputs": [],
   "source": [
    "std_sum = 0\n",
    "for files in os.listdir(train_save_files):\n",
    "\n",
    "    file_name = os.path.join(train_save_files,files)\n",
    "    file = np.load(file_name)[0]\n",
    "    values = (file.flatten() - mean_files)**2\n",
    "    std_sum +=np.sum(values)"
   ]
  },
  {
   "cell_type": "code",
   "execution_count": 181,
   "id": "989ef044-b664-4394-9348-fa238620ae20",
   "metadata": {},
   "outputs": [],
   "source": [
    "import math"
   ]
  },
  {
   "cell_type": "code",
   "execution_count": 182,
   "id": "94e863d0-c7bc-4932-a996-ba8ac5fd8487",
   "metadata": {},
   "outputs": [],
   "source": [
    "std_files = math.sqrt(std_sum/(h*w*num_files))"
   ]
  },
  {
   "cell_type": "code",
   "execution_count": 183,
   "id": "841427a9-ed96-427c-87ef-d49a898863c7",
   "metadata": {},
   "outputs": [
    {
     "data": {
      "text/plain": [
       "(89.52309279444778, 100.9793319871368)"
      ]
     },
     "execution_count": 183,
     "metadata": {},
     "output_type": "execute_result"
    }
   ],
   "source": [
    "mean_files,std_files"
   ]
  },
  {
   "cell_type": "code",
   "execution_count": 187,
   "id": "eecf0b43-622b-437d-8d41-7ca5506e6932",
   "metadata": {
    "scrolled": true
   },
   "outputs": [
    {
     "data": {
      "text/plain": [
       "[0, 0, 0, 0]"
      ]
     },
     "execution_count": 187,
     "metadata": {},
     "output_type": "execute_result"
    }
   ],
   "source": [
    "[0]*4"
   ]
  },
  {
   "cell_type": "code",
   "execution_count": 192,
   "id": "c6fc4213-d935-4a81-8a77-98c6048a520c",
   "metadata": {},
   "outputs": [],
   "source": [
    "# computing class weights for class imbalance\n",
    "class_freq = [0]*4\n",
    "for files in os.listdir(train_save_files):\n",
    "    filepath = os.path.join(train_save_files,files)\n",
    "    img = np.load(filepath)[1]\n",
    "    img = img.astype(np.int32)\n",
    "    unique_values,frequencies = np.unique(img,return_counts=True)\n",
    "    for value,frequency in zip(unique_values,frequencies):\n",
    "        class_freq[value] = class_freq[value] + frequency\n",
    "    "
   ]
  },
  {
   "cell_type": "code",
   "execution_count": 198,
   "id": "e2fe0d6e-2f8b-4cfc-b92f-92841587682e",
   "metadata": {},
   "outputs": [
    {
     "data": {
      "text/plain": [
       "4"
      ]
     },
     "execution_count": 198,
     "metadata": {},
     "output_type": "execute_result"
    }
   ],
   "source": [
    "len(class_freq)"
   ]
  },
  {
   "cell_type": "code",
   "execution_count": 202,
   "id": "3d276611-0d84-4580-861d-d780a5aee4e5",
   "metadata": {},
   "outputs": [],
   "source": [
    "class_freq_2 = np.array(class_freq)\n",
    "target_weight = np.sum(class_freq_2) / (len(class_freq)*class_freq_2)\n",
    "normalized_weights = target_weight/np.sum(target_weight)"
   ]
  },
  {
   "cell_type": "code",
   "execution_count": 205,
   "id": "b1b9154c-1b93-42c1-b835-37552c7a79ff",
   "metadata": {},
   "outputs": [
    {
     "data": {
      "text/plain": [
       "array([ 0.25983551, 20.64092177, 19.20679583, 19.6467816 ])"
      ]
     },
     "execution_count": 205,
     "metadata": {},
     "output_type": "execute_result"
    }
   ],
   "source": [
    "target_weight"
   ]
  },
  {
   "cell_type": "code",
   "execution_count": 203,
   "id": "863fc626-77dc-4e3f-987a-2eb528610fe5",
   "metadata": {
    "scrolled": true
   },
   "outputs": [
    {
     "data": {
      "text/plain": [
       "array([0.0043484 , 0.3454297 , 0.32142933, 0.32879258])"
      ]
     },
     "execution_count": 203,
     "metadata": {},
     "output_type": "execute_result"
    }
   ],
   "source": [
    "normalized_weights"
   ]
  },
  {
   "cell_type": "code",
   "execution_count": 204,
   "id": "ca60dd69-3984-45ae-a52e-52c22bfd060e",
   "metadata": {},
   "outputs": [
    {
     "data": {
      "text/plain": [
       "1.0"
      ]
     },
     "execution_count": 204,
     "metadata": {},
     "output_type": "execute_result"
    }
   ],
   "source": [
    "np.sum(normalized_weights)"
   ]
  },
  {
   "cell_type": "code",
   "execution_count": 194,
   "id": "3f4f7d25-332b-4b46-bd89-15efdbaa74c7",
   "metadata": {},
   "outputs": [],
   "source": [
    "from sklearn.utils.class_weight import compute_class_weight"
   ]
  },
  {
   "cell_type": "code",
   "execution_count": null,
   "id": "d5c43212-2ae3-42a9-aeee-430fa56a349a",
   "metadata": {},
   "outputs": [],
   "source": [
    "class_weights = compute_class_weight('balanced',len(class_freq),"
   ]
  },
  {
   "cell_type": "code",
   "execution_count": null,
   "id": "6f86c5d4-1b73-41f3-9585-9f09742be467",
   "metadata": {},
   "outputs": [],
   "source": [
    "class SegDataNp(Dataset):\n",
    "\n",
    "    def __init__(self,image_paths,img_mean,img_std,transform = None):\n",
    "        super().__init__()\n",
    "        self.image_paths = image_paths\n",
    "        self.transform = transform\n",
    "        self.img_mean = img_mean\n",
    "        self.img_std = img_std\n",
    "\n",
    "    \n",
    "    def __len__(self):\n",
    "        return len(self.image_paths)\n",
    "\n",
    "    def __getitem__(self, index):\n",
    "        \n",
    "        image = Image.open(self.image_paths[index]).convert('RGB')\n",
    "        mask = Image.open(self.mask_paths[index]).convert('L')\n",
    "\n",
    "        file =  np.load(self.image_paths[index])\n",
    "\n",
    "        image = file[0]\n",
    "        mask = file[1]\n",
    "\n",
    "        image = torch.from_numpy(image).to(torch.float32)\n",
    "        mask = torch.from_numpy(mask).to(torch.long)\n",
    "\n",
    "        image = torch.unsqueeze(torch.unsqueeze(image,dim=0),dim=0)\n",
    "        mask = torch.unsqueeze(torch.unsqueeze(mask,dim=0),dim=0)\n",
    "        \n",
    "        basic_image_transform = transforms.Compose(transforms=[\n",
    "            transforms.Resize(size = (128,128)),\n",
    "            transforms.Normalize(mean = self.img_mean,std = self.img_std),\n",
    "        ])\n",
    "\n",
    "        basic_mask_transform = transforms.Compose(transforms=[\n",
    "            transforms.Resize(size = (128,128)),\n",
    "            transforms.Lambda(lambda x: x/torch.max(x)),\n",
    "        ])\n",
    "\n",
    "        image = basic_image_transform(image)\n",
    "        mask = basic_mask_transform(mask)\n",
    "\n",
    "        image = image.squeeze()\n",
    "        mask = mask.squeeze()\n",
    "\n",
    "        if self.transform:\n",
    "\n",
    "            image = self.transform(image)\n",
    "            mask = self.transform(mask)\n",
    "        \n",
    "        sample = {'image':image,'mask':mask}\n",
    "\n",
    "        return sample"
   ]
  },
  {
   "cell_type": "code",
   "execution_count": null,
   "id": "a7e38aac-ac13-4639-856c-eaeb701fd4fc",
   "metadata": {},
   "outputs": [],
   "source": [
    "def train():\n",
    "\n",
    "    seed = 13\n",
    "    torch.manual_seed(seed)\n",
    "    best_v_loss = 1_000_000\n",
    "\n",
    "    use_cuda = torch.cuda.is_available()\n",
    "    device = torch.device(\"cuda:0\" if use_cuda else \"cpu\")\n",
    "    \n",
    "    model = TransUNet(img_dim=128,\n",
    "                          in_channels=1,\n",
    "                          out_channels=128,\n",
    "                          head_num=4,\n",
    "                          mlp_dim=512,\n",
    "                          block_num=8,\n",
    "                          patch_dim=16,\n",
    "                          class_num=4)\n",
    "    model.to(device)\n",
    "    epochs = 30\n",
    "    loss_func = torch.nn.CrossEntropyLoss(weight = torch.tensor([0.0043484 , 0.3454297 , 0.32142933, 0.32879258]) # calculated class imbalance weight\n",
    "    loss_func.to(device)\n",
    "#     optimizer = torch.optim.Adam(model.parameters(),lr = 0.001)\n",
    "    optimizer = torch.optim.SGD(model.parameters(),lr = 0.01,momentum = 0.9, weight_decay = 1e-4)\n",
    "    scheduler = torch.optim.lr_scheduler.ReduceLROnPlateau(optimizer = optimizer,factor = 0.8,min_lr=1e-4)\n",
    "    pth = os.getcwd()\n",
    "    model_path = os.path.join(pth,'model_q3_transunet')\n",
    "    log_dir = os.path.join(model_path,'runs')\n",
    "    wts_path = os.path.join(model_path,'weigths')\n",
    "\n",
    "    if os.path.exists(model_path) == False:\n",
    "        os.mkdir(model_path)\n",
    "        \n",
    "        os.mkdir(log_dir)\n",
    "        \n",
    "        os.mkdir(wts_path)\n",
    "    \n",
    "    writer = SummaryWriter(log_dir=log_dir)\n",
    "\n",
    "    #splitting the dataset into traininig and validation set\n",
    "    train_img,valid_img = train_test_split(total_input_files,test_size=0.2,random_state=seed)\n",
    "    train_data = SegData(image_paths = train_img,img_mean=90,img_std=101) # calculated mean and std of the bianry images.\n",
    "    valid_data = SegData(image_paths = valid_img,img_mean=90,img_std=101)\n",
    "    train_dataloader = DataLoader(train_data,batch_size = 8,shuffle = True,pin_memory = True)\n",
    "    valid_dataloader = DataLoader(valid_data,batch_size = 8,shuffle = False,pin_memory = True)\n",
    "\n",
    "    #print(\"After Model to device : \",torch.cuda.memory_allocated(device)/(1024*1024))\n",
    "    for e in tqdm(range(epochs)):\n",
    "\n",
    "        #training the model \n",
    "        print('Epoch {0}'.format(e+1))\n",
    "        epoch_loss = 0.0\n",
    "        run_loss = 0.0\n",
    "        model.train(True)\n",
    "\n",
    "        for i,batch in enumerate(train_dataloader):\n",
    "            \n",
    "            image = batch['image'].to(device)\n",
    "            mask = batch['mask'].to(device)\n",
    "    \n",
    "            #print(batch['image'].shape)\n",
    "            v_img = transforms.RandomVerticalFlip(p=1)(image)\n",
    "            h_img = transforms.RandomHorizontalFlip(p=1)(image)\n",
    "            r_img = transforms.RandomRotation(degrees=(-25,25))(image)\n",
    "            image_final = torch.cat((image,v_img,h_img,r_img),0)\n",
    "\n",
    "            #print(image_final.shape)\n",
    "                    \n",
    "            v_mask = transforms.RandomVerticalFlip(p=1)(mask)\n",
    "            h_mask = transforms.RandomHorizontalFlip(p=1)(mask)\n",
    "            r_mask = transforms.RandomRotation(degrees=(-25,25))(mask)\n",
    "            mask_final = torch.cat((mask,v_mask,h_mask,r_mask),0)\n",
    "            mask_final = torch.unsqueeze(mask_final,1)\n",
    "            #print(mask_final.shape)\n",
    "            \n",
    "#             image_final.to(device)\n",
    "#             mask_final.to(device)\n",
    "            \n",
    "#             print(image_final.dtype)\n",
    "#             print(mask_final.dtype)\n",
    "#             print(device)\n",
    "            #a = torch.cuda.memory_allocated(device)/(1024*1024)\n",
    "            optimizer.zero_grad()\n",
    "            pred = model.forward(image_final)\n",
    "            #print(\"after forward pass\", torch.cuda.memory_allocated(device)/(1024*1024))\n",
    "            #b = torch.cuda.memory_allocated(device)/(1024*1024)\n",
    "            #print(\"memory consumed by forward_pass\",b-a)\n",
    "            loss = loss_func(pred,mask_final)\n",
    "            \n",
    "\n",
    "            run_loss = run_loss + loss.item()\n",
    "            epoch_loss = epoch_loss + loss.item()\n",
    "            \n",
    "            loss.backward()\n",
    "            #print(\"memory after backward pass \", torch.cuda.memory_allocated(device)/(1024*1024))\n",
    "            optimizer.step()\n",
    "            #print(\"memory after optimizer \",torch.cuda.memory_allocated(device)/(1024*1024))\n",
    "\n",
    "            #print('the current loss is {0}'.format(run_loss))\n",
    "            \n",
    "            #break\n",
    "            \n",
    "#             del mask_final\n",
    "#             del image_final\n",
    "#             del pred\n",
    "#             del v_img\n",
    "#             del h_img\n",
    "#             del r_img\n",
    "#             del v_mask\n",
    "#             del h_mask\n",
    "#             del r_mask\n",
    "#             del mask\n",
    "#             del image\n",
    "            \n",
    "            #print(\"memory after delete \",torch.cuda.memory_allocated(device)/(1024*1024))\n",
    "            \n",
    "\n",
    "            if(i%100 == 99):\n",
    "                \n",
    "#                 for obj in gc.get_objects():\n",
    "#                     try:\n",
    "#                         if torch.is_tensor(obj) or (hasattr(obj,'data') and torch.is_tensor(obg.data)):\n",
    "#                             print(type(obj),obj.size())\n",
    "#                     except:\n",
    "#                         pass\n",
    "                \n",
    "\n",
    "                print(\"\\tBatch Loss for curent for {0} is {1:.5f}\".format(i,run_loss/100))\n",
    "                run_loss = 0.0\n",
    "                \n",
    "\n",
    "        avg_e_loss = epoch_loss/(i+1)\n",
    "        print('The average loss for the epoch is {0}'.format(avg_e_loss))\n",
    "\n",
    "        #validating the model\n",
    "        model.train(False)\n",
    "\n",
    "        val_loss = 0.0\n",
    "\n",
    "        for k,batch in enumerate(valid_dataloader):\n",
    "            final_image = batch['image'].to(device)\n",
    "            final_mask = torch.unsqueeze(batch['mask'],1).to(device)\n",
    "\n",
    "            pred = model.forward(final_image)\n",
    "            loss = loss_func(pred,final_mask)\n",
    "\n",
    "            val_loss+= loss.item()\n",
    "            \n",
    "#             del final_image\n",
    "#             del final_mask\n",
    "            #break\n",
    "        \n",
    "        \n",
    "\n",
    "        avg_val_loss = val_loss/(k+1)\n",
    "        print('The average validation loss for the epoch is {0:.5f}'.format(avg_val_loss))\n",
    "        writer.add_scalars('Training vs. Validation Loss',\n",
    "                    { 'Training' : avg_e_loss, 'Validation' : avg_val_loss },\n",
    "                    e)\n",
    "        \n",
    "        if avg_val_loss < best_v_loss:\n",
    "\n",
    "            best_v_loss = avg_val_loss\n",
    "            best_wt_path = os.path.join(wts_path,'best_epoch'+str(e))\n",
    "            \n",
    "\n",
    "        writer.flush()\n",
    "        \n",
    "\n",
    "        #break\n",
    "        wt_path =  os.path.join(wts_path,'epoch_'+str(e))\n",
    "        torch.save(model.state_dict(), wt_path)\n",
    "    torch.save(model.state_dict(), best_wt_path)"
   ]
  },
  {
   "cell_type": "code",
   "execution_count": null,
   "id": "75fb38f6-832d-4352-9850-ad5923bb800c",
   "metadata": {},
   "outputs": [],
   "source": [
    "def diceScoreMutliClass(inputs, targets):\n",
    "    # Calculate intersection and union for each sample in the batch\n",
    "    epsilon = 1e-6\n",
    "    intersection = torch.sum(inputs * targets, dim=(1, 2, 3))  # Sum over height, width, and channels\n",
    "    total = torch.sum(inputs, dim=(1, 2, 3)) + torch.sum(targets, dim=(1, 2, 3))\n",
    "\n",
    "    # Calculate Dice coefficient with epsilon for numerical stability\n",
    "    dice_coefficient = (2. * intersection + epsilon) / (total + epsilon)\n",
    "\n",
    "    return torch.mean(dice_coefficient)"
   ]
  },
  {
   "cell_type": "code",
   "execution_count": null,
   "id": "94cb15b1-8447-4dd0-9408-0e0fffa007fd",
   "metadata": {},
   "outputs": [],
   "source": [
    "def diceScoreMulti(inputs,targets,num_class = 4):\n",
    "    epsilon = 1e-6\n",
    "    inputs = torch.nn.Softmax(dim = 1)\n",
    "    _,y_pred_idx = torch.max(inputs,dim = 1)\n",
    "    dice_scores = []\n",
    "    for class_idx in range(num_class):\n",
    "        y_true_class = (y_true == class_idx).float()\n",
    "        y_pred_class = (y_pred_idx == class_idx).float()\n",
    "\n",
    "        intersection = torch.sum(y_true_class * y_pred_class, dim = (1,2))\n",
    "        total = torch.sum(y_true_class,dim = (1,2)) + torch.sum(y_pred_class,dim= (1,2))\n",
    "        dice = (2. * intersection + epsilon)/(total+epsilon)\n",
    "        dice_scores.append(dice.item())\n",
    "    average_dice = torch.mean(torch.tensor(dice_scores))\n",
    "    return average_dice\n",
    "    "
   ]
  }
 ],
 "metadata": {
  "kernelspec": {
   "display_name": "Python 3 (ipykernel)",
   "language": "python",
   "name": "python3"
  },
  "language_info": {
   "codemirror_mode": {
    "name": "ipython",
    "version": 3
   },
   "file_extension": ".py",
   "mimetype": "text/x-python",
   "name": "python",
   "nbconvert_exporter": "python",
   "pygments_lexer": "ipython3",
   "version": "3.8.17"
  }
 },
 "nbformat": 4,
 "nbformat_minor": 5
}
