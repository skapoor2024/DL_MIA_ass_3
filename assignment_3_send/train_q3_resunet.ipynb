{
 "cells": [
  {
   "cell_type": "code",
   "execution_count": 1,
   "metadata": {},
   "outputs": [],
   "source": [
    "import random\n",
    "import numpy as np\n",
    "import matplotlib.pyplot as plt\n",
    "import seaborn as sns\n",
    "import PIL.Image as Image\n",
    "import os\n",
    "import math"
   ]
  },
  {
   "cell_type": "code",
   "execution_count": 2,
   "metadata": {},
   "outputs": [],
   "source": [
    "from sklearn.model_selection import train_test_split\n",
    "import torch\n",
    "from torch.utils.data import Dataset, DataLoader\n",
    "from torchvision import transforms\n",
    "from torch.utils.tensorboard import SummaryWriter\n"
   ]
  },
  {
   "cell_type": "code",
   "execution_count": 3,
   "metadata": {},
   "outputs": [],
   "source": [
    "from resunet import ResUnet"
   ]
  },
  {
   "cell_type": "code",
   "execution_count": 4,
   "metadata": {},
   "outputs": [],
   "source": [
    "class SegDataNp(Dataset):\n",
    "\n",
    "    def __init__(self,image_paths,img_mean,img_std,transform = None):\n",
    "        super().__init__()\n",
    "        self.image_paths = image_paths\n",
    "        self.transform = transform\n",
    "        self.img_mean = img_mean\n",
    "        self.img_std = img_std\n",
    "\n",
    "    \n",
    "    def __len__(self):\n",
    "        return len(self.image_paths)\n",
    "\n",
    "    def __getitem__(self, index):\n",
    "\n",
    "        file =  np.load(self.image_paths[index])\n",
    "\n",
    "        image = file[0]\n",
    "        mask = file[1]\n",
    "\n",
    "        image = torch.from_numpy(image).to(torch.float32)\n",
    "        mask = torch.from_numpy(mask).to(torch.long)\n",
    "\n",
    "        image = torch.unsqueeze(torch.unsqueeze(image,dim=0),dim=0)\n",
    "        mask = torch.unsqueeze(torch.unsqueeze(mask,dim=0),dim=0)\n",
    "        \n",
    "        basic_image_transform = transforms.Compose(transforms=[\n",
    "            transforms.Resize(size = (128,128)),\n",
    "            transforms.Normalize(mean = self.img_mean,std = self.img_std),\n",
    "        ])\n",
    "\n",
    "        basic_mask_transform = transforms.Compose(transforms=[\n",
    "            transforms.Resize(size = (128,128)),\n",
    "        ])\n",
    "\n",
    "        image = basic_image_transform(image)\n",
    "        mask = basic_mask_transform(mask)\n",
    "\n",
    "        if self.transform:\n",
    "\n",
    "            image = self.transform(image)\n",
    "            mask = self.transform(mask)\n",
    "            \n",
    "        image = image.squeeze()\n",
    "        mask = mask.squeeze()\n",
    "        \n",
    "        sample = {'image':image,'mask':mask}\n",
    "\n",
    "        return sample"
   ]
  },
  {
   "cell_type": "code",
   "execution_count": 5,
   "metadata": {},
   "outputs": [],
   "source": [
    "data_dir = '/home/UFAD/s.kapoor/GrainGrowth/skapoor/dl_mis/ACDC/train_files'\n",
    "total_input_files = []\n",
    "for file in os.listdir(data_dir):\n",
    "    if file.endswith('.npy'):\n",
    "        total_input_files.append(os.path.join(data_dir,file))"
   ]
  },
  {
   "cell_type": "code",
   "execution_count": 6,
   "metadata": {},
   "outputs": [],
   "source": [
    "from tqdm import tqdm"
   ]
  },
  {
   "cell_type": "code",
   "execution_count": 7,
   "metadata": {},
   "outputs": [],
   "source": [
    "def train():\n",
    "\n",
    "    seed = 13\n",
    "    torch.manual_seed(seed)\n",
    "    best_v_loss = 1_000_000\n",
    "\n",
    "    use_cuda = torch.cuda.is_available()\n",
    "    device = torch.device(\"cuda:3\" if use_cuda else \"cpu\")\n",
    "    \n",
    "    model = ResUnet(in_channel = 1,out_channel = 4)\n",
    "    model.to(device)\n",
    "    epochs = 100\n",
    "    loss_func = torch.nn.CrossEntropyLoss(weight = torch.tensor([0.0043484 , 0.3454297 , 0.32142933, 0.32879258])) # calculated class imbalance weight\n",
    "    loss_func.to(device)\n",
    "#     optimizer = torch.optim.Adam(model.parameters(),lr = 0.001)\n",
    "    optimizer = torch.optim.SGD(model.parameters(),lr = 0.01,momentum = 0.9, weight_decay = 1e-4)\n",
    "    scheduler = torch.optim.lr_scheduler.ReduceLROnPlateau(optimizer = optimizer,factor = 0.8,min_lr=1e-4)\n",
    "    pth = os.getcwd()\n",
    "    model_path = os.path.join(pth,'model_q3_resunet')\n",
    "    log_dir = os.path.join(model_path,'runs')\n",
    "    wts_path = os.path.join(model_path,'weigths')\n",
    "\n",
    "    if os.path.exists(model_path) == False:\n",
    "        os.mkdir(model_path)\n",
    "        \n",
    "        os.mkdir(log_dir)\n",
    "        \n",
    "        os.mkdir(wts_path)\n",
    "    \n",
    "    writer = SummaryWriter(log_dir=log_dir)\n",
    "\n",
    "    #splitting the dataset into traininig and validation set\n",
    "    train_img,valid_img = train_test_split(total_input_files,test_size=0.2,random_state=seed)\n",
    "    train_data = SegDataNp(image_paths = train_img,img_mean=90,img_std=101) # calculated mean and std of the bianry images.\n",
    "    valid_data = SegDataNp(image_paths = valid_img,img_mean=90,img_std=101)\n",
    "    train_dataloader = DataLoader(train_data,batch_size = 8,shuffle = True,pin_memory = True)\n",
    "    valid_dataloader = DataLoader(valid_data,batch_size = 8,shuffle = False,pin_memory = True)\n",
    "\n",
    "    #print(\"After Model to device : \",torch.cuda.memory_allocated(device)/(1024*1024))\n",
    "    for e in tqdm(range(epochs)):\n",
    "\n",
    "        #training the model \n",
    "        print('Epoch {0}'.format(e+1))\n",
    "        epoch_loss = 0.0\n",
    "        run_loss = 0.0\n",
    "        model.train(True)\n",
    "\n",
    "        for i,batch in enumerate(train_dataloader):\n",
    "            \n",
    "            image = batch['image'].to(device)\n",
    "            mask = batch['mask'].to(device)\n",
    "            \n",
    "            image = torch.unsqueeze(image,axis = 1)\n",
    "            mask = torch.unsqueeze(mask,axis = 1)\n",
    "            \n",
    "            #print(image.size())\n",
    "            #print(mask.size())\n",
    "            \n",
    "            \n",
    "    \n",
    "            #print(batch['image'].shape)\n",
    "            v_img = transforms.RandomVerticalFlip(p=1)(image)\n",
    "            h_img = transforms.RandomHorizontalFlip(p=1)(image)\n",
    "            r_img = transforms.RandomRotation(degrees=(-25,25))(image)\n",
    "            image_final = torch.cat((image,v_img,h_img,r_img),0)\n",
    "\n",
    "            #print(image_final.shape)\n",
    "                    \n",
    "            v_mask = transforms.RandomVerticalFlip(p=1)(mask)\n",
    "            h_mask = transforms.RandomHorizontalFlip(p=1)(mask)\n",
    "            r_mask = transforms.RandomRotation(degrees=(-25,25))(mask)\n",
    "            mask_final = torch.cat((mask,v_mask,h_mask,r_mask),0)\n",
    "            mask_final = torch.squeeze(mask_final)\n",
    "            #print(mask_final.shape)\n",
    "            \n",
    "            #break\n",
    "            \n",
    "#             image_final.to(device)\n",
    "#             mask_final.to(device)\n",
    "            \n",
    "#             print(image_final.dtype)\n",
    "#             print(mask_final.dtype)\n",
    "#             print(device)\n",
    "            #a = torch.cuda.memory_allocated(device)/(1024*1024)\n",
    "            optimizer.zero_grad()\n",
    "            pred = model.forward(image_final)\n",
    "            #print(\"after forward pass\", torch.cuda.memory_allocated(device)/(1024*1024))\n",
    "            #b = torch.cuda.memory_allocated(device)/(1024*1024)\n",
    "            #print(\"memory consumed by forward_pass\",b-a)\n",
    "            loss = loss_func(pred,mask_final)\n",
    "            \n",
    "\n",
    "            run_loss = run_loss + loss.item()\n",
    "            epoch_loss = epoch_loss + loss.item()\n",
    "            \n",
    "            loss.backward()\n",
    "            #print(\"memory after backward pass \", torch.cuda.memory_allocated(device)/(1024*1024))\n",
    "            optimizer.step()\n",
    "            #print(\"memory after optimizer \",torch.cuda.memory_allocated(device)/(1024*1024))\n",
    "\n",
    "            #print('the current loss is {0}'.format(run_loss))\n",
    "            \n",
    "            #break\n",
    "            \n",
    "#             del mask_final\n",
    "#             del image_final\n",
    "#             del pred\n",
    "#             del v_img\n",
    "#             del h_img\n",
    "#             del r_img\n",
    "#             del v_mask\n",
    "#             del h_mask\n",
    "#             del r_mask\n",
    "#             del mask\n",
    "#             del image\n",
    "            \n",
    "            #print(\"memory after delete \",torch.cuda.memory_allocated(device)/(1024*1024))\n",
    "            \n",
    "\n",
    "            if(i%100 == 99):\n",
    "                \n",
    "#                 for obj in gc.get_objects():\n",
    "#                     try:\n",
    "#                         if torch.is_tensor(obj) or (hasattr(obj,'data') and torch.is_tensor(obg.data)):\n",
    "#                             print(type(obj),obj.size())\n",
    "#                     except:\n",
    "#                         pass\n",
    "                \n",
    "\n",
    "                print(\"\\tBatch Loss for curent for {0} is {1:.5f}\".format(i,run_loss/100))\n",
    "                run_loss = 0.0\n",
    "                \n",
    "        #break\n",
    "        avg_e_loss = epoch_loss/(i+1)\n",
    "        print('The average loss for the epoch is {0}'.format(avg_e_loss))\n",
    "\n",
    "        #validating the model\n",
    "        model.train(False)\n",
    "\n",
    "        val_loss = 0.0\n",
    "\n",
    "        for k,batch in enumerate(valid_dataloader):\n",
    "            final_image = torch.unsqueeze(batch['image'],1).to(device)\n",
    "            final_mask = batch['mask'].to(device)\n",
    "\n",
    "            pred = model.forward(final_image)\n",
    "            loss = loss_func(pred,final_mask)\n",
    "\n",
    "            val_loss+= loss.item()\n",
    "            \n",
    "#             del final_image\n",
    "#             del final_mask\n",
    "            #break\n",
    "        \n",
    "        \n",
    "\n",
    "        avg_val_loss = val_loss/(k+1)\n",
    "        print('The average validation loss for the epoch is {0:.5f}'.format(avg_val_loss))\n",
    "        writer.add_scalars('Training vs. Validation Loss',\n",
    "                    { 'Training' : avg_e_loss, 'Validation' : avg_val_loss },\n",
    "                    e)\n",
    "        \n",
    "        if avg_val_loss < best_v_loss:\n",
    "\n",
    "            best_v_loss = avg_val_loss\n",
    "            best_wt_path = os.path.join(wts_path,'best_epoch'+str(e))\n",
    "            \n",
    "\n",
    "        writer.flush()\n",
    "        \n",
    "\n",
    "        #break\n",
    "        wt_path =  os.path.join(wts_path,'epoch_'+str(e))\n",
    "        torch.save(model.state_dict(), wt_path)\n",
    "    torch.save(model.state_dict(), best_wt_path)"
   ]
  },
  {
   "cell_type": "code",
   "execution_count": 8,
   "metadata": {
    "scrolled": true
   },
   "outputs": [
    {
     "name": "stderr",
     "output_type": "stream",
     "text": [
      "\r",
      "  0%|          | 0/100 [00:00<?, ?it/s]"
     ]
    },
    {
     "name": "stdout",
     "output_type": "stream",
     "text": [
      "Epoch 1\n",
      "\tBatch Loss for curent for 99 is 1.04351\n",
      "The average loss for the epoch is 0.9524415606603572\n",
      "The average validation loss for the epoch is 0.95802\n"
     ]
    },
    {
     "name": "stderr",
     "output_type": "stream",
     "text": [
      "\r",
      "  1%|          | 1/100 [01:25<2:21:13, 85.59s/it]"
     ]
    },
    {
     "name": "stdout",
     "output_type": "stream",
     "text": [
      "Epoch 2\n",
      "\tBatch Loss for curent for 99 is 0.64545\n",
      "The average loss for the epoch is 0.5726355613838315\n",
      "The average validation loss for the epoch is 0.35817\n"
     ]
    },
    {
     "name": "stderr",
     "output_type": "stream",
     "text": [
      "\r",
      "  2%|▏         | 2/100 [02:51<2:19:58, 85.70s/it]"
     ]
    },
    {
     "name": "stdout",
     "output_type": "stream",
     "text": [
      "Epoch 3\n",
      "\tBatch Loss for curent for 99 is 0.42284\n",
      "The average loss for the epoch is 0.427388234210264\n",
      "The average validation loss for the epoch is 0.37501\n"
     ]
    },
    {
     "name": "stderr",
     "output_type": "stream",
     "text": [
      "\r",
      "  3%|▎         | 3/100 [04:21<2:21:38, 87.62s/it]"
     ]
    },
    {
     "name": "stdout",
     "output_type": "stream",
     "text": [
      "Epoch 4\n",
      "\tBatch Loss for curent for 99 is 0.40811\n",
      "The average loss for the epoch is 0.3744443763457044\n",
      "The average validation loss for the epoch is 0.23586\n"
     ]
    },
    {
     "name": "stderr",
     "output_type": "stream",
     "text": [
      "\r",
      "  4%|▍         | 4/100 [05:47<2:19:19, 87.07s/it]"
     ]
    },
    {
     "name": "stdout",
     "output_type": "stream",
     "text": [
      "Epoch 5\n",
      "\tBatch Loss for curent for 99 is 0.30044\n",
      "The average loss for the epoch is 0.30603218577919206\n",
      "The average validation loss for the epoch is 0.20579\n"
     ]
    },
    {
     "name": "stderr",
     "output_type": "stream",
     "text": [
      "\r",
      "  5%|▌         | 5/100 [07:14<2:18:05, 87.21s/it]"
     ]
    },
    {
     "name": "stdout",
     "output_type": "stream",
     "text": [
      "Epoch 6\n",
      "\tBatch Loss for curent for 99 is 0.27721\n",
      "The average loss for the epoch is 0.271021284982172\n",
      "The average validation loss for the epoch is 0.18003\n"
     ]
    },
    {
     "name": "stderr",
     "output_type": "stream",
     "text": [
      "\r",
      "  6%|▌         | 6/100 [08:44<2:17:37, 87.84s/it]"
     ]
    },
    {
     "name": "stdout",
     "output_type": "stream",
     "text": [
      "Epoch 7\n",
      "\tBatch Loss for curent for 99 is 0.27073\n",
      "The average loss for the epoch is 0.2667803343834053\n",
      "The average validation loss for the epoch is 0.18567\n"
     ]
    },
    {
     "name": "stderr",
     "output_type": "stream",
     "text": [
      "\r",
      "  7%|▋         | 7/100 [10:10<2:15:32, 87.45s/it]"
     ]
    },
    {
     "name": "stdout",
     "output_type": "stream",
     "text": [
      "Epoch 8\n",
      "\tBatch Loss for curent for 99 is 0.25992\n",
      "The average loss for the epoch is 0.24865498834567545\n",
      "The average validation loss for the epoch is 0.17295\n"
     ]
    },
    {
     "name": "stderr",
     "output_type": "stream",
     "text": [
      "\r",
      "  8%|▊         | 8/100 [11:40<2:15:16, 88.22s/it]"
     ]
    },
    {
     "name": "stdout",
     "output_type": "stream",
     "text": [
      "Epoch 9\n",
      "\tBatch Loss for curent for 99 is 0.24814\n",
      "The average loss for the epoch is 0.2422427985992731\n",
      "The average validation loss for the epoch is 0.18789\n"
     ]
    },
    {
     "name": "stderr",
     "output_type": "stream",
     "text": [
      "\r",
      "  9%|▉         | 9/100 [13:06<2:12:48, 87.57s/it]"
     ]
    },
    {
     "name": "stdout",
     "output_type": "stream",
     "text": [
      "Epoch 10\n",
      "\tBatch Loss for curent for 99 is 0.23240\n",
      "The average loss for the epoch is 0.23190494973934134\n",
      "The average validation loss for the epoch is 0.18944\n"
     ]
    },
    {
     "name": "stderr",
     "output_type": "stream",
     "text": [
      "\r",
      " 10%|█         | 10/100 [14:33<2:10:51, 87.23s/it]"
     ]
    },
    {
     "name": "stdout",
     "output_type": "stream",
     "text": [
      "Epoch 11\n",
      "\tBatch Loss for curent for 99 is 0.24203\n",
      "The average loss for the epoch is 0.23574402475856363\n",
      "The average validation loss for the epoch is 0.16407\n"
     ]
    },
    {
     "name": "stderr",
     "output_type": "stream",
     "text": [
      "\r",
      " 11%|█         | 11/100 [16:01<2:09:48, 87.51s/it]"
     ]
    },
    {
     "name": "stdout",
     "output_type": "stream",
     "text": [
      "Epoch 12\n",
      "\tBatch Loss for curent for 99 is 0.21913\n",
      "The average loss for the epoch is 0.22068158572256877\n",
      "The average validation loss for the epoch is 0.16579\n"
     ]
    },
    {
     "name": "stderr",
     "output_type": "stream",
     "text": [
      "\r",
      " 12%|█▏        | 12/100 [17:27<2:07:44, 87.10s/it]"
     ]
    },
    {
     "name": "stdout",
     "output_type": "stream",
     "text": [
      "Epoch 13\n",
      "\tBatch Loss for curent for 99 is 0.21656\n",
      "The average loss for the epoch is 0.2135420104596003\n",
      "The average validation loss for the epoch is 0.21131\n"
     ]
    },
    {
     "name": "stderr",
     "output_type": "stream",
     "text": [
      "\r",
      " 13%|█▎        | 13/100 [18:53<2:05:58, 86.88s/it]"
     ]
    },
    {
     "name": "stdout",
     "output_type": "stream",
     "text": [
      "Epoch 14\n",
      "\tBatch Loss for curent for 99 is 0.20567\n",
      "The average loss for the epoch is 0.20875238900253285\n",
      "The average validation loss for the epoch is 0.15628\n"
     ]
    },
    {
     "name": "stderr",
     "output_type": "stream",
     "text": [
      "\r",
      " 14%|█▍        | 14/100 [20:21<2:05:04, 87.27s/it]"
     ]
    },
    {
     "name": "stdout",
     "output_type": "stream",
     "text": [
      "Epoch 15\n",
      "\tBatch Loss for curent for 99 is 0.19398\n",
      "The average loss for the epoch is 0.19840798768853643\n",
      "The average validation loss for the epoch is 0.14822\n"
     ]
    },
    {
     "name": "stderr",
     "output_type": "stream",
     "text": [
      "\r",
      " 15%|█▌        | 15/100 [21:48<2:03:13, 86.98s/it]"
     ]
    },
    {
     "name": "stdout",
     "output_type": "stream",
     "text": [
      "Epoch 16\n",
      "\tBatch Loss for curent for 99 is 0.19997\n",
      "The average loss for the epoch is 0.20294364413041718\n",
      "The average validation loss for the epoch is 0.17876\n"
     ]
    },
    {
     "name": "stderr",
     "output_type": "stream",
     "text": [
      "\r",
      " 16%|█▌        | 16/100 [23:17<2:02:40, 87.62s/it]"
     ]
    },
    {
     "name": "stdout",
     "output_type": "stream",
     "text": [
      "Epoch 17\n",
      "\tBatch Loss for curent for 99 is 0.22231\n",
      "The average loss for the epoch is 0.21550809904074794\n",
      "The average validation loss for the epoch is 0.16212\n"
     ]
    },
    {
     "name": "stderr",
     "output_type": "stream",
     "text": [
      "\r",
      " 17%|█▋        | 17/100 [24:43<2:00:41, 87.25s/it]"
     ]
    },
    {
     "name": "stdout",
     "output_type": "stream",
     "text": [
      "Epoch 18\n",
      "\tBatch Loss for curent for 99 is 0.20188\n",
      "The average loss for the epoch is 0.197479587730937\n",
      "The average validation loss for the epoch is 0.14768\n"
     ]
    },
    {
     "name": "stderr",
     "output_type": "stream",
     "text": [
      "\r",
      " 18%|█▊        | 18/100 [26:09<1:58:36, 86.79s/it]"
     ]
    },
    {
     "name": "stdout",
     "output_type": "stream",
     "text": [
      "Epoch 19\n",
      "\tBatch Loss for curent for 99 is 0.19901\n",
      "The average loss for the epoch is 0.19435977526204123\n",
      "The average validation loss for the epoch is 0.16373\n"
     ]
    },
    {
     "name": "stderr",
     "output_type": "stream",
     "text": [
      "\r",
      " 19%|█▉        | 19/100 [27:37<1:57:41, 87.18s/it]"
     ]
    },
    {
     "name": "stdout",
     "output_type": "stream",
     "text": [
      "Epoch 20\n",
      "\tBatch Loss for curent for 99 is 0.18520\n",
      "The average loss for the epoch is 0.19130266235448928\n",
      "The average validation loss for the epoch is 0.15186\n"
     ]
    },
    {
     "name": "stderr",
     "output_type": "stream",
     "text": [
      "\r",
      " 20%|██        | 20/100 [29:03<1:55:42, 86.79s/it]"
     ]
    },
    {
     "name": "stdout",
     "output_type": "stream",
     "text": [
      "Epoch 21\n",
      "\tBatch Loss for curent for 99 is 0.18806\n",
      "The average loss for the epoch is 0.18546432884731842\n",
      "The average validation loss for the epoch is 0.15042\n"
     ]
    },
    {
     "name": "stderr",
     "output_type": "stream",
     "text": [
      "\r",
      " 21%|██        | 21/100 [30:29<1:54:03, 86.62s/it]"
     ]
    },
    {
     "name": "stdout",
     "output_type": "stream",
     "text": [
      "Epoch 22\n",
      "\tBatch Loss for curent for 99 is 0.18286\n",
      "The average loss for the epoch is 0.18352885033291672\n",
      "The average validation loss for the epoch is 0.14198\n"
     ]
    },
    {
     "name": "stderr",
     "output_type": "stream",
     "text": [
      "\r",
      " 22%|██▏       | 22/100 [31:57<1:53:05, 86.99s/it]"
     ]
    },
    {
     "name": "stdout",
     "output_type": "stream",
     "text": [
      "Epoch 23\n",
      "\tBatch Loss for curent for 99 is 0.18285\n",
      "The average loss for the epoch is 0.18263409427167232\n",
      "The average validation loss for the epoch is 0.14552\n"
     ]
    },
    {
     "name": "stderr",
     "output_type": "stream",
     "text": [
      "\r",
      " 23%|██▎       | 23/100 [33:23<1:51:21, 86.78s/it]"
     ]
    },
    {
     "name": "stdout",
     "output_type": "stream",
     "text": [
      "Epoch 24\n",
      "\tBatch Loss for curent for 99 is 0.17244\n",
      "The average loss for the epoch is 0.17567957102940346\n",
      "The average validation loss for the epoch is 0.15001\n"
     ]
    },
    {
     "name": "stderr",
     "output_type": "stream",
     "text": [
      "\r",
      " 24%|██▍       | 24/100 [34:50<1:50:02, 86.88s/it]"
     ]
    },
    {
     "name": "stdout",
     "output_type": "stream",
     "text": [
      "Epoch 25\n",
      "\tBatch Loss for curent for 99 is 0.17694\n",
      "The average loss for the epoch is 0.17847940852348718\n",
      "The average validation loss for the epoch is 0.13770\n"
     ]
    },
    {
     "name": "stderr",
     "output_type": "stream",
     "text": [
      "\r",
      " 25%|██▌       | 25/100 [36:18<1:48:56, 87.15s/it]"
     ]
    },
    {
     "name": "stdout",
     "output_type": "stream",
     "text": [
      "Epoch 26\n",
      "\tBatch Loss for curent for 99 is 0.17311\n",
      "The average loss for the epoch is 0.17538050608953257\n",
      "The average validation loss for the epoch is 0.14743\n"
     ]
    },
    {
     "name": "stderr",
     "output_type": "stream",
     "text": [
      "\r",
      " 26%|██▌       | 26/100 [37:44<1:47:07, 86.86s/it]"
     ]
    },
    {
     "name": "stdout",
     "output_type": "stream",
     "text": [
      "Epoch 27\n",
      "\tBatch Loss for curent for 99 is 0.17860\n",
      "The average loss for the epoch is 0.17609840771914775\n",
      "The average validation loss for the epoch is 0.14915\n"
     ]
    },
    {
     "name": "stderr",
     "output_type": "stream",
     "text": [
      "\r",
      " 27%|██▋       | 27/100 [39:13<1:46:19, 87.39s/it]"
     ]
    },
    {
     "name": "stdout",
     "output_type": "stream",
     "text": [
      "Epoch 28\n",
      "\tBatch Loss for curent for 99 is 0.17815\n",
      "The average loss for the epoch is 0.17022717794822773\n",
      "The average validation loss for the epoch is 0.12864\n"
     ]
    },
    {
     "name": "stderr",
     "output_type": "stream",
     "text": [
      "\r",
      " 28%|██▊       | 28/100 [40:39<1:44:19, 86.94s/it]"
     ]
    },
    {
     "name": "stdout",
     "output_type": "stream",
     "text": [
      "Epoch 29\n",
      "\tBatch Loss for curent for 99 is 0.17177\n",
      "The average loss for the epoch is 0.17009330135209397\n",
      "The average validation loss for the epoch is 0.13863\n"
     ]
    },
    {
     "name": "stderr",
     "output_type": "stream",
     "text": [
      "\r",
      " 29%|██▉       | 29/100 [42:05<1:42:27, 86.58s/it]"
     ]
    },
    {
     "name": "stdout",
     "output_type": "stream",
     "text": [
      "Epoch 30\n",
      "\tBatch Loss for curent for 99 is 0.16345\n",
      "The average loss for the epoch is 0.16578983983600326\n",
      "The average validation loss for the epoch is 0.13767\n"
     ]
    },
    {
     "name": "stderr",
     "output_type": "stream",
     "text": [
      "\r",
      " 30%|███       | 30/100 [43:33<1:41:44, 87.21s/it]"
     ]
    },
    {
     "name": "stdout",
     "output_type": "stream",
     "text": [
      "Epoch 31\n",
      "\tBatch Loss for curent for 99 is 0.16457\n",
      "The average loss for the epoch is 0.16685145469236123\n",
      "The average validation loss for the epoch is 0.18237\n"
     ]
    },
    {
     "name": "stderr",
     "output_type": "stream",
     "text": [
      "\r",
      " 31%|███       | 31/100 [45:00<1:39:59, 86.94s/it]"
     ]
    },
    {
     "name": "stdout",
     "output_type": "stream",
     "text": [
      "Epoch 32\n",
      "\tBatch Loss for curent for 99 is 0.16401\n",
      "The average loss for the epoch is 0.1657225694019757\n",
      "The average validation loss for the epoch is 0.14979\n"
     ]
    },
    {
     "name": "stderr",
     "output_type": "stream",
     "text": [
      "\r",
      " 32%|███▏      | 32/100 [46:27<1:38:49, 87.20s/it]"
     ]
    },
    {
     "name": "stdout",
     "output_type": "stream",
     "text": [
      "Epoch 33\n",
      "\tBatch Loss for curent for 99 is 0.16754\n",
      "The average loss for the epoch is 0.16646839366221303\n",
      "The average validation loss for the epoch is 0.13850\n"
     ]
    },
    {
     "name": "stderr",
     "output_type": "stream",
     "text": [
      "\r",
      " 33%|███▎      | 33/100 [47:56<1:37:48, 87.59s/it]"
     ]
    },
    {
     "name": "stdout",
     "output_type": "stream",
     "text": [
      "Epoch 34\n",
      "\tBatch Loss for curent for 99 is 0.15747\n",
      "The average loss for the epoch is 0.15760794406786016\n",
      "The average validation loss for the epoch is 0.15226\n"
     ]
    },
    {
     "name": "stderr",
     "output_type": "stream",
     "text": [
      "\r",
      " 34%|███▍      | 34/100 [49:22<1:35:44, 87.04s/it]"
     ]
    },
    {
     "name": "stdout",
     "output_type": "stream",
     "text": [
      "Epoch 35\n",
      "\tBatch Loss for curent for 99 is 0.15790\n",
      "The average loss for the epoch is 0.16022070821043086\n",
      "The average validation loss for the epoch is 0.14105\n"
     ]
    },
    {
     "name": "stderr",
     "output_type": "stream",
     "text": [
      "\r",
      " 35%|███▌      | 35/100 [50:51<1:34:52, 87.58s/it]"
     ]
    },
    {
     "name": "stdout",
     "output_type": "stream",
     "text": [
      "Epoch 36\n",
      "\tBatch Loss for curent for 99 is 0.15749\n",
      "The average loss for the epoch is 0.16013878958387526\n",
      "The average validation loss for the epoch is 0.21984\n"
     ]
    },
    {
     "name": "stderr",
     "output_type": "stream",
     "text": [
      "\r",
      " 36%|███▌      | 36/100 [52:17<1:33:01, 87.21s/it]"
     ]
    },
    {
     "name": "stdout",
     "output_type": "stream",
     "text": [
      "Epoch 37\n",
      "\tBatch Loss for curent for 99 is 0.16864\n",
      "The average loss for the epoch is 0.1655448012014958\n",
      "The average validation loss for the epoch is 0.15512\n"
     ]
    },
    {
     "name": "stderr",
     "output_type": "stream",
     "text": [
      "\r",
      " 37%|███▋      | 37/100 [53:44<1:31:26, 87.08s/it]"
     ]
    },
    {
     "name": "stdout",
     "output_type": "stream",
     "text": [
      "Epoch 38\n",
      "\tBatch Loss for curent for 99 is 0.15313\n",
      "The average loss for the epoch is 0.15396422775784088\n",
      "The average validation loss for the epoch is 0.12980\n"
     ]
    },
    {
     "name": "stderr",
     "output_type": "stream",
     "text": [
      "\r",
      " 38%|███▊      | 38/100 [55:12<1:30:25, 87.50s/it]"
     ]
    },
    {
     "name": "stdout",
     "output_type": "stream",
     "text": [
      "Epoch 39\n",
      "\tBatch Loss for curent for 99 is 0.14980\n",
      "The average loss for the epoch is 0.15194577910981252\n",
      "The average validation loss for the epoch is 0.13532\n"
     ]
    },
    {
     "name": "stderr",
     "output_type": "stream",
     "text": [
      "\r",
      " 39%|███▉      | 39/100 [56:39<1:28:44, 87.29s/it]"
     ]
    },
    {
     "name": "stdout",
     "output_type": "stream",
     "text": [
      "Epoch 40\n",
      "\tBatch Loss for curent for 99 is 0.14846\n",
      "The average loss for the epoch is 0.14916834410728586\n",
      "The average validation loss for the epoch is 0.13717\n"
     ]
    },
    {
     "name": "stderr",
     "output_type": "stream",
     "text": [
      "\r",
      " 40%|████      | 40/100 [58:07<1:27:24, 87.41s/it]"
     ]
    },
    {
     "name": "stdout",
     "output_type": "stream",
     "text": [
      "Epoch 41\n",
      "\tBatch Loss for curent for 99 is 0.14888\n",
      "The average loss for the epoch is 0.1486528522057059\n",
      "The average validation loss for the epoch is 0.14352\n"
     ]
    },
    {
     "name": "stderr",
     "output_type": "stream",
     "text": [
      "\r",
      " 41%|████      | 41/100 [59:35<1:26:15, 87.72s/it]"
     ]
    },
    {
     "name": "stdout",
     "output_type": "stream",
     "text": [
      "Epoch 42\n",
      "\tBatch Loss for curent for 99 is 0.17929\n",
      "The average loss for the epoch is 0.17107870917357698\n",
      "The average validation loss for the epoch is 0.13505\n"
     ]
    },
    {
     "name": "stderr",
     "output_type": "stream",
     "text": [
      "\r",
      " 42%|████▏     | 42/100 [1:01:07<1:25:56, 88.90s/it]"
     ]
    },
    {
     "name": "stdout",
     "output_type": "stream",
     "text": [
      "Epoch 43\n",
      "\tBatch Loss for curent for 99 is 0.15287\n",
      "The average loss for the epoch is 0.14985686146620056\n",
      "The average validation loss for the epoch is 0.13358\n"
     ]
    },
    {
     "name": "stderr",
     "output_type": "stream",
     "text": [
      "\r",
      " 43%|████▎     | 43/100 [1:02:28<1:22:21, 86.69s/it]"
     ]
    },
    {
     "name": "stdout",
     "output_type": "stream",
     "text": [
      "Epoch 44\n",
      "\tBatch Loss for curent for 99 is 0.14458\n",
      "The average loss for the epoch is 0.14196105348190088\n",
      "The average validation loss for the epoch is 0.13494\n"
     ]
    },
    {
     "name": "stderr",
     "output_type": "stream",
     "text": [
      "\r",
      " 44%|████▍     | 44/100 [1:03:50<1:19:37, 85.32s/it]"
     ]
    },
    {
     "name": "stdout",
     "output_type": "stream",
     "text": [
      "Epoch 45\n",
      "\tBatch Loss for curent for 99 is 0.15045\n",
      "The average loss for the epoch is 0.1492998798948308\n",
      "The average validation loss for the epoch is 0.14381\n"
     ]
    },
    {
     "name": "stderr",
     "output_type": "stream",
     "text": [
      "\r",
      " 45%|████▌     | 45/100 [1:05:12<1:17:12, 84.22s/it]"
     ]
    },
    {
     "name": "stdout",
     "output_type": "stream",
     "text": [
      "Epoch 46\n",
      "\tBatch Loss for curent for 99 is 0.14057\n",
      "The average loss for the epoch is 0.14447246593330543\n",
      "The average validation loss for the epoch is 0.14138\n"
     ]
    },
    {
     "name": "stderr",
     "output_type": "stream",
     "text": [
      "\r",
      " 46%|████▌     | 46/100 [1:06:34<1:15:14, 83.60s/it]"
     ]
    },
    {
     "name": "stdout",
     "output_type": "stream",
     "text": [
      "Epoch 47\n",
      "\tBatch Loss for curent for 99 is 0.14221\n",
      "The average loss for the epoch is 0.14230044724429466\n",
      "The average validation loss for the epoch is 0.14005\n"
     ]
    },
    {
     "name": "stderr",
     "output_type": "stream",
     "text": [
      "\r",
      " 47%|████▋     | 47/100 [1:07:56<1:13:20, 83.03s/it]"
     ]
    },
    {
     "name": "stdout",
     "output_type": "stream",
     "text": [
      "Epoch 48\n",
      "\tBatch Loss for curent for 99 is 0.14346\n",
      "The average loss for the epoch is 0.1431927858846974\n",
      "The average validation loss for the epoch is 0.14271\n"
     ]
    },
    {
     "name": "stderr",
     "output_type": "stream",
     "text": [
      "\r",
      " 48%|████▊     | 48/100 [1:09:18<1:11:37, 82.65s/it]"
     ]
    },
    {
     "name": "stdout",
     "output_type": "stream",
     "text": [
      "Epoch 49\n",
      "\tBatch Loss for curent for 99 is 0.13827\n",
      "The average loss for the epoch is 0.14060743348136623\n",
      "The average validation loss for the epoch is 0.14172\n"
     ]
    },
    {
     "name": "stderr",
     "output_type": "stream",
     "text": [
      "\r",
      " 49%|████▉     | 49/100 [1:10:40<1:10:03, 82.43s/it]"
     ]
    },
    {
     "name": "stdout",
     "output_type": "stream",
     "text": [
      "Epoch 50\n",
      "\tBatch Loss for curent for 99 is 0.14327\n",
      "The average loss for the epoch is 0.13923809162453207\n",
      "The average validation loss for the epoch is 0.13403\n"
     ]
    },
    {
     "name": "stderr",
     "output_type": "stream",
     "text": [
      "\r",
      " 50%|█████     | 50/100 [1:12:01<1:08:31, 82.23s/it]"
     ]
    },
    {
     "name": "stdout",
     "output_type": "stream",
     "text": [
      "Epoch 51\n",
      "\tBatch Loss for curent for 99 is 0.13940\n",
      "The average loss for the epoch is 0.13823688708986911\n",
      "The average validation loss for the epoch is 0.14203\n"
     ]
    },
    {
     "name": "stderr",
     "output_type": "stream",
     "text": [
      "\r",
      " 51%|█████     | 51/100 [1:13:23<1:07:01, 82.07s/it]"
     ]
    },
    {
     "name": "stdout",
     "output_type": "stream",
     "text": [
      "Epoch 52\n",
      "\tBatch Loss for curent for 99 is 0.13482\n",
      "The average loss for the epoch is 0.13483472617040754\n",
      "The average validation loss for the epoch is 0.13327\n"
     ]
    },
    {
     "name": "stderr",
     "output_type": "stream",
     "text": [
      "\r",
      " 52%|█████▏    | 52/100 [1:14:45<1:05:33, 81.95s/it]"
     ]
    },
    {
     "name": "stdout",
     "output_type": "stream",
     "text": [
      "Epoch 53\n",
      "\tBatch Loss for curent for 99 is 0.13793\n",
      "The average loss for the epoch is 0.1344901425520163\n",
      "The average validation loss for the epoch is 0.14167\n"
     ]
    },
    {
     "name": "stderr",
     "output_type": "stream",
     "text": [
      "\r",
      " 53%|█████▎    | 53/100 [1:16:06<1:04:08, 81.88s/it]"
     ]
    },
    {
     "name": "stdout",
     "output_type": "stream",
     "text": [
      "Epoch 54\n",
      "\tBatch Loss for curent for 99 is 0.13396\n",
      "The average loss for the epoch is 0.1350544447674177\n",
      "The average validation loss for the epoch is 0.15031\n"
     ]
    },
    {
     "name": "stderr",
     "output_type": "stream",
     "text": [
      "\r",
      " 54%|█████▍    | 54/100 [1:17:29<1:02:56, 82.10s/it]"
     ]
    },
    {
     "name": "stdout",
     "output_type": "stream",
     "text": [
      "Epoch 55\n",
      "\tBatch Loss for curent for 99 is 0.13676\n",
      "The average loss for the epoch is 0.13744127964942243\n",
      "The average validation loss for the epoch is 0.14164\n"
     ]
    },
    {
     "name": "stderr",
     "output_type": "stream",
     "text": [
      "\r",
      " 55%|█████▌    | 55/100 [1:18:51<1:01:28, 81.98s/it]"
     ]
    },
    {
     "name": "stdout",
     "output_type": "stream",
     "text": [
      "Epoch 56\n",
      "\tBatch Loss for curent for 99 is 0.14277\n",
      "The average loss for the epoch is 0.13974435412914965\n",
      "The average validation loss for the epoch is 0.17136\n"
     ]
    },
    {
     "name": "stderr",
     "output_type": "stream",
     "text": [
      "\r",
      " 56%|█████▌    | 56/100 [1:20:13<1:00:05, 81.95s/it]"
     ]
    },
    {
     "name": "stdout",
     "output_type": "stream",
     "text": [
      "Epoch 57\n",
      "\tBatch Loss for curent for 99 is 0.12673\n",
      "The average loss for the epoch is 0.12974352553408808\n",
      "The average validation loss for the epoch is 0.14038\n"
     ]
    },
    {
     "name": "stderr",
     "output_type": "stream",
     "text": [
      "\r",
      " 57%|█████▋    | 57/100 [1:21:35<58:50, 82.10s/it]  "
     ]
    },
    {
     "name": "stdout",
     "output_type": "stream",
     "text": [
      "Epoch 58\n",
      "\tBatch Loss for curent for 99 is 0.13508\n",
      "The average loss for the epoch is 0.1336860687554819\n",
      "The average validation loss for the epoch is 0.14452\n"
     ]
    },
    {
     "name": "stderr",
     "output_type": "stream",
     "text": [
      "\r",
      " 58%|█████▊    | 58/100 [1:22:57<57:22, 81.96s/it]"
     ]
    },
    {
     "name": "stdout",
     "output_type": "stream",
     "text": [
      "Epoch 59\n",
      "\tBatch Loss for curent for 99 is 0.13358\n",
      "The average loss for the epoch is 0.13507829626037188\n",
      "The average validation loss for the epoch is 0.15817\n"
     ]
    },
    {
     "name": "stderr",
     "output_type": "stream",
     "text": [
      "\r",
      " 59%|█████▉    | 59/100 [1:24:18<55:56, 81.86s/it]"
     ]
    },
    {
     "name": "stdout",
     "output_type": "stream",
     "text": [
      "Epoch 60\n",
      "\tBatch Loss for curent for 99 is 0.13116\n",
      "The average loss for the epoch is 0.1307137965063774\n",
      "The average validation loss for the epoch is 0.14508\n"
     ]
    },
    {
     "name": "stderr",
     "output_type": "stream",
     "text": [
      "\r",
      " 60%|██████    | 60/100 [1:25:40<54:35, 81.90s/it]"
     ]
    },
    {
     "name": "stdout",
     "output_type": "stream",
     "text": [
      "Epoch 61\n",
      "\tBatch Loss for curent for 99 is 0.12861\n",
      "The average loss for the epoch is 0.12546745562896677\n",
      "The average validation loss for the epoch is 0.15743\n"
     ]
    },
    {
     "name": "stderr",
     "output_type": "stream",
     "text": [
      "\r",
      " 61%|██████    | 61/100 [1:27:02<53:11, 81.84s/it]"
     ]
    },
    {
     "name": "stdout",
     "output_type": "stream",
     "text": [
      "Epoch 62\n",
      "\tBatch Loss for curent for 99 is 0.12664\n",
      "The average loss for the epoch is 0.12697342954849072\n",
      "The average validation loss for the epoch is 0.14302\n"
     ]
    },
    {
     "name": "stderr",
     "output_type": "stream",
     "text": [
      "\r",
      " 62%|██████▏   | 62/100 [1:28:24<51:49, 81.83s/it]"
     ]
    },
    {
     "name": "stdout",
     "output_type": "stream",
     "text": [
      "Epoch 63\n",
      "\tBatch Loss for curent for 99 is 0.12370\n",
      "The average loss for the epoch is 0.12502626122916558\n",
      "The average validation loss for the epoch is 0.14593\n"
     ]
    },
    {
     "name": "stderr",
     "output_type": "stream",
     "text": [
      "\r",
      " 63%|██████▎   | 63/100 [1:29:46<50:30, 81.90s/it]"
     ]
    },
    {
     "name": "stdout",
     "output_type": "stream",
     "text": [
      "Epoch 64\n",
      "\tBatch Loss for curent for 99 is 0.12299\n",
      "The average loss for the epoch is 0.12240736428355671\n",
      "The average validation loss for the epoch is 0.15155\n"
     ]
    },
    {
     "name": "stderr",
     "output_type": "stream",
     "text": [
      "\r",
      " 64%|██████▍   | 64/100 [1:31:08<49:05, 81.81s/it]"
     ]
    },
    {
     "name": "stdout",
     "output_type": "stream",
     "text": [
      "Epoch 65\n",
      "\tBatch Loss for curent for 99 is 0.12101\n",
      "The average loss for the epoch is 0.12215569556851662\n",
      "The average validation loss for the epoch is 0.15801\n"
     ]
    },
    {
     "name": "stderr",
     "output_type": "stream",
     "text": [
      "\r",
      " 65%|██████▌   | 65/100 [1:32:30<47:46, 81.91s/it]"
     ]
    },
    {
     "name": "stdout",
     "output_type": "stream",
     "text": [
      "Epoch 66\n",
      "\tBatch Loss for curent for 99 is 0.12255\n",
      "The average loss for the epoch is 0.12459440494239019\n",
      "The average validation loss for the epoch is 0.14350\n"
     ]
    },
    {
     "name": "stderr",
     "output_type": "stream",
     "text": [
      "\r",
      " 66%|██████▌   | 66/100 [1:33:52<46:25, 81.94s/it]"
     ]
    },
    {
     "name": "stdout",
     "output_type": "stream",
     "text": [
      "Epoch 67\n",
      "\tBatch Loss for curent for 99 is 0.11876\n",
      "The average loss for the epoch is 0.12258428612148574\n",
      "The average validation loss for the epoch is 0.14380\n"
     ]
    },
    {
     "name": "stderr",
     "output_type": "stream",
     "text": [
      "\r",
      " 67%|██████▋   | 67/100 [1:35:14<45:06, 82.01s/it]"
     ]
    },
    {
     "name": "stdout",
     "output_type": "stream",
     "text": [
      "Epoch 68\n",
      "\tBatch Loss for curent for 99 is 0.11970\n",
      "The average loss for the epoch is 0.12225838606270197\n",
      "The average validation loss for the epoch is 0.14344\n"
     ]
    },
    {
     "name": "stderr",
     "output_type": "stream",
     "text": [
      "\r",
      " 68%|██████▊   | 68/100 [1:36:36<43:42, 81.97s/it]"
     ]
    },
    {
     "name": "stdout",
     "output_type": "stream",
     "text": [
      "Epoch 69\n",
      "\tBatch Loss for curent for 99 is 0.12431\n",
      "The average loss for the epoch is 0.1258512875016447\n",
      "The average validation loss for the epoch is 0.15181\n"
     ]
    },
    {
     "name": "stderr",
     "output_type": "stream",
     "text": [
      "\r",
      " 69%|██████▉   | 69/100 [1:37:58<42:21, 81.98s/it]"
     ]
    },
    {
     "name": "stdout",
     "output_type": "stream",
     "text": [
      "Epoch 70\n",
      "\tBatch Loss for curent for 99 is 0.11909\n",
      "The average loss for the epoch is 0.11938097125104584\n",
      "The average validation loss for the epoch is 0.15801\n"
     ]
    },
    {
     "name": "stderr",
     "output_type": "stream",
     "text": [
      "\r",
      " 70%|███████   | 70/100 [1:39:19<40:57, 81.91s/it]"
     ]
    },
    {
     "name": "stdout",
     "output_type": "stream",
     "text": [
      "Epoch 71\n",
      "\tBatch Loss for curent for 99 is 0.11343\n",
      "The average loss for the epoch is 0.11380794773083083\n",
      "The average validation loss for the epoch is 0.16202\n"
     ]
    },
    {
     "name": "stderr",
     "output_type": "stream",
     "text": [
      "\r",
      " 71%|███████   | 71/100 [1:40:42<39:37, 81.98s/it]"
     ]
    },
    {
     "name": "stdout",
     "output_type": "stream",
     "text": [
      "Epoch 72\n",
      "\tBatch Loss for curent for 99 is 0.11807\n",
      "The average loss for the epoch is 0.11941153505397717\n",
      "The average validation loss for the epoch is 0.13535\n"
     ]
    },
    {
     "name": "stderr",
     "output_type": "stream",
     "text": [
      "\r",
      " 72%|███████▏  | 72/100 [1:42:03<38:11, 81.85s/it]"
     ]
    },
    {
     "name": "stdout",
     "output_type": "stream",
     "text": [
      "Epoch 73\n",
      "\tBatch Loss for curent for 99 is 0.11426\n",
      "The average loss for the epoch is 0.11466230600292146\n",
      "The average validation loss for the epoch is 0.16322\n"
     ]
    },
    {
     "name": "stderr",
     "output_type": "stream",
     "text": [
      "\r",
      " 73%|███████▎  | 73/100 [1:43:25<36:47, 81.76s/it]"
     ]
    },
    {
     "name": "stdout",
     "output_type": "stream",
     "text": [
      "Epoch 74\n",
      "\tBatch Loss for curent for 99 is 0.11482\n",
      "The average loss for the epoch is 0.11694328545431816\n",
      "The average validation loss for the epoch is 0.18312\n"
     ]
    },
    {
     "name": "stderr",
     "output_type": "stream",
     "text": [
      "\r",
      " 74%|███████▍  | 74/100 [1:44:47<35:26, 81.80s/it]"
     ]
    },
    {
     "name": "stdout",
     "output_type": "stream",
     "text": [
      "Epoch 75\n",
      "\tBatch Loss for curent for 99 is 0.11592\n",
      "The average loss for the epoch is 0.11535639518686615\n",
      "The average validation loss for the epoch is 0.14812\n"
     ]
    },
    {
     "name": "stderr",
     "output_type": "stream",
     "text": [
      "\r",
      " 75%|███████▌  | 75/100 [1:46:08<34:03, 81.75s/it]"
     ]
    },
    {
     "name": "stdout",
     "output_type": "stream",
     "text": [
      "Epoch 76\n",
      "\tBatch Loss for curent for 99 is 0.12493\n",
      "The average loss for the epoch is 0.12096002627729746\n",
      "The average validation loss for the epoch is 0.16557\n"
     ]
    },
    {
     "name": "stderr",
     "output_type": "stream",
     "text": [
      "\r",
      " 76%|███████▌  | 76/100 [1:47:31<32:47, 82.00s/it]"
     ]
    },
    {
     "name": "stdout",
     "output_type": "stream",
     "text": [
      "Epoch 77\n",
      "\tBatch Loss for curent for 99 is 0.11919\n",
      "The average loss for the epoch is 0.11614946034098171\n",
      "The average validation loss for the epoch is 0.15008\n"
     ]
    },
    {
     "name": "stderr",
     "output_type": "stream",
     "text": [
      "\r",
      " 77%|███████▋  | 77/100 [1:48:52<31:23, 81.87s/it]"
     ]
    },
    {
     "name": "stdout",
     "output_type": "stream",
     "text": [
      "Epoch 78\n",
      "\tBatch Loss for curent for 99 is 0.11904\n",
      "The average loss for the epoch is 0.11633491902295208\n",
      "The average validation loss for the epoch is 0.16129\n"
     ]
    },
    {
     "name": "stderr",
     "output_type": "stream",
     "text": [
      "\r",
      " 78%|███████▊  | 78/100 [1:50:14<30:00, 81.84s/it]"
     ]
    },
    {
     "name": "stdout",
     "output_type": "stream",
     "text": [
      "Epoch 79\n",
      "\tBatch Loss for curent for 99 is 0.11997\n",
      "The average loss for the epoch is 0.11865961040657852\n",
      "The average validation loss for the epoch is 0.19750\n"
     ]
    },
    {
     "name": "stderr",
     "output_type": "stream",
     "text": [
      "\r",
      " 79%|███████▉  | 79/100 [1:51:36<28:37, 81.81s/it]"
     ]
    },
    {
     "name": "stdout",
     "output_type": "stream",
     "text": [
      "Epoch 80\n",
      "\tBatch Loss for curent for 99 is 0.11539\n",
      "The average loss for the epoch is 0.11536305245616674\n",
      "The average validation loss for the epoch is 0.15441\n"
     ]
    },
    {
     "name": "stderr",
     "output_type": "stream",
     "text": [
      "\r",
      " 80%|████████  | 80/100 [1:52:58<27:15, 81.77s/it]"
     ]
    },
    {
     "name": "stdout",
     "output_type": "stream",
     "text": [
      "Epoch 81\n",
      "\tBatch Loss for curent for 99 is 0.11207\n",
      "The average loss for the epoch is 0.10975295320855386\n",
      "The average validation loss for the epoch is 0.16591\n"
     ]
    },
    {
     "name": "stderr",
     "output_type": "stream",
     "text": [
      "\r",
      " 81%|████████  | 81/100 [1:54:20<25:56, 81.92s/it]"
     ]
    },
    {
     "name": "stdout",
     "output_type": "stream",
     "text": [
      "Epoch 82\n",
      "\tBatch Loss for curent for 99 is 0.10714\n",
      "The average loss for the epoch is 0.10809933909102884\n",
      "The average validation loss for the epoch is 0.14444\n"
     ]
    },
    {
     "name": "stderr",
     "output_type": "stream",
     "text": [
      "\r",
      " 82%|████████▏ | 82/100 [1:55:42<24:33, 81.86s/it]"
     ]
    },
    {
     "name": "stdout",
     "output_type": "stream",
     "text": [
      "Epoch 83\n",
      "\tBatch Loss for curent for 99 is 0.11375\n",
      "The average loss for the epoch is 0.11372301782144927\n",
      "The average validation loss for the epoch is 0.17327\n"
     ]
    },
    {
     "name": "stderr",
     "output_type": "stream",
     "text": [
      "\r",
      " 83%|████████▎ | 83/100 [1:57:03<23:10, 81.81s/it]"
     ]
    },
    {
     "name": "stdout",
     "output_type": "stream",
     "text": [
      "Epoch 84\n",
      "\tBatch Loss for curent for 99 is 0.11539\n",
      "The average loss for the epoch is 0.11371750031544275\n",
      "The average validation loss for the epoch is 0.15965\n"
     ]
    },
    {
     "name": "stderr",
     "output_type": "stream",
     "text": [
      "\r",
      " 84%|████████▍ | 84/100 [1:58:25<21:48, 81.77s/it]"
     ]
    },
    {
     "name": "stdout",
     "output_type": "stream",
     "text": [
      "Epoch 85\n",
      "\tBatch Loss for curent for 99 is 0.10693\n",
      "The average loss for the epoch is 0.10692687769522842\n",
      "The average validation loss for the epoch is 0.14561\n"
     ]
    },
    {
     "name": "stderr",
     "output_type": "stream",
     "text": [
      "\r",
      " 85%|████████▌ | 85/100 [1:59:47<20:26, 81.77s/it]"
     ]
    },
    {
     "name": "stdout",
     "output_type": "stream",
     "text": [
      "Epoch 86\n",
      "\tBatch Loss for curent for 99 is 0.10213\n",
      "The average loss for the epoch is 0.10281848977685598\n",
      "The average validation loss for the epoch is 0.15725\n"
     ]
    },
    {
     "name": "stderr",
     "output_type": "stream",
     "text": [
      "\r",
      " 86%|████████▌ | 86/100 [2:01:09<19:05, 81.85s/it]"
     ]
    },
    {
     "name": "stdout",
     "output_type": "stream",
     "text": [
      "Epoch 87\n",
      "\tBatch Loss for curent for 99 is 0.10087\n",
      "The average loss for the epoch is 0.10421195546291885\n",
      "The average validation loss for the epoch is 0.16130\n"
     ]
    },
    {
     "name": "stderr",
     "output_type": "stream",
     "text": [
      "\r",
      " 87%|████████▋ | 87/100 [2:02:31<17:46, 82.06s/it]"
     ]
    },
    {
     "name": "stdout",
     "output_type": "stream",
     "text": [
      "Epoch 88\n",
      "\tBatch Loss for curent for 99 is 0.10658\n",
      "The average loss for the epoch is 0.10896612405386895\n",
      "The average validation loss for the epoch is 0.17231\n"
     ]
    },
    {
     "name": "stderr",
     "output_type": "stream",
     "text": [
      "\r",
      " 88%|████████▊ | 88/100 [2:03:53<16:25, 82.09s/it]"
     ]
    },
    {
     "name": "stdout",
     "output_type": "stream",
     "text": [
      "Epoch 89\n",
      "\tBatch Loss for curent for 99 is 0.11055\n",
      "The average loss for the epoch is 0.10847960786981732\n",
      "The average validation loss for the epoch is 0.18716\n"
     ]
    },
    {
     "name": "stderr",
     "output_type": "stream",
     "text": [
      "\r",
      " 89%|████████▉ | 89/100 [2:05:16<15:02, 82.08s/it]"
     ]
    },
    {
     "name": "stdout",
     "output_type": "stream",
     "text": [
      "Epoch 90\n",
      "\tBatch Loss for curent for 99 is 0.10840\n",
      "The average loss for the epoch is 0.10618183523884618\n",
      "The average validation loss for the epoch is 0.19106\n"
     ]
    },
    {
     "name": "stderr",
     "output_type": "stream",
     "text": [
      "\r",
      " 90%|█████████ | 90/100 [2:06:37<13:40, 82.04s/it]"
     ]
    },
    {
     "name": "stdout",
     "output_type": "stream",
     "text": [
      "Epoch 91\n",
      "\tBatch Loss for curent for 99 is 0.10341\n",
      "The average loss for the epoch is 0.10510967872763803\n",
      "The average validation loss for the epoch is 0.16519\n"
     ]
    },
    {
     "name": "stderr",
     "output_type": "stream",
     "text": [
      "\r",
      " 91%|█████████ | 91/100 [2:08:00<12:19, 82.12s/it]"
     ]
    },
    {
     "name": "stdout",
     "output_type": "stream",
     "text": [
      "Epoch 92\n",
      "\tBatch Loss for curent for 99 is 0.10642\n",
      "The average loss for the epoch is 0.1052797455633186\n",
      "The average validation loss for the epoch is 0.19342\n"
     ]
    },
    {
     "name": "stderr",
     "output_type": "stream",
     "text": [
      "\r",
      " 92%|█████████▏| 92/100 [2:09:22<10:56, 82.01s/it]"
     ]
    },
    {
     "name": "stdout",
     "output_type": "stream",
     "text": [
      "Epoch 93\n",
      "\tBatch Loss for curent for 99 is 0.10540\n",
      "The average loss for the epoch is 0.10391143760131916\n",
      "The average validation loss for the epoch is 0.14854\n"
     ]
    },
    {
     "name": "stderr",
     "output_type": "stream",
     "text": [
      "\r",
      " 93%|█████████▎| 93/100 [2:10:43<09:33, 81.97s/it]"
     ]
    },
    {
     "name": "stdout",
     "output_type": "stream",
     "text": [
      "Epoch 94\n",
      "\tBatch Loss for curent for 99 is 0.10167\n",
      "The average loss for the epoch is 0.10389576222337978\n",
      "The average validation loss for the epoch is 0.18708\n"
     ]
    },
    {
     "name": "stderr",
     "output_type": "stream",
     "text": [
      "\r",
      " 94%|█████████▍| 94/100 [2:12:05<08:11, 81.84s/it]"
     ]
    },
    {
     "name": "stdout",
     "output_type": "stream",
     "text": [
      "Epoch 95\n",
      "\tBatch Loss for curent for 99 is 0.11443\n",
      "The average loss for the epoch is 0.10819053131092281\n",
      "The average validation loss for the epoch is 0.21118\n"
     ]
    },
    {
     "name": "stderr",
     "output_type": "stream",
     "text": [
      "\r",
      " 95%|█████████▌| 95/100 [2:13:27<06:49, 81.92s/it]"
     ]
    },
    {
     "name": "stdout",
     "output_type": "stream",
     "text": [
      "Epoch 96\n",
      "\tBatch Loss for curent for 99 is 0.10268\n",
      "The average loss for the epoch is 0.10266060343119486\n",
      "The average validation loss for the epoch is 0.21515\n"
     ]
    },
    {
     "name": "stderr",
     "output_type": "stream",
     "text": [
      "\r",
      " 96%|█████████▌| 96/100 [2:14:49<05:27, 81.91s/it]"
     ]
    },
    {
     "name": "stdout",
     "output_type": "stream",
     "text": [
      "Epoch 97\n",
      "\tBatch Loss for curent for 99 is 0.10677\n",
      "The average loss for the epoch is 0.10230694547373587\n",
      "The average validation loss for the epoch is 0.17323\n"
     ]
    },
    {
     "name": "stderr",
     "output_type": "stream",
     "text": [
      "\r",
      " 97%|█████████▋| 97/100 [2:16:12<04:06, 82.15s/it]"
     ]
    },
    {
     "name": "stdout",
     "output_type": "stream",
     "text": [
      "Epoch 98\n",
      "\tBatch Loss for curent for 99 is 0.10422\n",
      "The average loss for the epoch is 0.10203823373111755\n",
      "The average validation loss for the epoch is 0.18516\n"
     ]
    },
    {
     "name": "stderr",
     "output_type": "stream",
     "text": [
      "\r",
      " 98%|█████████▊| 98/100 [2:17:34<02:44, 82.11s/it]"
     ]
    },
    {
     "name": "stdout",
     "output_type": "stream",
     "text": [
      "Epoch 99\n",
      "\tBatch Loss for curent for 99 is 0.10418\n",
      "The average loss for the epoch is 0.10458298989069399\n",
      "The average validation loss for the epoch is 0.15885\n"
     ]
    },
    {
     "name": "stderr",
     "output_type": "stream",
     "text": [
      "\r",
      " 99%|█████████▉| 99/100 [2:18:56<01:22, 82.14s/it]"
     ]
    },
    {
     "name": "stdout",
     "output_type": "stream",
     "text": [
      "Epoch 100\n",
      "\tBatch Loss for curent for 99 is 0.09761\n",
      "The average loss for the epoch is 0.09828152304700531\n",
      "The average validation loss for the epoch is 0.21369\n"
     ]
    },
    {
     "name": "stderr",
     "output_type": "stream",
     "text": [
      "100%|██████████| 100/100 [2:20:18<00:00, 84.18s/it]\n"
     ]
    }
   ],
   "source": [
    "train()"
   ]
  },
  {
   "cell_type": "code",
   "execution_count": null,
   "metadata": {},
   "outputs": [],
   "source": []
  },
  {
   "cell_type": "code",
   "execution_count": 9,
   "metadata": {},
   "outputs": [],
   "source": [
    "torch.cuda.empty_cache()"
   ]
  },
  {
   "cell_type": "code",
   "execution_count": 10,
   "metadata": {},
   "outputs": [],
   "source": [
    "def diceScoreMulti(inputs,targets,num_class = 4):\n",
    "    epsilon = 1e-6\n",
    "    #print('pred tensor size ',inputs.size())\n",
    "#     inputs = torch.nn.Softmax(dim = 1)(inputs)\n",
    "#     #print('pred tensor size after softmax',inputs.size())\n",
    "#     _,y_pred_idx = torch.max(inputs,dim = 1)\n",
    "    dice_scores = []\n",
    "    for class_idx in range(num_class):\n",
    "        y_true_class = (targets == class_idx).float()\n",
    "        y_pred_class = (y_pred_idx == class_idx).float()\n",
    "\n",
    "        intersection = torch.sum(y_true_class * y_pred_class, dim = (1,2))\n",
    "        total = torch.sum(y_true_class,dim = (1,2)) + torch.sum(y_pred_class,dim= (1,2))\n",
    "        dice = (2. * intersection + epsilon)/(total+epsilon)\n",
    "        dice_scores.append(torch.mean(dice).item()) # getting mean across batches of particular class\n",
    "    average_dice = torch.mean(torch.tensor(dice_scores)) # getting mean across classes\n",
    "    return average_dice"
   ]
  },
  {
   "cell_type": "code",
   "execution_count": 11,
   "metadata": {},
   "outputs": [],
   "source": [
    "test_dir = '/home/UFAD/s.kapoor/GrainGrowth/skapoor/dl_mis/ACDC/test_files'\n",
    "total_test_files = []\n",
    "for file in os.listdir(test_dir):\n",
    "    if file.endswith('.npy'):\n",
    "        total_test_files.append(os.path.join(test_dir,file))"
   ]
  },
  {
   "cell_type": "code",
   "execution_count": 13,
   "metadata": {},
   "outputs": [
    {
     "name": "stdout",
     "output_type": "stream",
     "text": [
      "The average dice score is 0.8081310894686493\n"
     ]
    }
   ],
   "source": [
    "# visualize the mask outputs\n",
    "use_cuda = torch.cuda.is_available()\n",
    "device = torch.device(\"cuda:3\" if use_cuda else \"cpu\")\n",
    "\n",
    "#     train_data = SegData(image_paths = train_img,mask_paths=train_mask,img_mean=[129.908, 129.908, 129.908],img_std=[64.484, 64.484, 64.484])\n",
    "#valid_data = SegData(image_paths = valid_img,mask_paths=valid_mask,img_mean=[129.908, 129.908, 129.908],img_std=[64.484, 64.484, 64.484])\n",
    "test_data = SegDataNp(image_paths = total_test_files,img_mean=90,img_std=101)\n",
    "model_vis = ResUnet(1,4)\n",
    "model_vis_path = '/home/UFAD/s.kapoor/GrainGrowth/skapoor/dl_mis/COVID-19_Radiography_Dataset/UNET/model_q3_resunet/weigths/best_epoch27'\n",
    "model_vis.load_state_dict(torch.load(model_vis_path))\n",
    "model_vis.to(device)\n",
    "model_vis.eval()\n",
    "dice_scores = []\n",
    "\n",
    "test_dataloader = DataLoader(test_data,batch_size = 1,shuffle = True,pin_memory = True)\n",
    "for k,batch in enumerate(test_dataloader):\n",
    "    final_image = torch.unsqueeze(batch['image'],1).to(device)\n",
    "    final_mask = batch['mask'].to(device)\n",
    "\n",
    "    pred = model_vis.forward(final_image)\n",
    "    pred = torch.nn.Softmax(dim = 1)(pred)\n",
    "    #print('pred tensor size after softmax',inputs.size())\n",
    "    _,y_pred_idx = torch.max(pred,dim = 1)\n",
    "    dice_score = diceScoreMulti(y_pred_idx,final_mask)\n",
    "    dice_scores.append(dice_score.item())\n",
    "    #print('the dice score is {0}'.format(dice_score.item()))\n",
    "\n",
    "print('The average dice score is {0}'.format(np.mean(np.array(dice_scores))))"
   ]
  },
  {
   "cell_type": "code",
   "execution_count": 14,
   "metadata": {},
   "outputs": [
    {
     "data": {
      "text/plain": [
       "Text(0.5, 1.0, 'pred mask')"
      ]
     },
     "execution_count": 14,
     "metadata": {},
     "output_type": "execute_result"
    },
    {
     "data": {
      "image/png": "[encoded data removed]",
      "text/plain": [
       "<Figure size 864x288 with 1 Axes>"
      ]
     },
     "metadata": {
      "needs_background": "light"
     },
     "output_type": "display_data"
    },
    {
     "data": {
      "image/png": "[encoded data removed]",
      "text/plain": [
       "<Figure size 864x288 with 1 Axes>"
      ]
     },
     "metadata": {
      "needs_background": "light"
     },
     "output_type": "display_data"
    },
    {
     "data": {
      "image/png": "[encoded data removed]",
      "text/plain": [
       "<Figure size 864x288 with 1 Axes>"
      ]
     },
     "metadata": {
      "needs_background": "light"
     },
     "output_type": "display_data"
    }
   ],
   "source": [
    "final_image_transpose = torch.squeeze(final_image).cpu().detach().numpy()\n",
    "                                \n",
    "final_mask_transpose = torch.squeeze(final_mask).cpu().detach().numpy()\n",
    "\n",
    "pred_image_transpose = torch.squeeze(y_pred_idx).cpu().detach().numpy()\n",
    "\n",
    "\n",
    "                                \n",
    "                                \n",
    "plt.figure(figsize = (12,4))\n",
    "plt.subplot(1,3,1)\n",
    "plt.imshow(final_image_transpose)\n",
    "plt.title('orignal image')\n",
    "\n",
    "plt.figure(figsize = (12,4))\n",
    "plt.subplot(1,3,2)\n",
    "plt.imshow(final_mask_transpose)\n",
    "plt.title('orignal mask')\n",
    "\n",
    "plt.figure(figsize = (12,4))\n",
    "plt.subplot(1,3,3)\n",
    "plt.imshow(pred_image_transpose)\n",
    "plt.title('pred mask')"
   ]
  },
  {
   "cell_type": "code",
   "execution_count": null,
   "metadata": {},
   "outputs": [],
   "source": [
    "total_mean"
   ]
  },
  {
   "cell_type": "code",
   "execution_count": null,
   "metadata": {},
   "outputs": [],
   "source": [
    "total_std"
   ]
  },
  {
   "cell_type": "code",
   "execution_count": null,
   "metadata": {},
   "outputs": [],
   "source": [
    "import pytorch_model_summary as pms"
   ]
  },
  {
   "cell_type": "code",
   "execution_count": null,
   "metadata": {},
   "outputs": [],
   "source": [
    "model = Unet(3,1)"
   ]
  },
  {
   "cell_type": "code",
   "execution_count": null,
   "metadata": {},
   "outputs": [],
   "source": [
    "print(pms.summary(model, torch.zeros((32, 3, 256, 256)), show_input=True, show_hierarchical=True))"
   ]
  },
  {
   "cell_type": "code",
   "execution_count": null,
   "metadata": {},
   "outputs": [],
   "source": []
  }
 ],
 "metadata": {
  "kernelspec": {
   "display_name": "Python 3",
   "language": "python",
   "name": "python3"
  },
  "language_info": {
   "codemirror_mode": {
    "name": "ipython",
    "version": 3
   },
   "file_extension": ".py",
   "mimetype": "text/x-python",
   "name": "python",
   "nbconvert_exporter": "python",
   "pygments_lexer": "ipython3",
   "version": "3.8.8"
  }
 },
 "nbformat": 4,
 "nbformat_minor": 2
}
