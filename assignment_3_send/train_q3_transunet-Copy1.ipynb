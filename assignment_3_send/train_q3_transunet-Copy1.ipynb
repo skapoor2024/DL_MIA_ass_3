{
 "cells": [
  {
   "cell_type": "code",
   "execution_count": 2,
   "metadata": {},
   "outputs": [],
   "source": [
    "import random\n",
    "import numpy as np\n",
    "import matplotlib.pyplot as plt\n",
    "import seaborn as sns\n",
    "import PIL.Image as Image\n",
    "import os\n",
    "import math"
   ]
  },
  {
   "cell_type": "code",
   "execution_count": 3,
   "metadata": {},
   "outputs": [],
   "source": [
    "from sklearn.model_selection import train_test_split\n",
    "import torch\n",
    "from torch.utils.data import Dataset, DataLoader\n",
    "from torchvision import transforms\n",
    "from torch.utils.tensorboard import SummaryWriter\n"
   ]
  },
  {
   "cell_type": "code",
   "execution_count": 4,
   "metadata": {},
   "outputs": [],
   "source": [
    "from transunet import TransUNet"
   ]
  },
  {
   "cell_type": "code",
   "execution_count": 16,
   "metadata": {},
   "outputs": [],
   "source": [
    "class SegDataNp(Dataset):\n",
    "\n",
    "    def __init__(self,image_paths,img_mean,img_std,transform = None):\n",
    "        super().__init__()\n",
    "        self.image_paths = image_paths\n",
    "        self.transform = transform\n",
    "        self.img_mean = img_mean\n",
    "        self.img_std = img_std\n",
    "\n",
    "    \n",
    "    def __len__(self):\n",
    "        return len(self.image_paths)\n",
    "\n",
    "    def __getitem__(self, index):\n",
    "\n",
    "        file =  np.load(self.image_paths[index])\n",
    "\n",
    "        image = file[0]\n",
    "        mask = file[1]\n",
    "\n",
    "        image = torch.from_numpy(image).to(torch.float32)\n",
    "        mask = torch.from_numpy(mask).to(torch.long)\n",
    "\n",
    "        image = torch.unsqueeze(torch.unsqueeze(image,dim=0),dim=0)\n",
    "        mask = torch.unsqueeze(torch.unsqueeze(mask,dim=0),dim=0)\n",
    "        \n",
    "        basic_image_transform = transforms.Compose(transforms=[\n",
    "            transforms.Resize(size = (128,128)),\n",
    "            transforms.Normalize(mean = self.img_mean,std = self.img_std),\n",
    "        ])\n",
    "\n",
    "        basic_mask_transform = transforms.Compose(transforms=[\n",
    "            transforms.Resize(size = (128,128)),\n",
    "        ])\n",
    "\n",
    "        image = basic_image_transform(image)\n",
    "        mask = basic_mask_transform(mask)\n",
    "\n",
    "        if self.transform:\n",
    "\n",
    "            image = self.transform(image)\n",
    "            mask = self.transform(mask)\n",
    "            \n",
    "        image = image.squeeze()\n",
    "        mask = mask.squeeze()\n",
    "        \n",
    "        sample = {'image':image,'mask':mask}\n",
    "\n",
    "        return sample"
   ]
  },
  {
   "cell_type": "code",
   "execution_count": 32,
   "metadata": {},
   "outputs": [],
   "source": [
    "data_dir = '/home/UFAD/s.kapoor/GrainGrowth/skapoor/dl_mis/ACDC/train_files'\n",
    "total_input_files = []\n",
    "for file in os.listdir(data_dir):\n",
    "    if file.endswith('.npy'):\n",
    "        total_input_files.append(os.path.join(data_dir,file))"
   ]
  },
  {
   "cell_type": "code",
   "execution_count": 12,
   "metadata": {},
   "outputs": [],
   "source": [
    "from tqdm import tqdm"
   ]
  },
  {
   "cell_type": "code",
   "execution_count": 13,
   "metadata": {},
   "outputs": [],
   "source": [
    "import gc"
   ]
  },
  {
   "cell_type": "code",
   "execution_count": 49,
   "metadata": {},
   "outputs": [],
   "source": [
    "def train():\n",
    "\n",
    "    seed = 13\n",
    "    torch.manual_seed(seed)\n",
    "    best_v_loss = 1_000_000\n",
    "\n",
    "    use_cuda = torch.cuda.is_available()\n",
    "    device = torch.device(\"cuda:0\" if use_cuda else \"cpu\")\n",
    "    \n",
    "    model = TransUNet(img_dim=128,\n",
    "                          in_channels=1,\n",
    "                          out_channels=128,\n",
    "                          head_num=4,\n",
    "                          mlp_dim=512,\n",
    "                          block_num=8,\n",
    "                          patch_dim=16,\n",
    "                          class_num=4)\n",
    "    model.to(device)\n",
    "    epochs = 100\n",
    "    loss_func = torch.nn.CrossEntropyLoss(weight = torch.tensor([0.0043484 , 0.3454297 , 0.32142933, 0.32879258])) # calculated class imbalance weight\n",
    "    loss_func.to(device)\n",
    "#     optimizer = torch.optim.Adam(model.parameters(),lr = 0.001)\n",
    "    optimizer = torch.optim.SGD(model.parameters(),lr = 0.01,momentum = 0.9, weight_decay = 1e-4)\n",
    "    scheduler = torch.optim.lr_scheduler.ReduceLROnPlateau(optimizer = optimizer,factor = 0.8,min_lr=1e-4)\n",
    "    pth = os.getcwd()\n",
    "    model_path = os.path.join(pth,'model_q3_transunet')\n",
    "    log_dir = os.path.join(model_path,'runs')\n",
    "    wts_path = os.path.join(model_path,'weigths')\n",
    "\n",
    "    if os.path.exists(model_path) == False:\n",
    "        os.mkdir(model_path)\n",
    "        \n",
    "        os.mkdir(log_dir)\n",
    "        \n",
    "        os.mkdir(wts_path)\n",
    "    \n",
    "    writer = SummaryWriter(log_dir=log_dir)\n",
    "\n",
    "    #splitting the dataset into traininig and validation set\n",
    "    train_img,valid_img = train_test_split(total_input_files,test_size=0.2,random_state=seed)\n",
    "    train_data = SegDataNp(image_paths = train_img,img_mean=90,img_std=101) # calculated mean and std of the bianry images.\n",
    "    valid_data = SegDataNp(image_paths = valid_img,img_mean=90,img_std=101)\n",
    "    train_dataloader = DataLoader(train_data,batch_size = 8,shuffle = True,pin_memory = True)\n",
    "    valid_dataloader = DataLoader(valid_data,batch_size = 8,shuffle = False,pin_memory = True)\n",
    "\n",
    "    #print(\"After Model to device : \",torch.cuda.memory_allocated(device)/(1024*1024))\n",
    "    for e in tqdm(range(epochs)):\n",
    "\n",
    "        #training the model \n",
    "        print('Epoch {0}'.format(e+1))\n",
    "        epoch_loss = 0.0\n",
    "        run_loss = 0.0\n",
    "        model.train(True)\n",
    "\n",
    "        for i,batch in enumerate(train_dataloader):\n",
    "            \n",
    "            image = batch['image'].to(device)\n",
    "            mask = batch['mask'].to(device)\n",
    "            \n",
    "            image = torch.unsqueeze(image,axis = 1)\n",
    "            mask = torch.unsqueeze(mask,axis = 1)\n",
    "            \n",
    "            #print(image.size())\n",
    "            #print(mask.size())\n",
    "            \n",
    "            \n",
    "    \n",
    "            #print(batch['image'].shape)\n",
    "            v_img = transforms.RandomVerticalFlip(p=1)(image)\n",
    "            h_img = transforms.RandomHorizontalFlip(p=1)(image)\n",
    "            r_img = transforms.RandomRotation(degrees=(-25,25))(image)\n",
    "            image_final = torch.cat((image,v_img,h_img,r_img),0)\n",
    "\n",
    "            #print(image_final.shape)\n",
    "                    \n",
    "            v_mask = transforms.RandomVerticalFlip(p=1)(mask)\n",
    "            h_mask = transforms.RandomHorizontalFlip(p=1)(mask)\n",
    "            r_mask = transforms.RandomRotation(degrees=(-25,25))(mask)\n",
    "            mask_final = torch.cat((mask,v_mask,h_mask,r_mask),0)\n",
    "            mask_final = torch.squeeze(mask_final)\n",
    "            #print(mask_final.shape)\n",
    "            \n",
    "            #break\n",
    "            \n",
    "#             image_final.to(device)\n",
    "#             mask_final.to(device)\n",
    "            \n",
    "#             print(image_final.dtype)\n",
    "#             print(mask_final.dtype)\n",
    "#             print(device)\n",
    "            #a = torch.cuda.memory_allocated(device)/(1024*1024)\n",
    "            optimizer.zero_grad()\n",
    "            pred = model.forward(image_final)\n",
    "            #print(\"after forward pass\", torch.cuda.memory_allocated(device)/(1024*1024))\n",
    "            #b = torch.cuda.memory_allocated(device)/(1024*1024)\n",
    "            #print(\"memory consumed by forward_pass\",b-a)\n",
    "            loss = loss_func(pred,mask_final)\n",
    "            \n",
    "\n",
    "            run_loss = run_loss + loss.item()\n",
    "            epoch_loss = epoch_loss + loss.item()\n",
    "            \n",
    "            loss.backward()\n",
    "            #print(\"memory after backward pass \", torch.cuda.memory_allocated(device)/(1024*1024))\n",
    "            optimizer.step()\n",
    "            #print(\"memory after optimizer \",torch.cuda.memory_allocated(device)/(1024*1024))\n",
    "\n",
    "            #print('the current loss is {0}'.format(run_loss))\n",
    "            \n",
    "            #break\n",
    "            \n",
    "#             del mask_final\n",
    "#             del image_final\n",
    "#             del pred\n",
    "#             del v_img\n",
    "#             del h_img\n",
    "#             del r_img\n",
    "#             del v_mask\n",
    "#             del h_mask\n",
    "#             del r_mask\n",
    "#             del mask\n",
    "#             del image\n",
    "            \n",
    "            #print(\"memory after delete \",torch.cuda.memory_allocated(device)/(1024*1024))\n",
    "            \n",
    "\n",
    "            if(i%100 == 99):\n",
    "                \n",
    "#                 for obj in gc.get_objects():\n",
    "#                     try:\n",
    "#                         if torch.is_tensor(obj) or (hasattr(obj,'data') and torch.is_tensor(obg.data)):\n",
    "#                             print(type(obj),obj.size())\n",
    "#                     except:\n",
    "#                         pass\n",
    "                \n",
    "\n",
    "                print(\"\\tBatch Loss for curent for {0} is {1:.5f}\".format(i,run_loss/100))\n",
    "                run_loss = 0.0\n",
    "                \n",
    "        #break\n",
    "        avg_e_loss = epoch_loss/(i+1)\n",
    "        print('The average loss for the epoch is {0}'.format(avg_e_loss))\n",
    "\n",
    "        #validating the model\n",
    "        model.train(False)\n",
    "\n",
    "        val_loss = 0.0\n",
    "\n",
    "        for k,batch in enumerate(valid_dataloader):\n",
    "            final_image = torch.unsqueeze(batch['image'],1).to(device)\n",
    "            final_mask = batch['mask'].to(device)\n",
    "\n",
    "            pred = model.forward(final_image)\n",
    "            loss = loss_func(pred,final_mask)\n",
    "\n",
    "            val_loss+= loss.item()\n",
    "            \n",
    "#             del final_image\n",
    "#             del final_mask\n",
    "            #break\n",
    "        \n",
    "        \n",
    "\n",
    "        avg_val_loss = val_loss/(k+1)\n",
    "        print('The average validation loss for the epoch is {0:.5f}'.format(avg_val_loss))\n",
    "        writer.add_scalars('Training vs. Validation Loss',\n",
    "                    { 'Training' : avg_e_loss, 'Validation' : avg_val_loss },\n",
    "                    e)\n",
    "        \n",
    "        if avg_val_loss < best_v_loss:\n",
    "\n",
    "            best_v_loss = avg_val_loss\n",
    "            best_wt_path = os.path.join(wts_path,'best_epoch'+str(e))\n",
    "            \n",
    "\n",
    "        writer.flush()\n",
    "        \n",
    "\n",
    "        #break\n",
    "        wt_path =  os.path.join(wts_path,'epoch_'+str(e))\n",
    "        torch.save(model.state_dict(), wt_path)\n",
    "    torch.save(model.state_dict(), best_wt_path)"
   ]
  },
  {
   "cell_type": "code",
   "execution_count": 50,
   "metadata": {
    "scrolled": true
   },
   "outputs": [
    {
     "name": "stderr",
     "output_type": "stream",
     "text": [
      "\r",
      "  0%|          | 0/100 [00:00<?, ?it/s]"
     ]
    },
    {
     "name": "stdout",
     "output_type": "stream",
     "text": [
      "Epoch 1\n",
      "\tBatch Loss for curent for 99 is 1.01940\n",
      "The average loss for the epoch is 0.8846340660025312\n",
      "The average validation loss for the epoch is 0.79956\n"
     ]
    },
    {
     "name": "stderr",
     "output_type": "stream",
     "text": [
      "\r",
      "  1%|          | 1/100 [00:57<1:34:55, 57.53s/it]"
     ]
    },
    {
     "name": "stdout",
     "output_type": "stream",
     "text": [
      "Epoch 2\n",
      "\tBatch Loss for curent for 99 is 0.65372\n",
      "The average loss for the epoch is 0.6347723041529431\n",
      "The average validation loss for the epoch is 0.49662\n"
     ]
    },
    {
     "name": "stderr",
     "output_type": "stream",
     "text": [
      "\r",
      "  2%|▏         | 2/100 [01:57<1:35:50, 58.68s/it]"
     ]
    },
    {
     "name": "stdout",
     "output_type": "stream",
     "text": [
      "Epoch 3\n",
      "\tBatch Loss for curent for 99 is 0.58080\n",
      "The average loss for the epoch is 0.5632246734272123\n",
      "The average validation loss for the epoch is 1.06708\n"
     ]
    },
    {
     "name": "stderr",
     "output_type": "stream",
     "text": [
      "\r",
      "  3%|▎         | 3/100 [02:59<1:37:25, 60.26s/it]"
     ]
    },
    {
     "name": "stdout",
     "output_type": "stream",
     "text": [
      "Epoch 4\n",
      "\tBatch Loss for curent for 99 is 0.49333\n",
      "The average loss for the epoch is 0.505714689717867\n",
      "The average validation loss for the epoch is 0.42882\n"
     ]
    },
    {
     "name": "stderr",
     "output_type": "stream",
     "text": [
      "\r",
      "  4%|▍         | 4/100 [03:53<1:32:56, 58.09s/it]"
     ]
    },
    {
     "name": "stdout",
     "output_type": "stream",
     "text": [
      "Epoch 5\n",
      "\tBatch Loss for curent for 99 is 0.47309\n",
      "The average loss for the epoch is 0.4727535321138292\n",
      "The average validation loss for the epoch is 0.42288\n"
     ]
    },
    {
     "name": "stderr",
     "output_type": "stream",
     "text": [
      "\r",
      "  5%|▌         | 5/100 [04:52<1:32:20, 58.32s/it]"
     ]
    },
    {
     "name": "stdout",
     "output_type": "stream",
     "text": [
      "Epoch 6\n",
      "\tBatch Loss for curent for 99 is 0.42076\n",
      "The average loss for the epoch is 0.43503427599113026\n",
      "The average validation loss for the epoch is 0.40208\n"
     ]
    },
    {
     "name": "stderr",
     "output_type": "stream",
     "text": [
      "\r",
      "  6%|▌         | 6/100 [05:52<1:32:00, 58.73s/it]"
     ]
    },
    {
     "name": "stdout",
     "output_type": "stream",
     "text": [
      "Epoch 7\n",
      "\tBatch Loss for curent for 99 is 0.41536\n",
      "The average loss for the epoch is 0.42265645902194277\n",
      "The average validation loss for the epoch is 0.51279\n"
     ]
    },
    {
     "name": "stderr",
     "output_type": "stream",
     "text": [
      "\r",
      "  7%|▋         | 7/100 [06:52<1:31:44, 59.19s/it]"
     ]
    },
    {
     "name": "stdout",
     "output_type": "stream",
     "text": [
      "Epoch 8\n",
      "\tBatch Loss for curent for 99 is 0.42130\n",
      "The average loss for the epoch is 0.4058116536333923\n",
      "The average validation loss for the epoch is 0.33733\n"
     ]
    },
    {
     "name": "stderr",
     "output_type": "stream",
     "text": [
      "\r",
      "  8%|▊         | 8/100 [07:53<1:31:47, 59.86s/it]"
     ]
    },
    {
     "name": "stdout",
     "output_type": "stream",
     "text": [
      "Epoch 9\n",
      "\tBatch Loss for curent for 99 is 0.41600\n",
      "The average loss for the epoch is 0.3954819576590473\n",
      "The average validation loss for the epoch is 0.33532\n"
     ]
    },
    {
     "name": "stderr",
     "output_type": "stream",
     "text": [
      "\r",
      "  9%|▉         | 9/100 [08:51<1:29:48, 59.22s/it]"
     ]
    },
    {
     "name": "stdout",
     "output_type": "stream",
     "text": [
      "Epoch 10\n",
      "\tBatch Loss for curent for 99 is 0.36100\n",
      "The average loss for the epoch is 0.367760700315081\n",
      "The average validation loss for the epoch is 0.32965\n"
     ]
    },
    {
     "name": "stderr",
     "output_type": "stream",
     "text": [
      "\r",
      " 10%|█         | 10/100 [09:49<1:28:28, 58.98s/it]"
     ]
    },
    {
     "name": "stdout",
     "output_type": "stream",
     "text": [
      "Epoch 11\n",
      "\tBatch Loss for curent for 99 is 0.35256\n",
      "The average loss for the epoch is 0.35284948263180815\n",
      "The average validation loss for the epoch is 0.30302\n"
     ]
    },
    {
     "name": "stderr",
     "output_type": "stream",
     "text": [
      "\r",
      " 11%|█         | 11/100 [10:49<1:27:45, 59.16s/it]"
     ]
    },
    {
     "name": "stdout",
     "output_type": "stream",
     "text": [
      "Epoch 12\n",
      "\tBatch Loss for curent for 99 is 0.32843\n",
      "The average loss for the epoch is 0.3427073421122516\n",
      "The average validation loss for the epoch is 0.33613\n"
     ]
    },
    {
     "name": "stderr",
     "output_type": "stream",
     "text": [
      "\r",
      " 12%|█▏        | 12/100 [11:49<1:27:06, 59.40s/it]"
     ]
    },
    {
     "name": "stdout",
     "output_type": "stream",
     "text": [
      "Epoch 13\n",
      "\tBatch Loss for curent for 99 is 0.33724\n",
      "The average loss for the epoch is 0.33377498162042407\n",
      "The average validation loss for the epoch is 0.32028\n"
     ]
    },
    {
     "name": "stderr",
     "output_type": "stream",
     "text": [
      "\r",
      " 13%|█▎        | 13/100 [12:51<1:27:15, 60.18s/it]"
     ]
    },
    {
     "name": "stdout",
     "output_type": "stream",
     "text": [
      "Epoch 14\n",
      "\tBatch Loss for curent for 99 is 0.32152\n",
      "The average loss for the epoch is 0.3222259985994918\n",
      "The average validation loss for the epoch is 0.33439\n"
     ]
    },
    {
     "name": "stderr",
     "output_type": "stream",
     "text": [
      "\r",
      " 14%|█▍        | 14/100 [13:48<1:25:02, 59.34s/it]"
     ]
    },
    {
     "name": "stdout",
     "output_type": "stream",
     "text": [
      "Epoch 15\n",
      "\tBatch Loss for curent for 99 is 0.30595\n",
      "The average loss for the epoch is 0.30899512822403336\n",
      "The average validation loss for the epoch is 0.29219\n"
     ]
    },
    {
     "name": "stderr",
     "output_type": "stream",
     "text": [
      "\r",
      " 15%|█▌        | 15/100 [14:46<1:23:23, 58.86s/it]"
     ]
    },
    {
     "name": "stdout",
     "output_type": "stream",
     "text": [
      "Epoch 16\n",
      "\tBatch Loss for curent for 99 is 0.30832\n",
      "The average loss for the epoch is 0.3070900880229411\n",
      "The average validation loss for the epoch is 0.27164\n"
     ]
    },
    {
     "name": "stderr",
     "output_type": "stream",
     "text": [
      "\r",
      " 16%|█▌        | 16/100 [15:45<1:22:25, 58.88s/it]"
     ]
    },
    {
     "name": "stdout",
     "output_type": "stream",
     "text": [
      "Epoch 17\n",
      "\tBatch Loss for curent for 99 is 0.29158\n",
      "The average loss for the epoch is 0.2924840908244018\n",
      "The average validation loss for the epoch is 0.26924\n"
     ]
    },
    {
     "name": "stderr",
     "output_type": "stream",
     "text": [
      "\r",
      " 17%|█▋        | 17/100 [16:45<1:21:52, 59.19s/it]"
     ]
    },
    {
     "name": "stdout",
     "output_type": "stream",
     "text": [
      "Epoch 18\n",
      "\tBatch Loss for curent for 99 is 0.33420\n",
      "The average loss for the epoch is 0.3372384023447936\n",
      "The average validation loss for the epoch is 0.30523\n"
     ]
    },
    {
     "name": "stderr",
     "output_type": "stream",
     "text": [
      "\r",
      " 18%|█▊        | 18/100 [17:45<1:21:07, 59.36s/it]"
     ]
    },
    {
     "name": "stdout",
     "output_type": "stream",
     "text": [
      "Epoch 19\n",
      "\tBatch Loss for curent for 99 is 0.32084\n",
      "The average loss for the epoch is 0.31371086890472794\n",
      "The average validation loss for the epoch is 0.24880\n"
     ]
    },
    {
     "name": "stderr",
     "output_type": "stream",
     "text": [
      "\r",
      " 19%|█▉        | 19/100 [18:40<1:18:39, 58.27s/it]"
     ]
    },
    {
     "name": "stdout",
     "output_type": "stream",
     "text": [
      "Epoch 20\n",
      "\tBatch Loss for curent for 99 is 0.28355\n",
      "The average loss for the epoch is 0.2812745836392747\n",
      "The average validation loss for the epoch is 0.24740\n"
     ]
    },
    {
     "name": "stderr",
     "output_type": "stream",
     "text": [
      "\r",
      " 20%|██        | 20/100 [19:36<1:16:42, 57.53s/it]"
     ]
    },
    {
     "name": "stdout",
     "output_type": "stream",
     "text": [
      "Epoch 21\n",
      "\tBatch Loss for curent for 99 is 0.29370\n",
      "The average loss for the epoch is 0.2851372379126973\n",
      "The average validation loss for the epoch is 0.22904\n"
     ]
    },
    {
     "name": "stderr",
     "output_type": "stream",
     "text": [
      "\r",
      " 21%|██        | 21/100 [20:32<1:15:05, 57.03s/it]"
     ]
    },
    {
     "name": "stdout",
     "output_type": "stream",
     "text": [
      "Epoch 22\n",
      "\tBatch Loss for curent for 99 is 0.28027\n",
      "The average loss for the epoch is 0.276994836892133\n",
      "The average validation loss for the epoch is 0.24829\n"
     ]
    },
    {
     "name": "stderr",
     "output_type": "stream",
     "text": [
      "\r",
      " 22%|██▏       | 22/100 [21:27<1:13:14, 56.34s/it]"
     ]
    },
    {
     "name": "stdout",
     "output_type": "stream",
     "text": [
      "Epoch 23\n",
      "\tBatch Loss for curent for 99 is 0.27197\n",
      "The average loss for the epoch is 0.27009619312136585\n",
      "The average validation loss for the epoch is 0.22714\n"
     ]
    },
    {
     "name": "stderr",
     "output_type": "stream",
     "text": [
      "\r",
      " 23%|██▎       | 23/100 [22:24<1:12:46, 56.71s/it]"
     ]
    },
    {
     "name": "stdout",
     "output_type": "stream",
     "text": [
      "Epoch 24\n",
      "\tBatch Loss for curent for 99 is 0.26928\n",
      "The average loss for the epoch is 0.26742746084148344\n",
      "The average validation loss for the epoch is 0.23090\n"
     ]
    },
    {
     "name": "stderr",
     "output_type": "stream",
     "text": [
      "\r",
      " 24%|██▍       | 24/100 [23:23<1:12:34, 57.30s/it]"
     ]
    },
    {
     "name": "stdout",
     "output_type": "stream",
     "text": [
      "Epoch 25\n",
      "\tBatch Loss for curent for 99 is 0.26543\n",
      "The average loss for the epoch is 0.2643985934750572\n",
      "The average validation loss for the epoch is 0.26603\n"
     ]
    },
    {
     "name": "stderr",
     "output_type": "stream",
     "text": [
      "\r",
      " 25%|██▌       | 25/100 [24:19<1:11:01, 56.83s/it]"
     ]
    },
    {
     "name": "stdout",
     "output_type": "stream",
     "text": [
      "Epoch 26\n",
      "\tBatch Loss for curent for 99 is 0.25783\n",
      "The average loss for the epoch is 0.2561126737538433\n",
      "The average validation loss for the epoch is 0.23443\n"
     ]
    },
    {
     "name": "stderr",
     "output_type": "stream",
     "text": [
      "\r",
      " 26%|██▌       | 26/100 [25:15<1:09:54, 56.69s/it]"
     ]
    },
    {
     "name": "stdout",
     "output_type": "stream",
     "text": [
      "Epoch 27\n",
      "\tBatch Loss for curent for 99 is 0.24325\n",
      "The average loss for the epoch is 0.25186025815484414\n",
      "The average validation loss for the epoch is 0.21970\n"
     ]
    },
    {
     "name": "stderr",
     "output_type": "stream",
     "text": [
      "\r",
      " 27%|██▋       | 27/100 [26:10<1:08:21, 56.19s/it]"
     ]
    },
    {
     "name": "stdout",
     "output_type": "stream",
     "text": [
      "Epoch 28\n",
      "\tBatch Loss for curent for 99 is 0.27258\n",
      "The average loss for the epoch is 0.26320649004731506\n",
      "The average validation loss for the epoch is 0.21198\n"
     ]
    },
    {
     "name": "stderr",
     "output_type": "stream",
     "text": [
      "\r",
      " 28%|██▊       | 28/100 [27:06<1:07:25, 56.18s/it]"
     ]
    },
    {
     "name": "stdout",
     "output_type": "stream",
     "text": [
      "Epoch 29\n",
      "\tBatch Loss for curent for 99 is 0.26080\n",
      "The average loss for the epoch is 0.25897237986170185\n",
      "The average validation loss for the epoch is 0.25115\n"
     ]
    },
    {
     "name": "stderr",
     "output_type": "stream",
     "text": [
      "\r",
      " 29%|██▉       | 29/100 [28:03<1:06:32, 56.23s/it]"
     ]
    },
    {
     "name": "stdout",
     "output_type": "stream",
     "text": [
      "Epoch 30\n",
      "\tBatch Loss for curent for 99 is 0.25024\n",
      "The average loss for the epoch is 0.25558104611816207\n",
      "The average validation loss for the epoch is 0.22726\n"
     ]
    },
    {
     "name": "stderr",
     "output_type": "stream",
     "text": [
      "\r",
      " 30%|███       | 30/100 [29:01<1:06:28, 56.98s/it]"
     ]
    },
    {
     "name": "stdout",
     "output_type": "stream",
     "text": [
      "Epoch 31\n",
      "\tBatch Loss for curent for 99 is 0.26518\n",
      "The average loss for the epoch is 0.25691173955096\n",
      "The average validation loss for the epoch is 0.21390\n"
     ]
    },
    {
     "name": "stderr",
     "output_type": "stream",
     "text": [
      "\r",
      " 31%|███       | 31/100 [29:57<1:04:58, 56.50s/it]"
     ]
    },
    {
     "name": "stdout",
     "output_type": "stream",
     "text": [
      "Epoch 32\n",
      "\tBatch Loss for curent for 99 is 0.24533\n",
      "The average loss for the epoch is 0.25293682835489045\n",
      "The average validation loss for the epoch is 0.21934\n"
     ]
    },
    {
     "name": "stderr",
     "output_type": "stream",
     "text": [
      "\r",
      " 32%|███▏      | 32/100 [30:52<1:03:39, 56.17s/it]"
     ]
    },
    {
     "name": "stdout",
     "output_type": "stream",
     "text": [
      "Epoch 33\n",
      "\tBatch Loss for curent for 99 is 0.24749\n",
      "The average loss for the epoch is 0.2402463950879911\n",
      "The average validation loss for the epoch is 0.21066\n"
     ]
    },
    {
     "name": "stderr",
     "output_type": "stream",
     "text": [
      "\r",
      " 33%|███▎      | 33/100 [31:48<1:02:34, 56.03s/it]"
     ]
    },
    {
     "name": "stdout",
     "output_type": "stream",
     "text": [
      "Epoch 34\n",
      "\tBatch Loss for curent for 99 is 0.24043\n",
      "The average loss for the epoch is 0.2426514683281564\n",
      "The average validation loss for the epoch is 0.20706\n"
     ]
    },
    {
     "name": "stderr",
     "output_type": "stream",
     "text": [
      "\r",
      " 34%|███▍      | 34/100 [32:43<1:01:12, 55.64s/it]"
     ]
    },
    {
     "name": "stdout",
     "output_type": "stream",
     "text": [
      "Epoch 35\n",
      "\tBatch Loss for curent for 99 is 0.25365\n",
      "The average loss for the epoch is 0.2517318532104892\n",
      "The average validation loss for the epoch is 0.21460\n"
     ]
    },
    {
     "name": "stderr",
     "output_type": "stream",
     "text": [
      "\r",
      " 35%|███▌      | 35/100 [33:38<1:00:13, 55.59s/it]"
     ]
    },
    {
     "name": "stdout",
     "output_type": "stream",
     "text": [
      "Epoch 36\n",
      "\tBatch Loss for curent for 99 is 0.23915\n",
      "The average loss for the epoch is 0.23941432298478033\n",
      "The average validation loss for the epoch is 0.21248\n"
     ]
    },
    {
     "name": "stderr",
     "output_type": "stream",
     "text": [
      "\r",
      " 36%|███▌      | 36/100 [34:38<1:00:38, 56.86s/it]"
     ]
    },
    {
     "name": "stdout",
     "output_type": "stream",
     "text": [
      "Epoch 37\n",
      "\tBatch Loss for curent for 99 is 0.23600\n",
      "The average loss for the epoch is 0.23144849666750245\n",
      "The average validation loss for the epoch is 0.20488\n"
     ]
    },
    {
     "name": "stderr",
     "output_type": "stream",
     "text": [
      "\r",
      " 37%|███▋      | 37/100 [35:34<59:20, 56.52s/it]  "
     ]
    },
    {
     "name": "stdout",
     "output_type": "stream",
     "text": [
      "Epoch 38\n",
      "\tBatch Loss for curent for 99 is 0.23073\n",
      "The average loss for the epoch is 0.22965476252333655\n",
      "The average validation loss for the epoch is 0.20629\n"
     ]
    },
    {
     "name": "stderr",
     "output_type": "stream",
     "text": [
      "\r",
      " 38%|███▊      | 38/100 [36:31<58:32, 56.66s/it]"
     ]
    },
    {
     "name": "stdout",
     "output_type": "stream",
     "text": [
      "Epoch 39\n",
      "\tBatch Loss for curent for 99 is 0.22443\n",
      "The average loss for the epoch is 0.22754773286936794\n",
      "The average validation loss for the epoch is 0.22232\n"
     ]
    },
    {
     "name": "stderr",
     "output_type": "stream",
     "text": [
      "\r",
      " 39%|███▉      | 39/100 [37:27<57:34, 56.62s/it]"
     ]
    },
    {
     "name": "stdout",
     "output_type": "stream",
     "text": [
      "Epoch 40\n",
      "\tBatch Loss for curent for 99 is 0.22804\n",
      "The average loss for the epoch is 0.2277182318777314\n",
      "The average validation loss for the epoch is 0.20800\n"
     ]
    },
    {
     "name": "stderr",
     "output_type": "stream",
     "text": [
      "\r",
      " 40%|████      | 40/100 [38:22<56:08, 56.15s/it]"
     ]
    },
    {
     "name": "stdout",
     "output_type": "stream",
     "text": [
      "Epoch 41\n",
      "\tBatch Loss for curent for 99 is 0.22543\n",
      "The average loss for the epoch is 0.230897331893132\n",
      "The average validation loss for the epoch is 0.20016\n"
     ]
    },
    {
     "name": "stderr",
     "output_type": "stream",
     "text": [
      "\r",
      " 41%|████      | 41/100 [39:18<55:02, 55.97s/it]"
     ]
    },
    {
     "name": "stdout",
     "output_type": "stream",
     "text": [
      "Epoch 42\n",
      "\tBatch Loss for curent for 99 is 0.24918\n",
      "The average loss for the epoch is 0.23827561892139973\n",
      "The average validation loss for the epoch is 0.19624\n"
     ]
    },
    {
     "name": "stderr",
     "output_type": "stream",
     "text": [
      "\r",
      " 42%|████▏     | 42/100 [40:17<55:03, 56.96s/it]"
     ]
    },
    {
     "name": "stdout",
     "output_type": "stream",
     "text": [
      "Epoch 43\n",
      "\tBatch Loss for curent for 99 is 0.23230\n",
      "The average loss for the epoch is 0.2258629325328697\n",
      "The average validation loss for the epoch is 0.19567\n"
     ]
    },
    {
     "name": "stderr",
     "output_type": "stream",
     "text": [
      "\r",
      " 43%|████▎     | 43/100 [41:14<54:01, 56.87s/it]"
     ]
    },
    {
     "name": "stdout",
     "output_type": "stream",
     "text": [
      "Epoch 44\n",
      "\tBatch Loss for curent for 99 is 0.22932\n",
      "The average loss for the epoch is 0.2292007113470457\n",
      "The average validation loss for the epoch is 0.26541\n"
     ]
    },
    {
     "name": "stderr",
     "output_type": "stream",
     "text": [
      "\r",
      " 44%|████▍     | 44/100 [42:14<54:11, 58.06s/it]"
     ]
    },
    {
     "name": "stdout",
     "output_type": "stream",
     "text": [
      "Epoch 45\n",
      "\tBatch Loss for curent for 99 is 0.23900\n",
      "The average loss for the epoch is 0.23387701512943387\n",
      "The average validation loss for the epoch is 0.19166\n"
     ]
    },
    {
     "name": "stderr",
     "output_type": "stream",
     "text": [
      "\r",
      " 45%|████▌     | 45/100 [43:18<54:37, 59.60s/it]"
     ]
    },
    {
     "name": "stdout",
     "output_type": "stream",
     "text": [
      "Epoch 46\n",
      "\tBatch Loss for curent for 99 is 0.23450\n",
      "The average loss for the epoch is 0.22638940007586753\n",
      "The average validation loss for the epoch is 0.20968\n"
     ]
    },
    {
     "name": "stderr",
     "output_type": "stream",
     "text": [
      "\r",
      " 46%|████▌     | 46/100 [44:22<54:52, 60.98s/it]"
     ]
    },
    {
     "name": "stdout",
     "output_type": "stream",
     "text": [
      "Epoch 47\n",
      "\tBatch Loss for curent for 99 is 0.21915\n",
      "The average loss for the epoch is 0.2209026215120136\n",
      "The average validation loss for the epoch is 0.20152\n"
     ]
    },
    {
     "name": "stderr",
     "output_type": "stream",
     "text": [
      "\r",
      " 47%|████▋     | 47/100 [45:27<54:54, 62.17s/it]"
     ]
    },
    {
     "name": "stdout",
     "output_type": "stream",
     "text": [
      "Epoch 48\n",
      "\tBatch Loss for curent for 99 is 0.21064\n",
      "The average loss for the epoch is 0.21795039467942653\n",
      "The average validation loss for the epoch is 0.22197\n"
     ]
    },
    {
     "name": "stderr",
     "output_type": "stream",
     "text": [
      "\r",
      " 48%|████▊     | 48/100 [46:30<54:16, 62.63s/it]"
     ]
    },
    {
     "name": "stdout",
     "output_type": "stream",
     "text": [
      "Epoch 49\n",
      "\tBatch Loss for curent for 99 is 0.21194\n",
      "The average loss for the epoch is 0.21284397710992403\n",
      "The average validation loss for the epoch is 0.19034\n"
     ]
    },
    {
     "name": "stderr",
     "output_type": "stream",
     "text": [
      "\r",
      " 49%|████▉     | 49/100 [47:33<53:17, 62.70s/it]"
     ]
    },
    {
     "name": "stdout",
     "output_type": "stream",
     "text": [
      "Epoch 50\n",
      "\tBatch Loss for curent for 99 is 0.21893\n",
      "The average loss for the epoch is 0.22015132072396304\n",
      "The average validation loss for the epoch is 0.20047\n"
     ]
    },
    {
     "name": "stderr",
     "output_type": "stream",
     "text": [
      "\r",
      " 50%|█████     | 50/100 [48:37<52:23, 62.87s/it]"
     ]
    },
    {
     "name": "stdout",
     "output_type": "stream",
     "text": [
      "Epoch 51\n",
      "\tBatch Loss for curent for 99 is 0.21564\n",
      "The average loss for the epoch is 0.22090904438058742\n",
      "The average validation loss for the epoch is 0.18747\n"
     ]
    },
    {
     "name": "stderr",
     "output_type": "stream",
     "text": [
      "\r",
      " 51%|█████     | 51/100 [49:39<51:17, 62.82s/it]"
     ]
    },
    {
     "name": "stdout",
     "output_type": "stream",
     "text": [
      "Epoch 52\n",
      "\tBatch Loss for curent for 99 is 0.22974\n",
      "The average loss for the epoch is 0.22240753300214938\n",
      "The average validation loss for the epoch is 0.20361\n"
     ]
    },
    {
     "name": "stderr",
     "output_type": "stream",
     "text": [
      "\r",
      " 52%|█████▏    | 52/100 [50:46<51:15, 64.07s/it]"
     ]
    },
    {
     "name": "stdout",
     "output_type": "stream",
     "text": [
      "Epoch 53\n",
      "\tBatch Loss for curent for 99 is 0.21393\n",
      "The average loss for the epoch is 0.2160901564968194\n",
      "The average validation loss for the epoch is 0.19911\n"
     ]
    },
    {
     "name": "stderr",
     "output_type": "stream",
     "text": [
      "\r",
      " 53%|█████▎    | 53/100 [51:51<50:22, 64.31s/it]"
     ]
    },
    {
     "name": "stdout",
     "output_type": "stream",
     "text": [
      "Epoch 54\n",
      "\tBatch Loss for curent for 99 is 0.21287\n",
      "The average loss for the epoch is 0.21113319624780985\n",
      "The average validation loss for the epoch is 0.17213\n"
     ]
    },
    {
     "name": "stderr",
     "output_type": "stream",
     "text": [
      "\r",
      " 54%|█████▍    | 54/100 [52:54<49:01, 63.93s/it]"
     ]
    },
    {
     "name": "stdout",
     "output_type": "stream",
     "text": [
      "Epoch 55\n",
      "\tBatch Loss for curent for 99 is 0.21030\n",
      "The average loss for the epoch is 0.2127253681577313\n",
      "The average validation loss for the epoch is 0.19642\n"
     ]
    },
    {
     "name": "stderr",
     "output_type": "stream",
     "text": [
      "\r",
      " 55%|█████▌    | 55/100 [53:57<47:42, 63.60s/it]"
     ]
    },
    {
     "name": "stdout",
     "output_type": "stream",
     "text": [
      "Epoch 56\n",
      "\tBatch Loss for curent for 99 is 0.20515\n",
      "The average loss for the epoch is 0.21087775906031045\n",
      "The average validation loss for the epoch is 0.18484\n"
     ]
    },
    {
     "name": "stderr",
     "output_type": "stream",
     "text": [
      "\r",
      " 56%|█████▌    | 56/100 [55:00<46:26, 63.33s/it]"
     ]
    },
    {
     "name": "stdout",
     "output_type": "stream",
     "text": [
      "Epoch 57\n",
      "\tBatch Loss for curent for 99 is 0.20223\n",
      "The average loss for the epoch is 0.20896774717650488\n",
      "The average validation loss for the epoch is 0.18581\n"
     ]
    },
    {
     "name": "stderr",
     "output_type": "stream",
     "text": [
      "\r",
      " 57%|█████▋    | 57/100 [56:05<45:49, 63.95s/it]"
     ]
    },
    {
     "name": "stdout",
     "output_type": "stream",
     "text": [
      "Epoch 58\n",
      "\tBatch Loss for curent for 99 is 0.21065\n",
      "The average loss for the epoch is 0.21244040740098005\n",
      "The average validation loss for the epoch is 0.19722\n"
     ]
    },
    {
     "name": "stderr",
     "output_type": "stream",
     "text": [
      "\r",
      " 58%|█████▊    | 58/100 [57:08<44:30, 63.59s/it]"
     ]
    },
    {
     "name": "stdout",
     "output_type": "stream",
     "text": [
      "Epoch 59\n",
      "\tBatch Loss for curent for 99 is 0.20573\n",
      "The average loss for the epoch is 0.20440990107221754\n",
      "The average validation loss for the epoch is 0.20024\n"
     ]
    },
    {
     "name": "stderr",
     "output_type": "stream",
     "text": [
      "\r",
      " 59%|█████▉    | 59/100 [58:11<43:24, 63.52s/it]"
     ]
    },
    {
     "name": "stdout",
     "output_type": "stream",
     "text": [
      "Epoch 60\n",
      "\tBatch Loss for curent for 99 is 0.20880\n",
      "The average loss for the epoch is 0.20869230131828348\n",
      "The average validation loss for the epoch is 0.18511\n"
     ]
    },
    {
     "name": "stderr",
     "output_type": "stream",
     "text": [
      "\r",
      " 60%|██████    | 60/100 [59:14<42:10, 63.27s/it]"
     ]
    },
    {
     "name": "stdout",
     "output_type": "stream",
     "text": [
      "Epoch 61\n",
      "\tBatch Loss for curent for 99 is 0.20824\n",
      "The average loss for the epoch is 0.20611728470362917\n",
      "The average validation loss for the epoch is 0.29923\n"
     ]
    },
    {
     "name": "stderr",
     "output_type": "stream",
     "text": [
      "\r",
      " 61%|██████    | 61/100 [1:00:17<41:08, 63.30s/it]"
     ]
    },
    {
     "name": "stdout",
     "output_type": "stream",
     "text": [
      "Epoch 62\n",
      "\tBatch Loss for curent for 99 is 0.29325\n",
      "The average loss for the epoch is 0.26342463860024956\n",
      "The average validation loss for the epoch is 0.19960\n"
     ]
    },
    {
     "name": "stderr",
     "output_type": "stream",
     "text": [
      "\r",
      " 62%|██████▏   | 62/100 [1:01:23<40:31, 63.98s/it]"
     ]
    },
    {
     "name": "stdout",
     "output_type": "stream",
     "text": [
      "Epoch 63\n",
      "\tBatch Loss for curent for 99 is 0.21592\n",
      "The average loss for the epoch is 0.21101295222474642\n",
      "The average validation loss for the epoch is 0.18217\n"
     ]
    },
    {
     "name": "stderr",
     "output_type": "stream",
     "text": [
      "\r",
      " 63%|██████▎   | 63/100 [1:02:26<39:19, 63.77s/it]"
     ]
    },
    {
     "name": "stdout",
     "output_type": "stream",
     "text": [
      "Epoch 64\n",
      "\tBatch Loss for curent for 99 is 0.20597\n",
      "The average loss for the epoch is 0.20790865650663826\n",
      "The average validation loss for the epoch is 0.18178\n"
     ]
    },
    {
     "name": "stderr",
     "output_type": "stream",
     "text": [
      "\r",
      " 64%|██████▍   | 64/100 [1:03:30<38:12, 63.68s/it]"
     ]
    },
    {
     "name": "stdout",
     "output_type": "stream",
     "text": [
      "Epoch 65\n",
      "\tBatch Loss for curent for 99 is 0.20975\n",
      "The average loss for the epoch is 0.20954032460744468\n",
      "The average validation loss for the epoch is 0.19366\n"
     ]
    },
    {
     "name": "stderr",
     "output_type": "stream",
     "text": [
      "\r",
      " 65%|██████▌   | 65/100 [1:04:32<36:56, 63.33s/it]"
     ]
    },
    {
     "name": "stdout",
     "output_type": "stream",
     "text": [
      "Epoch 66\n",
      "\tBatch Loss for curent for 99 is 0.20113\n",
      "The average loss for the epoch is 0.20390134191637888\n",
      "The average validation loss for the epoch is 0.25275\n"
     ]
    },
    {
     "name": "stderr",
     "output_type": "stream",
     "text": [
      "\r",
      " 66%|██████▌   | 66/100 [1:05:36<35:55, 63.39s/it]"
     ]
    },
    {
     "name": "stdout",
     "output_type": "stream",
     "text": [
      "Epoch 67\n",
      "\tBatch Loss for curent for 99 is 0.25781\n",
      "The average loss for the epoch is 0.23930224651441523\n",
      "The average validation loss for the epoch is 0.21350\n"
     ]
    },
    {
     "name": "stderr",
     "output_type": "stream",
     "text": [
      "\r",
      " 67%|██████▋   | 67/100 [1:06:41<35:07, 63.86s/it]"
     ]
    },
    {
     "name": "stdout",
     "output_type": "stream",
     "text": [
      "Epoch 68\n",
      "\tBatch Loss for curent for 99 is 0.21473\n",
      "The average loss for the epoch is 0.21423597548020448\n",
      "The average validation loss for the epoch is 0.19946\n"
     ]
    },
    {
     "name": "stderr",
     "output_type": "stream",
     "text": [
      "\r",
      " 68%|██████▊   | 68/100 [1:07:44<34:01, 63.80s/it]"
     ]
    },
    {
     "name": "stdout",
     "output_type": "stream",
     "text": [
      "Epoch 69\n",
      "\tBatch Loss for curent for 99 is 0.20250\n",
      "The average loss for the epoch is 0.20792498540971915\n",
      "The average validation loss for the epoch is 0.18765\n"
     ]
    },
    {
     "name": "stderr",
     "output_type": "stream",
     "text": [
      "\r",
      " 69%|██████▉   | 69/100 [1:08:47<32:45, 63.41s/it]"
     ]
    },
    {
     "name": "stdout",
     "output_type": "stream",
     "text": [
      "Epoch 70\n",
      "\tBatch Loss for curent for 99 is 0.19657\n",
      "The average loss for the epoch is 0.19798756386909186\n",
      "The average validation loss for the epoch is 0.18582\n"
     ]
    },
    {
     "name": "stderr",
     "output_type": "stream",
     "text": [
      "\r",
      " 70%|███████   | 70/100 [1:09:49<31:31, 63.05s/it]"
     ]
    },
    {
     "name": "stdout",
     "output_type": "stream",
     "text": [
      "Epoch 71\n",
      "\tBatch Loss for curent for 99 is 0.20980\n",
      "The average loss for the epoch is 0.2038545986900779\n",
      "The average validation loss for the epoch is 0.18042\n"
     ]
    },
    {
     "name": "stderr",
     "output_type": "stream",
     "text": [
      "\r",
      " 71%|███████   | 71/100 [1:10:52<30:31, 63.15s/it]"
     ]
    },
    {
     "name": "stdout",
     "output_type": "stream",
     "text": [
      "Epoch 72\n",
      "\tBatch Loss for curent for 99 is 0.20107\n",
      "The average loss for the epoch is 0.1997206766567929\n",
      "The average validation loss for the epoch is 0.18095\n"
     ]
    },
    {
     "name": "stderr",
     "output_type": "stream",
     "text": [
      "\r",
      " 72%|███████▏  | 72/100 [1:11:57<29:39, 63.55s/it]"
     ]
    },
    {
     "name": "stdout",
     "output_type": "stream",
     "text": [
      "Epoch 73\n",
      "\tBatch Loss for curent for 99 is 0.19089\n",
      "The average loss for the epoch is 0.19961648594334488\n",
      "The average validation loss for the epoch is 0.19108\n"
     ]
    },
    {
     "name": "stderr",
     "output_type": "stream",
     "text": [
      "\r",
      " 73%|███████▎  | 73/100 [1:13:00<28:33, 63.46s/it]"
     ]
    },
    {
     "name": "stdout",
     "output_type": "stream",
     "text": [
      "Epoch 74\n",
      "\tBatch Loss for curent for 99 is 0.19725\n",
      "The average loss for the epoch is 0.1992686369032136\n",
      "The average validation loss for the epoch is 0.18218\n"
     ]
    },
    {
     "name": "stderr",
     "output_type": "stream",
     "text": [
      "\r",
      " 74%|███████▍  | 74/100 [1:14:03<27:26, 63.32s/it]"
     ]
    },
    {
     "name": "stdout",
     "output_type": "stream",
     "text": [
      "Epoch 75\n",
      "\tBatch Loss for curent for 99 is 0.21132\n",
      "The average loss for the epoch is 0.20838753527995804\n",
      "The average validation loss for the epoch is 0.20072\n"
     ]
    },
    {
     "name": "stderr",
     "output_type": "stream",
     "text": [
      "\r",
      " 75%|███████▌  | 75/100 [1:15:06<26:19, 63.18s/it]"
     ]
    },
    {
     "name": "stdout",
     "output_type": "stream",
     "text": [
      "Epoch 76\n",
      "\tBatch Loss for curent for 99 is 0.19489\n",
      "The average loss for the epoch is 0.1955290801081982\n",
      "The average validation loss for the epoch is 0.18401\n"
     ]
    },
    {
     "name": "stderr",
     "output_type": "stream",
     "text": [
      "\r",
      " 76%|███████▌  | 76/100 [1:16:10<25:22, 63.45s/it]"
     ]
    },
    {
     "name": "stdout",
     "output_type": "stream",
     "text": [
      "Epoch 77\n",
      "\tBatch Loss for curent for 99 is 0.20329\n",
      "The average loss for the epoch is 0.19932561941171817\n",
      "The average validation loss for the epoch is 0.18097\n"
     ]
    },
    {
     "name": "stderr",
     "output_type": "stream",
     "text": [
      "\r",
      " 77%|███████▋  | 77/100 [1:17:14<24:24, 63.67s/it]"
     ]
    },
    {
     "name": "stdout",
     "output_type": "stream",
     "text": [
      "Epoch 78\n",
      "\tBatch Loss for curent for 99 is 0.22306\n",
      "The average loss for the epoch is 0.21629903500616862\n",
      "The average validation loss for the epoch is 0.19427\n"
     ]
    },
    {
     "name": "stderr",
     "output_type": "stream",
     "text": [
      "\r",
      " 78%|███████▊  | 78/100 [1:18:18<23:20, 63.64s/it]"
     ]
    },
    {
     "name": "stdout",
     "output_type": "stream",
     "text": [
      "Epoch 79\n",
      "\tBatch Loss for curent for 99 is 0.19428\n",
      "The average loss for the epoch is 0.19487645683800361\n",
      "The average validation loss for the epoch is 0.19638\n"
     ]
    },
    {
     "name": "stderr",
     "output_type": "stream",
     "text": [
      "\r",
      " 79%|███████▉  | 79/100 [1:19:21<22:11, 63.40s/it]"
     ]
    },
    {
     "name": "stdout",
     "output_type": "stream",
     "text": [
      "Epoch 80\n",
      "\tBatch Loss for curent for 99 is 0.19344\n",
      "The average loss for the epoch is 0.1959918632869321\n",
      "The average validation loss for the epoch is 0.20298\n"
     ]
    },
    {
     "name": "stderr",
     "output_type": "stream",
     "text": [
      "\r",
      " 80%|████████  | 80/100 [1:20:22<20:58, 62.93s/it]"
     ]
    },
    {
     "name": "stdout",
     "output_type": "stream",
     "text": [
      "Epoch 81\n",
      "\tBatch Loss for curent for 99 is 0.18619\n",
      "The average loss for the epoch is 0.1915527219391618\n",
      "The average validation loss for the epoch is 0.17002\n"
     ]
    },
    {
     "name": "stderr",
     "output_type": "stream",
     "text": [
      "\r",
      " 81%|████████  | 81/100 [1:21:27<20:03, 63.33s/it]"
     ]
    },
    {
     "name": "stdout",
     "output_type": "stream",
     "text": [
      "Epoch 82\n",
      "\tBatch Loss for curent for 99 is 0.18786\n",
      "The average loss for the epoch is 0.1926665632980656\n",
      "The average validation loss for the epoch is 0.20219\n"
     ]
    },
    {
     "name": "stderr",
     "output_type": "stream",
     "text": [
      "\r",
      " 82%|████████▏ | 82/100 [1:22:31<19:06, 63.70s/it]"
     ]
    },
    {
     "name": "stdout",
     "output_type": "stream",
     "text": [
      "Epoch 83\n",
      "\tBatch Loss for curent for 99 is 0.19386\n",
      "The average loss for the epoch is 0.19134952315173223\n",
      "The average validation loss for the epoch is 0.19436\n"
     ]
    },
    {
     "name": "stderr",
     "output_type": "stream",
     "text": [
      "\r",
      " 83%|████████▎ | 83/100 [1:23:35<18:03, 63.72s/it]"
     ]
    },
    {
     "name": "stdout",
     "output_type": "stream",
     "text": [
      "Epoch 84\n",
      "\tBatch Loss for curent for 99 is 0.19738\n",
      "The average loss for the epoch is 0.1936314180103272\n",
      "The average validation loss for the epoch is 0.16822\n"
     ]
    },
    {
     "name": "stderr",
     "output_type": "stream",
     "text": [
      "\r",
      " 84%|████████▍ | 84/100 [1:24:38<16:56, 63.54s/it]"
     ]
    },
    {
     "name": "stdout",
     "output_type": "stream",
     "text": [
      "Epoch 85\n",
      "\tBatch Loss for curent for 99 is 0.19622\n",
      "The average loss for the epoch is 0.19278853870343163\n",
      "The average validation loss for the epoch is 0.16636\n"
     ]
    },
    {
     "name": "stderr",
     "output_type": "stream",
     "text": [
      "\r",
      " 85%|████████▌ | 85/100 [1:25:41<15:50, 63.37s/it]"
     ]
    },
    {
     "name": "stdout",
     "output_type": "stream",
     "text": [
      "Epoch 86\n",
      "\tBatch Loss for curent for 99 is 0.18327\n",
      "The average loss for the epoch is 0.18302865856917117\n",
      "The average validation loss for the epoch is 0.17562\n"
     ]
    },
    {
     "name": "stderr",
     "output_type": "stream",
     "text": [
      "\r",
      " 86%|████████▌ | 86/100 [1:26:45<14:47, 63.40s/it]"
     ]
    },
    {
     "name": "stdout",
     "output_type": "stream",
     "text": [
      "Epoch 87\n",
      "\tBatch Loss for curent for 99 is 0.18780\n",
      "The average loss for the epoch is 0.18647987684186215\n",
      "The average validation loss for the epoch is 0.19229\n"
     ]
    },
    {
     "name": "stderr",
     "output_type": "stream",
     "text": [
      "\r",
      " 87%|████████▋ | 87/100 [1:27:51<13:57, 64.42s/it]"
     ]
    },
    {
     "name": "stdout",
     "output_type": "stream",
     "text": [
      "Epoch 88\n",
      "\tBatch Loss for curent for 99 is 0.18833\n",
      "The average loss for the epoch is 0.192285469221195\n",
      "The average validation loss for the epoch is 0.18624\n"
     ]
    },
    {
     "name": "stderr",
     "output_type": "stream",
     "text": [
      "\r",
      " 88%|████████▊ | 88/100 [1:28:54<12:45, 63.75s/it]"
     ]
    },
    {
     "name": "stdout",
     "output_type": "stream",
     "text": [
      "Epoch 89\n",
      "\tBatch Loss for curent for 99 is 0.18890\n",
      "The average loss for the epoch is 0.19085675793948598\n",
      "The average validation loss for the epoch is 0.23050\n"
     ]
    },
    {
     "name": "stderr",
     "output_type": "stream",
     "text": [
      "\r",
      " 89%|████████▉ | 89/100 [1:29:57<11:40, 63.66s/it]"
     ]
    },
    {
     "name": "stdout",
     "output_type": "stream",
     "text": [
      "Epoch 90\n",
      "\tBatch Loss for curent for 99 is 0.18531\n",
      "The average loss for the epoch is 0.18576583617332718\n",
      "The average validation loss for the epoch is 0.17318\n"
     ]
    },
    {
     "name": "stderr",
     "output_type": "stream",
     "text": [
      "\r",
      " 90%|█████████ | 90/100 [1:31:01<10:37, 63.80s/it]"
     ]
    },
    {
     "name": "stdout",
     "output_type": "stream",
     "text": [
      "Epoch 91\n",
      "\tBatch Loss for curent for 99 is 0.18147\n",
      "The average loss for the epoch is 0.18385134450116083\n",
      "The average validation loss for the epoch is 0.17052\n"
     ]
    },
    {
     "name": "stderr",
     "output_type": "stream",
     "text": [
      "\r",
      " 91%|█████████ | 91/100 [1:32:03<09:27, 63.07s/it]"
     ]
    },
    {
     "name": "stdout",
     "output_type": "stream",
     "text": [
      "Epoch 92\n",
      "\tBatch Loss for curent for 99 is 0.17978\n",
      "The average loss for the epoch is 0.17966829427561834\n",
      "The average validation loss for the epoch is 0.16976\n"
     ]
    },
    {
     "name": "stderr",
     "output_type": "stream",
     "text": [
      "\r",
      " 92%|█████████▏| 92/100 [1:33:07<08:28, 63.59s/it]"
     ]
    },
    {
     "name": "stdout",
     "output_type": "stream",
     "text": [
      "Epoch 93\n",
      "\tBatch Loss for curent for 99 is 0.18567\n",
      "The average loss for the epoch is 0.1841825380219215\n",
      "The average validation loss for the epoch is 0.17104\n"
     ]
    },
    {
     "name": "stderr",
     "output_type": "stream",
     "text": [
      "\r",
      " 93%|█████████▎| 93/100 [1:34:10<07:23, 63.35s/it]"
     ]
    },
    {
     "name": "stdout",
     "output_type": "stream",
     "text": [
      "Epoch 94\n",
      "\tBatch Loss for curent for 99 is 0.17941\n",
      "The average loss for the epoch is 0.18154611446314456\n",
      "The average validation loss for the epoch is 0.16992\n"
     ]
    },
    {
     "name": "stderr",
     "output_type": "stream",
     "text": [
      "\r",
      " 94%|█████████▍| 94/100 [1:35:13<06:20, 63.35s/it]"
     ]
    },
    {
     "name": "stdout",
     "output_type": "stream",
     "text": [
      "Epoch 95\n",
      "\tBatch Loss for curent for 99 is 0.17777\n",
      "The average loss for the epoch is 0.18504279754392763\n",
      "The average validation loss for the epoch is 0.17757\n"
     ]
    },
    {
     "name": "stderr",
     "output_type": "stream",
     "text": [
      "\r",
      " 95%|█████████▌| 95/100 [1:36:17<05:16, 63.25s/it]"
     ]
    },
    {
     "name": "stdout",
     "output_type": "stream",
     "text": [
      "Epoch 96\n",
      "\tBatch Loss for curent for 99 is 0.18001\n",
      "The average loss for the epoch is 0.183332672761997\n",
      "The average validation loss for the epoch is 0.17815\n"
     ]
    },
    {
     "name": "stderr",
     "output_type": "stream",
     "text": [
      "\r",
      " 96%|█████████▌| 96/100 [1:37:19<04:12, 63.15s/it]"
     ]
    },
    {
     "name": "stdout",
     "output_type": "stream",
     "text": [
      "Epoch 97\n",
      "\tBatch Loss for curent for 99 is 0.17935\n",
      "The average loss for the epoch is 0.18342994500673254\n",
      "The average validation loss for the epoch is 0.17485\n"
     ]
    },
    {
     "name": "stderr",
     "output_type": "stream",
     "text": [
      "\r",
      " 97%|█████████▋| 97/100 [1:38:24<03:10, 63.48s/it]"
     ]
    },
    {
     "name": "stdout",
     "output_type": "stream",
     "text": [
      "Epoch 98\n",
      "\tBatch Loss for curent for 99 is 0.17848\n",
      "The average loss for the epoch is 0.18228843570223655\n",
      "The average validation loss for the epoch is 0.19143\n"
     ]
    },
    {
     "name": "stderr",
     "output_type": "stream",
     "text": [
      "\r",
      " 98%|█████████▊| 98/100 [1:39:28<02:07, 63.66s/it]"
     ]
    },
    {
     "name": "stdout",
     "output_type": "stream",
     "text": [
      "Epoch 99\n",
      "\tBatch Loss for curent for 99 is 0.17038\n",
      "The average loss for the epoch is 0.17737404939703916\n",
      "The average validation loss for the epoch is 0.18253\n"
     ]
    },
    {
     "name": "stderr",
     "output_type": "stream",
     "text": [
      "\r",
      " 99%|█████████▉| 99/100 [1:40:32<01:03, 63.69s/it]"
     ]
    },
    {
     "name": "stdout",
     "output_type": "stream",
     "text": [
      "Epoch 100\n",
      "\tBatch Loss for curent for 99 is 0.19330\n",
      "The average loss for the epoch is 0.18769558324083607\n",
      "The average validation loss for the epoch is 0.17330\n"
     ]
    },
    {
     "name": "stderr",
     "output_type": "stream",
     "text": [
      "100%|██████████| 100/100 [1:41:34<00:00, 60.95s/it]\n"
     ]
    }
   ],
   "source": [
    "train()"
   ]
  },
  {
   "cell_type": "code",
   "execution_count": 51,
   "metadata": {},
   "outputs": [],
   "source": [
    "torch.cuda.empty_cache()"
   ]
  },
  {
   "cell_type": "code",
   "execution_count": 52,
   "metadata": {},
   "outputs": [],
   "source": [
    "def diceScoreMulti(inputs,targets,num_class = 4):\n",
    "    epsilon = 1e-6\n",
    "    #print('pred tensor size ',inputs.size())\n",
    "#     inputs = torch.nn.Softmax(dim = 1)(inputs)\n",
    "#     #print('pred tensor size after softmax',inputs.size())\n",
    "#     _,y_pred_idx = torch.max(inputs,dim = 1)\n",
    "    dice_scores = []\n",
    "    for class_idx in range(num_class):\n",
    "        y_true_class = (targets == class_idx).float()\n",
    "        y_pred_class = (y_pred_idx == class_idx).float()\n",
    "\n",
    "        intersection = torch.sum(y_true_class * y_pred_class, dim = (1,2))\n",
    "        total = torch.sum(y_true_class,dim = (1,2)) + torch.sum(y_pred_class,dim= (1,2))\n",
    "        dice = (2. * intersection + epsilon)/(total+epsilon)\n",
    "        dice_scores.append(torch.mean(dice).item()) # getting mean across batches of particular class\n",
    "    average_dice = torch.mean(torch.tensor(dice_scores)) # getting mean across classes\n",
    "    return average_dice"
   ]
  },
  {
   "cell_type": "code",
   "execution_count": 53,
   "metadata": {},
   "outputs": [],
   "source": [
    "test_dir = '/home/UFAD/s.kapoor/GrainGrowth/skapoor/dl_mis/ACDC/test_files'\n",
    "total_test_files = []\n",
    "for file in os.listdir(test_dir):\n",
    "    if file.endswith('.npy'):\n",
    "        total_test_files.append(os.path.join(test_dir,file))"
   ]
  },
  {
   "cell_type": "code",
   "execution_count": 54,
   "metadata": {},
   "outputs": [
    {
     "name": "stdout",
     "output_type": "stream",
     "text": [
      "The average dice score is 0.6793287411941472\n"
     ]
    }
   ],
   "source": [
    "# visualize the mask outputs\n",
    "use_cuda = torch.cuda.is_available()\n",
    "device = torch.device(\"cuda:0\" if use_cuda else \"cpu\")\n",
    "\n",
    "#     train_data = SegData(image_paths = train_img,mask_paths=train_mask,img_mean=[129.908, 129.908, 129.908],img_std=[64.484, 64.484, 64.484])\n",
    "#valid_data = SegData(image_paths = valid_img,mask_paths=valid_mask,img_mean=[129.908, 129.908, 129.908],img_std=[64.484, 64.484, 64.484])\n",
    "test_data = SegDataNp(image_paths = total_test_files,img_mean=90,img_std=101)\n",
    "model_vis = TransUNet(img_dim=128,\n",
    "                      in_channels=1,\n",
    "                      out_channels=128,\n",
    "                      head_num=4,\n",
    "                      mlp_dim=512,\n",
    "                      block_num=8,\n",
    "                      patch_dim=16,\n",
    "                      class_num=4)\n",
    "model_vis_path = '/home/UFAD/s.kapoor/GrainGrowth/skapoor/dl_mis/COVID-19_Radiography_Dataset/UNET/model_q3_transunet/weigths/best_epoch43'\n",
    "model_vis.load_state_dict(torch.load(model_vis_path))\n",
    "model_vis.to(device)\n",
    "model_vis.eval()\n",
    "dice_scores = []\n",
    "\n",
    "test_dataloader = DataLoader(test_data,batch_size = 1,shuffle = True,pin_memory = True)\n",
    "for k,batch in enumerate(test_dataloader):\n",
    "    final_image = torch.unsqueeze(batch['image'],1).to(device)\n",
    "    final_mask = batch['mask'].to(device)\n",
    "\n",
    "    pred = model_vis.forward(final_image)\n",
    "    pred = torch.nn.Softmax(dim = 1)(pred)\n",
    "    #print('pred tensor size after softmax',inputs.size())\n",
    "    _,y_pred_idx = torch.max(pred,dim = 1)\n",
    "    dice_score = diceScoreMulti(y_pred_idx,final_mask)\n",
    "    dice_scores.append(dice_score.item())\n",
    "    #print('the dice score is {0}'.format(dice_score.item()))\n",
    "\n",
    "print('The average dice score is {0}'.format(np.mean(np.array(dice_scores))))"
   ]
  },
  {
   "cell_type": "code",
   "execution_count": 55,
   "metadata": {},
   "outputs": [
    {
     "data": {
      "text/plain": [
       "Text(0.5, 1.0, 'pred mask')"
      ]
     },
     "execution_count": 55,
     "metadata": {},
     "output_type": "execute_result"
    },
    {
     "data": {
      "image/png": "[encoded data removed]",
      "text/plain": [
       "<Figure size 864x288 with 1 Axes>"
      ]
     },
     "metadata": {
      "needs_background": "light"
     },
     "output_type": "display_data"
    },
    {
     "data": {
      "image/png": "[encoded data removed]",
      "text/plain": [
       "<Figure size 864x288 with 1 Axes>"
      ]
     },
     "metadata": {
      "needs_background": "light"
     },
     "output_type": "display_data"
    },
    {
     "data": {
      "image/png": "[encoded data removed]",
      "text/plain": [
       "<Figure size 864x288 with 1 Axes>"
      ]
     },
     "metadata": {
      "needs_background": "light"
     },
     "output_type": "display_data"
    }
   ],
   "source": [
    "final_image_transpose = torch.squeeze(final_image).cpu().detach().numpy()\n",
    "                                \n",
    "final_mask_transpose = torch.squeeze(final_mask).cpu().detach().numpy()\n",
    "\n",
    "pred_image_transpose = torch.squeeze(y_pred_idx).cpu().detach().numpy()\n",
    "\n",
    "\n",
    "                                \n",
    "                                \n",
    "plt.figure(figsize = (12,4))\n",
    "plt.subplot(1,3,1)\n",
    "plt.imshow(final_image_transpose)\n",
    "plt.title('orignal image')\n",
    "\n",
    "plt.figure(figsize = (12,4))\n",
    "plt.subplot(1,3,2)\n",
    "plt.imshow(final_mask_transpose)\n",
    "plt.title('orignal mask')\n",
    "\n",
    "plt.figure(figsize = (12,4))\n",
    "plt.subplot(1,3,3)\n",
    "plt.imshow(pred_image_transpose)\n",
    "plt.title('pred mask')"
   ]
  },
  {
   "cell_type": "code",
   "execution_count": null,
   "metadata": {},
   "outputs": [],
   "source": []
  }
 ],
 "metadata": {
  "kernelspec": {
   "display_name": "Python 3",
   "language": "python",
   "name": "python3"
  },
  "language_info": {
   "codemirror_mode": {
    "name": "ipython",
    "version": 3
   },
   "file_extension": ".py",
   "mimetype": "text/x-python",
   "name": "python",
   "nbconvert_exporter": "python",
   "pygments_lexer": "ipython3",
   "version": "3.8.8"
  }
 },
 "nbformat": 4,
 "nbformat_minor": 2
}
